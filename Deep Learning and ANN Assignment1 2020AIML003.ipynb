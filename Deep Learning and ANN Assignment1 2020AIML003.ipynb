{
 "cells": [
  {
   "cell_type": "markdown",
   "id": "41cc3523",
   "metadata": {
    "toc": true
   },
   "source": [
    "<h1>Table of Contents<span class=\"tocSkip\"></span></h1>\n",
    "<div class=\"toc\"><ul class=\"toc-item\"><li><span><a href=\"#Import-required-libraries---2-Marks\" data-toc-modified-id=\"Import-required-libraries---2-Marks-1\"><span class=\"toc-item-num\">1&nbsp;&nbsp;</span>Import required libraries - 2 Marks</a></span></li><li><span><a href=\"#Read-dataset-and-perfom-Text-processing-for-the-tweets-(-Remove-Stop-words-,-special-characters-and-convert-the-text-to-lowercase-)---3-Mark\" data-toc-modified-id=\"Read-dataset-and-perfom-Text-processing-for-the-tweets-(-Remove-Stop-words-,-special-characters-and-convert-the-text-to-lowercase-)---3-Mark-2\"><span class=\"toc-item-num\">2&nbsp;&nbsp;</span>Read dataset and perfom Text processing for the tweets ( Remove Stop words , special characters and convert the text to lowercase ) - 3 Mark</a></span></li><li><span><a href=\"#Using-the-train_test_split-function-of-Sklearn,-Split-train-and-test-dataset---1-Mark\" data-toc-modified-id=\"Using-the-train_test_split-function-of-Sklearn,-Split-train-and-test-dataset---1-Mark-3\"><span class=\"toc-item-num\">3&nbsp;&nbsp;</span>Using the train_test_split function of Sklearn, Split train and test dataset - 1 Mark</a></span></li><li><span><a href=\"#Create-pipeline-and-define-parameters-for-GridSearch---1-Mark\" data-toc-modified-id=\"Create-pipeline-and-define-parameters-for-GridSearch---1-Mark-4\"><span class=\"toc-item-num\">4&nbsp;&nbsp;</span>Create pipeline and define parameters for GridSearch - 1 Mark</a></span></li><li><span><a href=\"#Perform-classification-(using-GridSearch)---3-Mark\" data-toc-modified-id=\"Perform-classification-(using-GridSearch)---3-Mark-5\"><span class=\"toc-item-num\">5&nbsp;&nbsp;</span>Perform classification (using GridSearch) - 3 Mark</a></span></li><li><span><a href=\"#Print-the-confusion-matrix,-accuracy,-F1-score-on-the-test-dataset---2-Mark\" data-toc-modified-id=\"Print-the-confusion-matrix,-accuracy,-F1-score-on-the-test-dataset---2-Mark-6\"><span class=\"toc-item-num\">6&nbsp;&nbsp;</span>Print the confusion matrix, accuracy, F1 score on the test dataset - 2 Mark</a></span></li><li><span><a href=\"#References\" data-toc-modified-id=\"References-7\"><span class=\"toc-item-num\">7&nbsp;&nbsp;</span>References</a></span></li><li><span><a href=\"#Assignment-Information---Sentiment-Analysis-Using-Naive-Bayes\" data-toc-modified-id=\"Assignment-Information---Sentiment-Analysis-Using-Naive-Bayes-8\"><span class=\"toc-item-num\">8&nbsp;&nbsp;</span>Assignment Information - Sentiment Analysis Using Naive Bayes</a></span></li><li><span><a href=\"#Student-Information\" data-toc-modified-id=\"Student-Information-9\"><span class=\"toc-item-num\">9&nbsp;&nbsp;</span>Student Information</a></span></li></ul></div>"
   ]
  },
  {
   "cell_type": "markdown",
   "id": "b339ded5",
   "metadata": {},
   "source": [
    "# Import required libraries - 2 Marks"
   ]
  },
  {
   "cell_type": "code",
   "execution_count": 1,
   "id": "12a259d7",
   "metadata": {},
   "outputs": [],
   "source": [
    "import nltk\n",
    "import pandas as pd\n",
    "import re\n",
    "import seaborn as sns\n",
    "import string\n",
    "\n",
    "from matplotlib import pyplot as plt\n",
    "from nltk.corpus import stopwords\n",
    "from nltk.tokenize import word_tokenize\n",
    "from sklearn.feature_extraction.text import CountVectorizer, TfidfTransformer\n",
    "from sklearn.linear_model import SGDClassifier\n",
    "from sklearn.metrics import accuracy_score, f1_score, confusion_matrix, plot_confusion_matrix\n",
    "from sklearn.model_selection import GridSearchCV, train_test_split\n",
    "from sklearn.naive_bayes import ComplementNB, MultinomialNB\n",
    "from sklearn.pipeline import Pipeline\n",
    "from sklearn.svm import LinearSVC"
   ]
  },
  {
   "cell_type": "markdown",
   "id": "881c695e",
   "metadata": {},
   "source": [
    "# Read dataset and perfom Text processing for the tweets ( Remove Stop words , special characters and convert the text to lowercase ) - 3 Mark"
   ]
  },
  {
   "cell_type": "code",
   "execution_count": 2,
   "id": "57f41283",
   "metadata": {},
   "outputs": [],
   "source": [
    "# Let's read the input dataset/text\n",
    "df = pd.read_csv(\"Corona_NLP_train.csv\")"
   ]
  },
  {
   "cell_type": "code",
   "execution_count": 3,
   "id": "923be827",
   "metadata": {},
   "outputs": [
    {
     "data": {
      "text/html": [
       "<div>\n",
       "<style scoped>\n",
       "    .dataframe tbody tr th:only-of-type {\n",
       "        vertical-align: middle;\n",
       "    }\n",
       "\n",
       "    .dataframe tbody tr th {\n",
       "        vertical-align: top;\n",
       "    }\n",
       "\n",
       "    .dataframe thead th {\n",
       "        text-align: right;\n",
       "    }\n",
       "</style>\n",
       "<table border=\"1\" class=\"dataframe\">\n",
       "  <thead>\n",
       "    <tr style=\"text-align: right;\">\n",
       "      <th></th>\n",
       "      <th>UserName</th>\n",
       "      <th>ScreenName</th>\n",
       "      <th>Location</th>\n",
       "      <th>TweetAt</th>\n",
       "      <th>OriginalTweet</th>\n",
       "      <th>Sentiment</th>\n",
       "    </tr>\n",
       "  </thead>\n",
       "  <tbody>\n",
       "    <tr>\n",
       "      <th>0</th>\n",
       "      <td>3799</td>\n",
       "      <td>48751</td>\n",
       "      <td>London</td>\n",
       "      <td>16-03-2020</td>\n",
       "      <td>@MeNyrbie @Phil_Gahan @Chrisitv https://t.co/i...</td>\n",
       "      <td>Neutral</td>\n",
       "    </tr>\n",
       "    <tr>\n",
       "      <th>1</th>\n",
       "      <td>3800</td>\n",
       "      <td>48752</td>\n",
       "      <td>UK</td>\n",
       "      <td>16-03-2020</td>\n",
       "      <td>advice Talk to your neighbours family to excha...</td>\n",
       "      <td>Positive</td>\n",
       "    </tr>\n",
       "    <tr>\n",
       "      <th>2</th>\n",
       "      <td>3801</td>\n",
       "      <td>48753</td>\n",
       "      <td>Vagabonds</td>\n",
       "      <td>16-03-2020</td>\n",
       "      <td>Coronavirus Australia: Woolworths to give elde...</td>\n",
       "      <td>Positive</td>\n",
       "    </tr>\n",
       "    <tr>\n",
       "      <th>3</th>\n",
       "      <td>3802</td>\n",
       "      <td>48754</td>\n",
       "      <td>NaN</td>\n",
       "      <td>16-03-2020</td>\n",
       "      <td>My food stock is not the only one which is emp...</td>\n",
       "      <td>Positive</td>\n",
       "    </tr>\n",
       "    <tr>\n",
       "      <th>4</th>\n",
       "      <td>3803</td>\n",
       "      <td>48755</td>\n",
       "      <td>NaN</td>\n",
       "      <td>16-03-2020</td>\n",
       "      <td>Me, ready to go at supermarket during the #COV...</td>\n",
       "      <td>Extremely Negative</td>\n",
       "    </tr>\n",
       "  </tbody>\n",
       "</table>\n",
       "</div>"
      ],
      "text/plain": [
       "   UserName  ScreenName   Location     TweetAt  \\\n",
       "0      3799       48751     London  16-03-2020   \n",
       "1      3800       48752         UK  16-03-2020   \n",
       "2      3801       48753  Vagabonds  16-03-2020   \n",
       "3      3802       48754        NaN  16-03-2020   \n",
       "4      3803       48755        NaN  16-03-2020   \n",
       "\n",
       "                                       OriginalTweet           Sentiment  \n",
       "0  @MeNyrbie @Phil_Gahan @Chrisitv https://t.co/i...             Neutral  \n",
       "1  advice Talk to your neighbours family to excha...            Positive  \n",
       "2  Coronavirus Australia: Woolworths to give elde...            Positive  \n",
       "3  My food stock is not the only one which is emp...            Positive  \n",
       "4  Me, ready to go at supermarket during the #COV...  Extremely Negative  "
      ]
     },
     "execution_count": 3,
     "metadata": {},
     "output_type": "execute_result"
    }
   ],
   "source": [
    "df.head()"
   ]
  },
  {
   "cell_type": "code",
   "execution_count": 4,
   "id": "efbca8b7",
   "metadata": {},
   "outputs": [],
   "source": [
    "# We are interested only in the OriginalTweet and Sentiment columns\n",
    "# so, just retain only them\n",
    "df = df [ [ \"OriginalTweet\", \"Sentiment\"] ]"
   ]
  },
  {
   "cell_type": "code",
   "execution_count": 5,
   "id": "05c35c21",
   "metadata": {},
   "outputs": [
    {
     "data": {
      "text/html": [
       "<div>\n",
       "<style scoped>\n",
       "    .dataframe tbody tr th:only-of-type {\n",
       "        vertical-align: middle;\n",
       "    }\n",
       "\n",
       "    .dataframe tbody tr th {\n",
       "        vertical-align: top;\n",
       "    }\n",
       "\n",
       "    .dataframe thead th {\n",
       "        text-align: right;\n",
       "    }\n",
       "</style>\n",
       "<table border=\"1\" class=\"dataframe\">\n",
       "  <thead>\n",
       "    <tr style=\"text-align: right;\">\n",
       "      <th></th>\n",
       "      <th>OriginalTweet</th>\n",
       "      <th>Sentiment</th>\n",
       "    </tr>\n",
       "  </thead>\n",
       "  <tbody>\n",
       "    <tr>\n",
       "      <th>0</th>\n",
       "      <td>@MeNyrbie @Phil_Gahan @Chrisitv https://t.co/i...</td>\n",
       "      <td>Neutral</td>\n",
       "    </tr>\n",
       "    <tr>\n",
       "      <th>1</th>\n",
       "      <td>advice Talk to your neighbours family to excha...</td>\n",
       "      <td>Positive</td>\n",
       "    </tr>\n",
       "    <tr>\n",
       "      <th>2</th>\n",
       "      <td>Coronavirus Australia: Woolworths to give elde...</td>\n",
       "      <td>Positive</td>\n",
       "    </tr>\n",
       "    <tr>\n",
       "      <th>3</th>\n",
       "      <td>My food stock is not the only one which is emp...</td>\n",
       "      <td>Positive</td>\n",
       "    </tr>\n",
       "    <tr>\n",
       "      <th>4</th>\n",
       "      <td>Me, ready to go at supermarket during the #COV...</td>\n",
       "      <td>Extremely Negative</td>\n",
       "    </tr>\n",
       "  </tbody>\n",
       "</table>\n",
       "</div>"
      ],
      "text/plain": [
       "                                       OriginalTweet           Sentiment\n",
       "0  @MeNyrbie @Phil_Gahan @Chrisitv https://t.co/i...             Neutral\n",
       "1  advice Talk to your neighbours family to excha...            Positive\n",
       "2  Coronavirus Australia: Woolworths to give elde...            Positive\n",
       "3  My food stock is not the only one which is emp...            Positive\n",
       "4  Me, ready to go at supermarket during the #COV...  Extremely Negative"
      ]
     },
     "execution_count": 5,
     "metadata": {},
     "output_type": "execute_result"
    }
   ],
   "source": [
    "df.head()"
   ]
  },
  {
   "cell_type": "code",
   "execution_count": 6,
   "id": "85fee712",
   "metadata": {},
   "outputs": [
    {
     "data": {
      "text/plain": [
       "(41157, 2)"
      ]
     },
     "execution_count": 6,
     "metadata": {},
     "output_type": "execute_result"
    }
   ],
   "source": [
    "df.shape"
   ]
  },
  {
   "cell_type": "code",
   "execution_count": 7,
   "id": "362a2ff6",
   "metadata": {},
   "outputs": [
    {
     "name": "stdout",
     "output_type": "stream",
     "text": [
      "<class 'pandas.core.frame.DataFrame'>\n",
      "RangeIndex: 41157 entries, 0 to 41156\n",
      "Data columns (total 2 columns):\n",
      " #   Column         Non-Null Count  Dtype \n",
      "---  ------         --------------  ----- \n",
      " 0   OriginalTweet  41157 non-null  object\n",
      " 1   Sentiment      41157 non-null  object\n",
      "dtypes: object(2)\n",
      "memory usage: 643.2+ KB\n"
     ]
    }
   ],
   "source": [
    "df.info()"
   ]
  },
  {
   "cell_type": "code",
   "execution_count": 8,
   "id": "0b43a6ae",
   "metadata": {},
   "outputs": [
    {
     "data": {
      "text/plain": [
       "array(['Neutral', 'Positive', 'Extremely Negative', 'Negative',\n",
       "       'Extremely Positive'], dtype=object)"
      ]
     },
     "execution_count": 8,
     "metadata": {},
     "output_type": "execute_result"
    }
   ],
   "source": [
    "# inspect the sentiment column to see how many unique values are there\n",
    "df.Sentiment.unique()"
   ]
  },
  {
   "cell_type": "code",
   "execution_count": 9,
   "id": "72b6b60b",
   "metadata": {},
   "outputs": [
    {
     "data": {
      "text/plain": [
       "<AxesSubplot:xlabel='Sentiment', ylabel='count'>"
      ]
     },
     "execution_count": 9,
     "metadata": {},
     "output_type": "execute_result"
    },
    {
     "data": {
      "image/png": "[encoded data removed]",
      "text/plain": [
       "<Figure size 432x288 with 1 Axes>"
      ]
     },
     "metadata": {
      "needs_background": "light"
     },
     "output_type": "display_data"
    }
   ],
   "source": [
    "# We see 5 unique values for the sentiments\n",
    "# Let's see how the distribution of these sentiments in the data\n",
    "sns.countplot(x='Sentiment', data=df, order=['Extremely Negative', 'Negative', 'Neutral', 'Positive', 'Extremely Positive'] )"
   ]
  },
  {
   "cell_type": "code",
   "execution_count": 10,
   "id": "11c5cb8b",
   "metadata": {},
   "outputs": [],
   "source": [
    "# let's convert the Sentiment column into a numerical value, rather than object\n",
    "df['Sentiment'].replace(['Extremely Negative', 'Negative', 'Neutral', 'Positive', 'Extremely Positive'],[1, 2, 3, 4, 5], inplace=True)"
   ]
  },
  {
   "cell_type": "code",
   "execution_count": 11,
   "id": "ab961fb4",
   "metadata": {},
   "outputs": [
    {
     "data": {
      "text/html": [
       "<div>\n",
       "<style scoped>\n",
       "    .dataframe tbody tr th:only-of-type {\n",
       "        vertical-align: middle;\n",
       "    }\n",
       "\n",
       "    .dataframe tbody tr th {\n",
       "        vertical-align: top;\n",
       "    }\n",
       "\n",
       "    .dataframe thead th {\n",
       "        text-align: right;\n",
       "    }\n",
       "</style>\n",
       "<table border=\"1\" class=\"dataframe\">\n",
       "  <thead>\n",
       "    <tr style=\"text-align: right;\">\n",
       "      <th></th>\n",
       "      <th>OriginalTweet</th>\n",
       "      <th>Sentiment</th>\n",
       "    </tr>\n",
       "  </thead>\n",
       "  <tbody>\n",
       "    <tr>\n",
       "      <th>0</th>\n",
       "      <td>@MeNyrbie @Phil_Gahan @Chrisitv https://t.co/i...</td>\n",
       "      <td>3</td>\n",
       "    </tr>\n",
       "    <tr>\n",
       "      <th>1</th>\n",
       "      <td>advice Talk to your neighbours family to excha...</td>\n",
       "      <td>4</td>\n",
       "    </tr>\n",
       "    <tr>\n",
       "      <th>2</th>\n",
       "      <td>Coronavirus Australia: Woolworths to give elde...</td>\n",
       "      <td>4</td>\n",
       "    </tr>\n",
       "    <tr>\n",
       "      <th>3</th>\n",
       "      <td>My food stock is not the only one which is emp...</td>\n",
       "      <td>4</td>\n",
       "    </tr>\n",
       "    <tr>\n",
       "      <th>4</th>\n",
       "      <td>Me, ready to go at supermarket during the #COV...</td>\n",
       "      <td>1</td>\n",
       "    </tr>\n",
       "  </tbody>\n",
       "</table>\n",
       "</div>"
      ],
      "text/plain": [
       "                                       OriginalTweet  Sentiment\n",
       "0  @MeNyrbie @Phil_Gahan @Chrisitv https://t.co/i...          3\n",
       "1  advice Talk to your neighbours family to excha...          4\n",
       "2  Coronavirus Australia: Woolworths to give elde...          4\n",
       "3  My food stock is not the only one which is emp...          4\n",
       "4  Me, ready to go at supermarket during the #COV...          1"
      ]
     },
     "execution_count": 11,
     "metadata": {},
     "output_type": "execute_result"
    }
   ],
   "source": [
    "df.head()"
   ]
  },
  {
   "cell_type": "code",
   "execution_count": 12,
   "id": "6c7b5d64",
   "metadata": {},
   "outputs": [
    {
     "data": {
      "text/plain": [
       "<AxesSubplot:xlabel='Sentiment', ylabel='count'>"
      ]
     },
     "execution_count": 12,
     "metadata": {},
     "output_type": "execute_result"
    },
    {
     "data": {
      "image/png": "[encoded data removed]",
      "text/plain": [
       "<Figure size 432x288 with 1 Axes>"
      ]
     },
     "metadata": {
      "needs_background": "light"
     },
     "output_type": "display_data"
    }
   ],
   "source": [
    "# Check after encoding, if the same distributions are maintained\n",
    "sns.countplot(x='Sentiment', data=df, order=[1, 2, 3, 4, 5] )"
   ]
  },
  {
   "cell_type": "code",
   "execution_count": 13,
   "id": "52e195e7",
   "metadata": {},
   "outputs": [
    {
     "name": "stdout",
     "output_type": "stream",
     "text": [
      "<class 'pandas.core.frame.DataFrame'>\n",
      "RangeIndex: 41157 entries, 0 to 41156\n",
      "Data columns (total 2 columns):\n",
      " #   Column         Non-Null Count  Dtype \n",
      "---  ------         --------------  ----- \n",
      " 0   OriginalTweet  41157 non-null  object\n",
      " 1   Sentiment      41157 non-null  int64 \n",
      "dtypes: int64(1), object(1)\n",
      "memory usage: 643.2+ KB\n"
     ]
    }
   ],
   "source": [
    "df.info()"
   ]
  },
  {
   "cell_type": "code",
   "execution_count": 14,
   "id": "fec47024",
   "metadata": {},
   "outputs": [],
   "source": [
    "# This method removes stop words, special characters and converts to lower case\n",
    "# also as the input text is a tweet, a lot more items are cleaned-up like:\n",
    "# URLs, hashtags etc\n",
    "def preprocess_text(text):\n",
    "    stoppunc = stopwords.words('english')\n",
    "    stoppunc += string.punctuation\n",
    "    text = text.lower()\n",
    "    text = ' '.join([w for w in word_tokenize(text) if ( w not in stoppunc and w.isalpha() == True )])\n",
    "    text = re.sub('^@[\\w\\d]{4,15}','', text) # remove twitter user name\n",
    "    text = re.sub('@[^\\s]+','', text) # remove twitter user name, in case @ is followed by a space\n",
    "    text = re.sub(r'(https|http)?:\\/\\/(\\w|\\.|\\/|\\?|\\=|\\&|\\%)*\\b', '', text, flags=re.MULTILINE) # remove URLs\n",
    "    text = re.sub('((www\\.[^\\s]+)|(https?://[^\\s]+))','', text) \n",
    "    text = re.sub('[^a-zA-Zа-яА-Я1-9]+', ' ', text) # remove words like a1123 etc\n",
    "    text = re.sub(' +',' ', text) # remove + sign\n",
    "    text = re.sub(r'(.)\\1{2,}', r'\\1', text) # remove same characters appearing >2 times continuously\n",
    "    text = re.sub('#[\\w\\d]+','',text) # remove hashtags\n",
    "    text = re.sub(r'[^a-zA-Z0-9\\s]','', text, re.I) # remove anything EXCEPT letters and numbers or whitespaces\n",
    "    text = re.sub(r'\\b[a-zA-Z]\\b', '', text, re.I) # removes single letters like ' a ' ' b ' surrounded by spaces\n",
    "    text = re.sub(r'\\b\\d*\\b', '', text) # remove any number surrounded by word boundaries and removes them.\n",
    "    text = re.sub(r'\\b\\d.*\\b', '', text) # remove words starting in a number, and removes them. There is a LOT of junk like 2n, 2r, 3bc, 3d7, stuff like that.\n",
    "    text = re.sub(r'\\b[a-zA-Z]\\d*\\b', '', text) # remove words like a12334 and a11111111, b24 etc\n",
    "    text = re.sub('https', '', text) # remove https \n",
    "    text = re.sub('http', '', text) # remove http\n",
    "    return text.strip()"
   ]
  },
  {
   "cell_type": "code",
   "execution_count": 15,
   "id": "7ff2667b",
   "metadata": {},
   "outputs": [],
   "source": [
    "# apply the method to pre-process the text\n",
    "df['OriginalTweet'] = df['OriginalTweet'].apply(preprocess_text).to_frame()"
   ]
  },
  {
   "cell_type": "code",
   "execution_count": 16,
   "id": "85cfe9f2",
   "metadata": {},
   "outputs": [],
   "source": [
    "# after pre-processing, if there are blank lines, remove them\n",
    "df = df[df.OriginalTweet != ''] # remove blank lines "
   ]
  },
  {
   "cell_type": "code",
   "execution_count": 17,
   "id": "57793fd9",
   "metadata": {},
   "outputs": [
    {
     "data": {
      "text/html": [
       "<div>\n",
       "<style scoped>\n",
       "    .dataframe tbody tr th:only-of-type {\n",
       "        vertical-align: middle;\n",
       "    }\n",
       "\n",
       "    .dataframe tbody tr th {\n",
       "        vertical-align: top;\n",
       "    }\n",
       "\n",
       "    .dataframe thead th {\n",
       "        text-align: right;\n",
       "    }\n",
       "</style>\n",
       "<table border=\"1\" class=\"dataframe\">\n",
       "  <thead>\n",
       "    <tr style=\"text-align: right;\">\n",
       "      <th></th>\n",
       "      <th>OriginalTweet</th>\n",
       "      <th>Sentiment</th>\n",
       "    </tr>\n",
       "  </thead>\n",
       "  <tbody>\n",
       "    <tr>\n",
       "      <th>0</th>\n",
       "      <td>menyrbie chrisitv</td>\n",
       "      <td>3</td>\n",
       "    </tr>\n",
       "    <tr>\n",
       "      <th>1</th>\n",
       "      <td>advice talk neighbours family exchange phone n...</td>\n",
       "      <td>4</td>\n",
       "    </tr>\n",
       "    <tr>\n",
       "      <th>2</th>\n",
       "      <td>coronavirus australia woolworths give elderly ...</td>\n",
       "      <td>4</td>\n",
       "    </tr>\n",
       "    <tr>\n",
       "      <th>3</th>\n",
       "      <td>food stock one empty please panic enough food ...</td>\n",
       "      <td>4</td>\n",
       "    </tr>\n",
       "    <tr>\n",
       "      <th>4</th>\n",
       "      <td>ready go supermarket outbreak paranoid food st...</td>\n",
       "      <td>1</td>\n",
       "    </tr>\n",
       "    <tr>\n",
       "      <th>...</th>\n",
       "      <td>...</td>\n",
       "      <td>...</td>\n",
       "    </tr>\n",
       "    <tr>\n",
       "      <th>41152</th>\n",
       "      <td>airline pilots offering stock supermarket shel...</td>\n",
       "      <td>3</td>\n",
       "    </tr>\n",
       "    <tr>\n",
       "      <th>41153</th>\n",
       "      <td>response complaint provided citing related del...</td>\n",
       "      <td>1</td>\n",
       "    </tr>\n",
       "    <tr>\n",
       "      <th>41154</th>\n",
       "      <td>know getting tough kameronwilds rationing toil...</td>\n",
       "      <td>4</td>\n",
       "    </tr>\n",
       "    <tr>\n",
       "      <th>41155</th>\n",
       "      <td>wrong smell hand sanitizer starting turn coron...</td>\n",
       "      <td>3</td>\n",
       "    </tr>\n",
       "    <tr>\n",
       "      <th>41156</th>\n",
       "      <td>tartiicat well rift going amazon rn although n...</td>\n",
       "      <td>2</td>\n",
       "    </tr>\n",
       "  </tbody>\n",
       "</table>\n",
       "<p>41135 rows × 2 columns</p>\n",
       "</div>"
      ],
      "text/plain": [
       "                                           OriginalTweet  Sentiment\n",
       "0                                      menyrbie chrisitv          3\n",
       "1      advice talk neighbours family exchange phone n...          4\n",
       "2      coronavirus australia woolworths give elderly ...          4\n",
       "3      food stock one empty please panic enough food ...          4\n",
       "4      ready go supermarket outbreak paranoid food st...          1\n",
       "...                                                  ...        ...\n",
       "41152  airline pilots offering stock supermarket shel...          3\n",
       "41153  response complaint provided citing related del...          1\n",
       "41154  know getting tough kameronwilds rationing toil...          4\n",
       "41155  wrong smell hand sanitizer starting turn coron...          3\n",
       "41156  tartiicat well rift going amazon rn although n...          2\n",
       "\n",
       "[41135 rows x 2 columns]"
      ]
     },
     "execution_count": 17,
     "metadata": {},
     "output_type": "execute_result"
    }
   ],
   "source": [
    "# inspect the final cleaned-up text\n",
    "df"
   ]
  },
  {
   "cell_type": "code",
   "execution_count": 18,
   "id": "607b3223",
   "metadata": {},
   "outputs": [],
   "source": [
    "#df.to_csv('tweet.csv')"
   ]
  },
  {
   "cell_type": "markdown",
   "id": "01d1200a",
   "metadata": {},
   "source": [
    "# Using the train_test_split function of Sklearn, Split train and test dataset - 1 Mark"
   ]
  },
  {
   "cell_type": "code",
   "execution_count": 19,
   "id": "bf1ea611",
   "metadata": {},
   "outputs": [],
   "source": [
    "# Input feature\n",
    "x = df['OriginalTweet']\n",
    "\n",
    "# Target feature\n",
    "y = df['Sentiment']\n",
    "\n",
    "# Split the training and test data\n",
    "x_train, x_test, y_train, y_test = train_test_split(x, y, test_size=0.2, random_state=42, stratify=y)"
   ]
  },
  {
   "cell_type": "markdown",
   "id": "c7856497",
   "metadata": {},
   "source": [
    "# Create pipeline and define parameters for GridSearch - 1 Mark"
   ]
  },
  {
   "cell_type": "code",
   "execution_count": 20,
   "id": "a44b9273",
   "metadata": {},
   "outputs": [],
   "source": [
    "# let's experiment with a few classifiers, to see which one classifies better\n",
    "# We will create a list of tuples containing the (pipeline, classifier parameters) that we are interested in\n",
    "pipe_params = [ \n",
    "\n",
    "    (\n",
    "        Pipeline([('vect', CountVectorizer()),\n",
    "                ('tfidf', TfidfTransformer()),\n",
    "                ('clf', ComplementNB())])\n",
    "        ,\n",
    "        {\n",
    "            'vect__ngram_range': [(1, 1), (1, 2), (2, 2)],\n",
    "            'tfidf__use_idf': (True, False),\n",
    "            'tfidf__norm': ('l1','l2'),\n",
    "            'clf__alpha': [1, 1e-1, 1e-2]\n",
    "        }\n",
    "    ),\n",
    "\n",
    "    (\n",
    "        Pipeline([('vect', CountVectorizer()),\n",
    "                ('tfidf', TfidfTransformer()),\n",
    "                ('clf', SGDClassifier(loss='hinge', penalty='l2',\n",
    "                           alpha=1e-3, random_state=42,\n",
    "                           max_iter=5, tol=None))])\n",
    "        ,\n",
    "        {\n",
    "            'vect__ngram_range': [(1, 1), (1, 2), (2, 2)],\n",
    "            'tfidf__use_idf': (True, False),\n",
    "            'tfidf__norm': ('l1','l2'),\n",
    "            'clf__alpha': [1, 1e-1, 1e-2]\n",
    "        }\n",
    "    ),\n",
    "\n",
    "    (\n",
    "        Pipeline([('vect', CountVectorizer()),\n",
    "                ('tfidf', TfidfTransformer()),\n",
    "                ('clf', LinearSVC())])\n",
    "        ,\n",
    "        {\n",
    "            'vect__ngram_range': [(1, 1), (1, 2), (2, 2)],\n",
    "            'tfidf__use_idf': (True, False),\n",
    "            'tfidf__norm': ('l1','l2')\n",
    "        }\n",
    "    ),\n",
    "\n",
    "    (\n",
    "        Pipeline([('vect', CountVectorizer()),\n",
    "                ('tfidf', TfidfTransformer()),\n",
    "                ('clf', MultinomialNB())])\n",
    "        ,\n",
    "        {\n",
    "            'vect__ngram_range': [(1, 1), (1, 2), (2, 2)],\n",
    "            'tfidf__use_idf': (True, False),\n",
    "            'tfidf__norm': ('l1','l2'),\n",
    "            'clf__fit_prior': [True, False],\n",
    "            'clf__alpha': [1, 1e-1, 1e-2]\n",
    "        }\n",
    "    )\n",
    "    \n",
    "]"
   ]
  },
  {
   "cell_type": "markdown",
   "id": "dc121f45",
   "metadata": {},
   "source": [
    "# Perform classification (using GridSearch) - 3 Mark"
   ]
  },
  {
   "cell_type": "code",
   "execution_count": 21,
   "id": "5e16a24d",
   "metadata": {},
   "outputs": [
    {
     "name": "stdout",
     "output_type": "stream",
     "text": [
      "\n",
      "Starting GridSearch for ComplementNB()\n",
      "Fitting 5 folds for each of 36 candidates, totalling 180 fits\n",
      "\n",
      "Algorithm is:  ComplementNB()\n",
      "The best score obtained is:  48.10%\n",
      "The best score is obtained with parameters :  {'clf__alpha': 1, 'tfidf__norm': 'l2', 'tfidf__use_idf': False, 'vect__ngram_range': (1, 1)}\n",
      "\n",
      "Starting GridSearch for SGDClassifier(alpha=0.001, max_iter=5, random_state=42, tol=None)\n",
      "Fitting 5 folds for each of 36 candidates, totalling 180 fits\n",
      "\n",
      "Algorithm is:  SGDClassifier(alpha=0.001, max_iter=5, random_state=42, tol=None)\n",
      "The best score obtained is:  52.86%\n",
      "The best score is obtained with parameters :  {'clf__alpha': 0.01, 'tfidf__norm': 'l2', 'tfidf__use_idf': True, 'vect__ngram_range': (1, 1)}\n",
      "\n",
      "Starting GridSearch for LinearSVC()\n",
      "Fitting 5 folds for each of 12 candidates, totalling 60 fits\n",
      "\n",
      "Algorithm is:  LinearSVC()\n",
      "The best score obtained is:  55.81%\n",
      "The best score is obtained with parameters :  {'tfidf__norm': 'l2', 'tfidf__use_idf': False, 'vect__ngram_range': (1, 1)}\n",
      "\n",
      "Starting GridSearch for MultinomialNB()\n",
      "Fitting 5 folds for each of 72 candidates, totalling 360 fits\n",
      "\n",
      "Algorithm is:  MultinomialNB()\n",
      "The best score obtained is:  47.87%\n",
      "The best score is obtained with parameters :  {'clf__alpha': 0.1, 'clf__fit_prior': False, 'tfidf__norm': 'l2', 'tfidf__use_idf': False, 'vect__ngram_range': (1, 1)}\n"
     ]
    }
   ],
   "source": [
    "# for each classifier in the list, lets perform classification using GridSearchCV for all parameters\n",
    "# will save the best classifer givinig the best clf.best_score_\n",
    "\n",
    "best_of_best_score = 0\n",
    "\n",
    "for pipeline, parameter in pipe_params:\n",
    "    print('\\nStarting GridSearch for', pipeline[2])\n",
    "    clf = GridSearchCV(pipeline, parameter, cv=5, verbose=10, n_jobs=-1) # max parallel processors\n",
    "    clf.fit(x_train, y_train)\n",
    "    y_predict = clf.predict(x_test)\n",
    "\n",
    "    print(\"\\nAlgorithm is: \", pipeline[2])\n",
    "    print(\"The best score obtained is: \", f\"{100*clf.best_score_:.2f}%\")\n",
    "    print(\"The best score is obtained with parameters : \", clf.best_params_)    \n",
    "    \n",
    "    if ( clf.best_score_ > best_of_best_score ):\n",
    "        best_algorithm = pipeline[2]\n",
    "        best_of_best_score = clf.best_score_\n",
    "        best_of_best_params = clf.best_params_\n",
    "        best_x_test = x_test\n",
    "        best_y_test = y_test\n",
    "        best_y_predict = y_predict\n",
    "        best_clf = clf"
   ]
  },
  {
   "cell_type": "markdown",
   "id": "11dd1224",
   "metadata": {},
   "source": [
    "# Print the confusion matrix, accuracy, F1 score on the test dataset - 2 Mark"
   ]
  },
  {
   "cell_type": "code",
   "execution_count": 22,
   "id": "d4b549fc",
   "metadata": {},
   "outputs": [
    {
     "name": "stdout",
     "output_type": "stream",
     "text": [
      "\n",
      "The best algorithm is:  LinearSVC()\n",
      "\n",
      " ---------- Confusion Matrix ---------- \n",
      "\n",
      "[[ 685  310   41   52    8]\n",
      " [ 327  967  278  358   53]\n",
      " [  15  186 1100  212   25]\n",
      " [  49  336  302 1180  418]\n",
      " [   8   47   26  382  862]]\n",
      "\n",
      " ---------- Confusion Matrix (Graphical) ---------- \n",
      "\n"
     ]
    },
    {
     "data": {
      "image/png": "[encoded data removed]",
      "text/plain": [
       "<Figure size 432x288 with 2 Axes>"
      ]
     },
     "metadata": {
      "needs_background": "light"
     },
     "output_type": "display_data"
    },
    {
     "name": "stdout",
     "output_type": "stream",
     "text": [
      "\n",
      " ---------- Accuracy Score ---------- \n",
      "\n",
      "58.27%\n",
      "\n",
      " ---------- F1 Score ---------- \n",
      "\n",
      "58.05%\n"
     ]
    }
   ],
   "source": [
    "# display accuracy score metric for the best of the best classifier \n",
    "print(\"\\nThe best algorithm is: \", best_algorithm)\n",
    "print(\"\\n ---------- Confusion Matrix ---------- \\n\")\n",
    "print(confusion_matrix(best_y_test, best_y_predict))\n",
    "\n",
    "print(\"\\n ---------- Confusion Matrix (Graphical) ---------- \\n\")\n",
    "plot_confusion_matrix(best_clf, best_x_test, best_y_test)\n",
    "plt.show()\n",
    "\n",
    "print(\"\\n ---------- Accuracy Score ---------- \\n\")\n",
    "print(f\"{100*accuracy_score(best_y_test, best_y_predict):.2f}%\")\n",
    "\n",
    "print(\"\\n ---------- F1 Score ---------- \\n\")\n",
    "print(f\"{100*f1_score(best_y_test, best_y_predict, average='weighted'):.2f}%\")"
   ]
  },
  {
   "cell_type": "markdown",
   "id": "38b47052",
   "metadata": {},
   "source": [
    "# References"
   ]
  },
  {
   "cell_type": "markdown",
   "id": "625be282",
   "metadata": {},
   "source": [
    "https://scikit-learn.org/stable/modules/generated/sklearn.pipeline.Pipeline.html\n",
    "\n",
    "https://scikit-learn.org/stable/modules/generated/sklearn.model_selection.GridSearchCV.html\n",
    "\n",
    "https://towardsdatascience.com/sentiment-analysis-of-tweets-using-multinomial-naive-bayes-1009ed24276b\n",
    "\n",
    "https://towardsdatascience.com/ml-pipelines-with-grid-search-in-scikit-learn-2539d6b53cfb\n",
    "\n",
    "https://towardsdatascience.com/step-by-step-twitter-sentiment-analysis-in-python-d6f650ade58d\n",
    "\n",
    "https://www.programcreek.com/python/example/83254/sklearn.feature_extraction.text.TfidfVectorizer\n",
    "\n",
    "https://python.hotexamples.com/examples/sklearn.model_selection/GridSearchCV/-/python-gridsearchcv-class-examples.html"
   ]
  },
  {
   "cell_type": "markdown",
   "id": "8939babc",
   "metadata": {},
   "source": [
    "# Assignment Information - Sentiment Analysis Using Naive Bayes"
   ]
  },
  {
   "cell_type": "markdown",
   "id": "a94e207d",
   "metadata": {},
   "source": [
    "https://bits-pilani.instructure.com/courses/972/assignments/4513"
   ]
  },
  {
   "cell_type": "markdown",
   "id": "5b9a3220",
   "metadata": {},
   "source": [
    "# Student Information"
   ]
  },
  {
   "cell_type": "code",
   "execution_count": 23,
   "id": "be869b6e",
   "metadata": {},
   "outputs": [],
   "source": [
    "#!pip install termcolor\n",
    "#!pip install colorama\n",
    "#!pip install pyfiglet\n",
    "\n",
    "import pyfiglet\n",
    "import winsound\n",
    "from termcolor import colored"
   ]
  },
  {
   "cell_type": "code",
   "execution_count": 24,
   "id": "5e9a35ee",
   "metadata": {},
   "outputs": [
    {
     "name": "stdout",
     "output_type": "stream",
     "text": [
      "\u001b[42m\u001b[37m _____   _       ____            _ _                         _                 \n",
      "|_   _| | |     / ___| _   _  __| | |__   ___  ___ _ __   __| |_ __ __ _ _ __  \n",
      "  | |   | |     \\___ \\| | | |/ _` | '_ \\ / _ \\/ _ \\ '_ \\ / _` | '__/ _` | '_ \\ \n",
      "  | |   | |___   ___) | |_| | (_| | | | |  __/  __/ | | | (_| | | | (_| | | | |\n",
      "  |_|   |_____| |____/ \\__,_|\\__,_|_| |_|\\___|\\___|_| |_|\\__,_|_|  \\__,_|_| |_|\n",
      "                                                                               \n",
      " ____   ___ ____   ___    _    ___ __  __ _     ___   ___ _____ \n",
      "|___ \\ / _ \\___ \\ / _ \\  / \\  |_ _|  \\/  | |   / _ \\ / _ \\___ / \n",
      "  __) | | | |__) | | | |/ _ \\  | || |\\/| | |  | | | | | | ||_ \\ \n",
      " / __/| |_| / __/| |_| / ___ \\ | || |  | | |__| |_| | |_| |__) |\n",
      "|_____|\\___/_____|\\___/_/   \\_\\___|_|  |_|_____\\___/ \\___/____/ \n",
      "                                                                \n",
      "\u001b[0m\n"
     ]
    }
   ],
   "source": [
    "print(colored(pyfiglet.figlet_format('T L Sudheendran '+ '2020AIML003'),'white', 'on_green' ))\n",
    "winsound.MessageBeep()"
   ]
  }
 ],
 "metadata": {
  "kernelspec": {
   "display_name": "Python 3",
   "language": "python",
   "name": "python3"
  },
  "language_info": {
   "codemirror_mode": {
    "name": "ipython",
    "version": 3
   },
   "file_extension": ".py",
   "mimetype": "text/x-python",
   "name": "python",
   "nbconvert_exporter": "python",
   "pygments_lexer": "ipython3",
   "version": "3.8.3"
  },
  "papermill": {
   "default_parameters": {},
   "duration": 37.664697,
   "end_time": "2021-06-06T14:50:18.969887",
   "environment_variables": {},
   "exception": null,
   "input_path": "__notebook__.ipynb",
   "output_path": "__notebook__.ipynb",
   "parameters": {},
   "start_time": "2021-06-06T14:49:41.305190",
   "version": "2.3.3"
  },
  "toc": {
   "base_numbering": 1,
   "nav_menu": {},
   "number_sections": true,
   "sideBar": true,
   "skip_h1_title": false,
   "title_cell": "Table of Contents",
   "title_sidebar": "Contents",
   "toc_cell": true,
   "toc_position": {},
   "toc_section_display": true,
   "toc_window_display": false
  }
 },
 "nbformat": 4,
 "nbformat_minor": 5
}
