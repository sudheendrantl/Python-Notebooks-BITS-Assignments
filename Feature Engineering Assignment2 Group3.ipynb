{
 "cells": [
  {
   "cell_type": "markdown",
   "metadata": {},
   "source": [
    "# AIML Cohort4 Feature Engineering Project1 Group3\n",
    "\n",
    "Members: Gursimran Kaur, Shane Fernandes and Sudheendran TL"
   ]
  },
  {
   "cell_type": "code",
   "execution_count": 1,
   "metadata": {},
   "outputs": [],
   "source": [
    "import numpy as np\n",
    "import matplotlib.pyplot as plt\n",
    "import pandas as pd\n",
    "import seaborn as sns\n",
    "import math\n",
    "import xlrd\n",
    "import warnings\n",
    "from sklearn.preprocessing import StandardScaler, LabelEncoder\n",
    "from sklearn.feature_selection import chi2\n",
    "from sklearn.neighbors import KNeighborsClassifier\n",
    "from sklearn.feature_selection import mutual_info_classif\n",
    "from mlxtend.feature_selection import SequentialFeatureSelector as SFS\n",
    "from sklearn.model_selection import train_test_split\n",
    "from sklearn.linear_model import SGDRegressor\n",
    "from sklearn.metrics import mean_squared_error, r2_score\n",
    "from sklearn.linear_model import LogisticRegression\n",
    "from sklearn.feature_selection import RFE"
   ]
  },
  {
   "cell_type": "markdown",
   "metadata": {},
   "source": [
    "# Part (A)  - Collect / Extract Data"
   ]
  },
  {
   "cell_type": "code",
   "execution_count": 2,
   "metadata": {},
   "outputs": [],
   "source": [
    "data = pd.read_excel('HR-Records_Final.xlsx')"
   ]
  },
  {
   "cell_type": "code",
   "execution_count": 3,
   "metadata": {},
   "outputs": [],
   "source": [
    "workbook = xlrd.open_workbook('HR-Records_Final.xlsx') "
   ]
  },
  {
   "cell_type": "code",
   "execution_count": 4,
   "metadata": {},
   "outputs": [],
   "source": [
    "# there are 3 different sheets and we will read 3 sheets individually and will then merge it.\n",
    "application = pd.read_excel(workbook, sheet_name=1)\n",
    "candidate = pd.read_excel(workbook, sheet_name=3)\n",
    "interview = pd.read_excel(workbook, sheet_name=5)"
   ]
  },
  {
   "cell_type": "code",
   "execution_count": 5,
   "metadata": {},
   "outputs": [],
   "source": [
    "data_list = [application, candidate, interview]"
   ]
  },
  {
   "cell_type": "code",
   "execution_count": 6,
   "metadata": {},
   "outputs": [],
   "source": [
    "# Merge the interview and application datasets.\n",
    "interviewAndApplication = pd.merge(interview, application, on = [\"Candidate ID\"])"
   ]
  },
  {
   "cell_type": "code",
   "execution_count": 7,
   "metadata": {},
   "outputs": [],
   "source": [
    "dataset = pd.merge(interviewAndApplication, candidate, on = [\"Candidate ID\"])"
   ]
  },
  {
   "cell_type": "code",
   "execution_count": 8,
   "metadata": {},
   "outputs": [],
   "source": [
    "dataset.to_excel(\"FE_Project1_Group3_Aggregated_datafile.xlsx\", index=False)"
   ]
  },
  {
   "cell_type": "code",
   "execution_count": 9,
   "metadata": {},
   "outputs": [
    {
     "data": {
      "text/plain": [
       "(200, 37)"
      ]
     },
     "execution_count": 9,
     "metadata": {},
     "output_type": "execute_result"
    }
   ],
   "source": [
    "dataset.shape"
   ]
  },
  {
   "cell_type": "code",
   "execution_count": 10,
   "metadata": {},
   "outputs": [
    {
     "data": {
      "text/html": [
       "<div>\n",
       "<style scoped>\n",
       "    .dataframe tbody tr th:only-of-type {\n",
       "        vertical-align: middle;\n",
       "    }\n",
       "\n",
       "    .dataframe tbody tr th {\n",
       "        vertical-align: top;\n",
       "    }\n",
       "\n",
       "    .dataframe thead th {\n",
       "        text-align: right;\n",
       "    }\n",
       "</style>\n",
       "<table border=\"1\" class=\"dataframe\">\n",
       "  <thead>\n",
       "    <tr style=\"text-align: right;\">\n",
       "      <th></th>\n",
       "      <th>Candidate ID</th>\n",
       "      <th>Written Test Date</th>\n",
       "      <th>Interview rounds</th>\n",
       "      <th>Date of first Interview</th>\n",
       "      <th>Date of last Interview</th>\n",
       "      <th>Interview types</th>\n",
       "      <th>Interview Types2</th>\n",
       "      <th>First interview duration</th>\n",
       "      <th>Last interaction duration</th>\n",
       "      <th>Date of Application</th>\n",
       "      <th>...</th>\n",
       "      <th>Total experience</th>\n",
       "      <th>Relevant experience</th>\n",
       "      <th>Year of graduation</th>\n",
       "      <th>Expected CTC</th>\n",
       "      <th>Percentage hike (CTC) expected</th>\n",
       "      <th>Gender</th>\n",
       "      <th>Candidate source</th>\n",
       "      <th>DOB</th>\n",
       "      <th>Location</th>\n",
       "      <th>Number of precious jobs</th>\n",
       "    </tr>\n",
       "  </thead>\n",
       "  <tbody>\n",
       "    <tr>\n",
       "      <th>0</th>\n",
       "      <td>C1</td>\n",
       "      <td>2020-05-29</td>\n",
       "      <td>4</td>\n",
       "      <td>2020-06-03</td>\n",
       "      <td>2020-06-12</td>\n",
       "      <td>General</td>\n",
       "      <td>Online</td>\n",
       "      <td>40</td>\n",
       "      <td>25</td>\n",
       "      <td>2019-08-28</td>\n",
       "      <td>...</td>\n",
       "      <td>8</td>\n",
       "      <td>7.2</td>\n",
       "      <td>2012</td>\n",
       "      <td>1500000</td>\n",
       "      <td>0.290383</td>\n",
       "      <td>M</td>\n",
       "      <td>Direct</td>\n",
       "      <td>1991-11-06</td>\n",
       "      <td>Kolkata</td>\n",
       "      <td>2</td>\n",
       "    </tr>\n",
       "    <tr>\n",
       "      <th>1</th>\n",
       "      <td>C2</td>\n",
       "      <td>2020-05-31</td>\n",
       "      <td>2</td>\n",
       "      <td>2020-06-05</td>\n",
       "      <td>2020-06-08</td>\n",
       "      <td>Managerial</td>\n",
       "      <td>FaceToFace</td>\n",
       "      <td>40</td>\n",
       "      <td>40</td>\n",
       "      <td>2019-11-28</td>\n",
       "      <td>...</td>\n",
       "      <td>15</td>\n",
       "      <td>13.5</td>\n",
       "      <td>2005</td>\n",
       "      <td>3200000</td>\n",
       "      <td>0.432342</td>\n",
       "      <td>M</td>\n",
       "      <td>Agency</td>\n",
       "      <td>1984-02-22</td>\n",
       "      <td>Pune</td>\n",
       "      <td>4</td>\n",
       "    </tr>\n",
       "    <tr>\n",
       "      <th>2</th>\n",
       "      <td>C3</td>\n",
       "      <td>2020-05-15</td>\n",
       "      <td>3</td>\n",
       "      <td>2020-05-20</td>\n",
       "      <td>2020-05-26</td>\n",
       "      <td>Technical</td>\n",
       "      <td>Online</td>\n",
       "      <td>45</td>\n",
       "      <td>60</td>\n",
       "      <td>2019-08-11</td>\n",
       "      <td>...</td>\n",
       "      <td>4</td>\n",
       "      <td>3.6</td>\n",
       "      <td>2016</td>\n",
       "      <td>800000</td>\n",
       "      <td>0.371345</td>\n",
       "      <td>M</td>\n",
       "      <td>Direct</td>\n",
       "      <td>1995-03-27</td>\n",
       "      <td>Chennai</td>\n",
       "      <td>1</td>\n",
       "    </tr>\n",
       "    <tr>\n",
       "      <th>3</th>\n",
       "      <td>C4</td>\n",
       "      <td>2020-05-10</td>\n",
       "      <td>1</td>\n",
       "      <td>2020-05-15</td>\n",
       "      <td>2020-05-15</td>\n",
       "      <td>Technical</td>\n",
       "      <td>Written</td>\n",
       "      <td>40</td>\n",
       "      <td>40</td>\n",
       "      <td>2019-08-18</td>\n",
       "      <td>...</td>\n",
       "      <td>20</td>\n",
       "      <td>18.0</td>\n",
       "      <td>2000</td>\n",
       "      <td>4400000</td>\n",
       "      <td>0.373813</td>\n",
       "      <td>M</td>\n",
       "      <td>Direct</td>\n",
       "      <td>1979-06-14</td>\n",
       "      <td>Hyderabad</td>\n",
       "      <td>6</td>\n",
       "    </tr>\n",
       "    <tr>\n",
       "      <th>4</th>\n",
       "      <td>C5</td>\n",
       "      <td>2020-01-11</td>\n",
       "      <td>4</td>\n",
       "      <td>2020-01-16</td>\n",
       "      <td>2020-01-25</td>\n",
       "      <td>Technical</td>\n",
       "      <td>Online</td>\n",
       "      <td>15</td>\n",
       "      <td>25</td>\n",
       "      <td>2019-09-06</td>\n",
       "      <td>...</td>\n",
       "      <td>17</td>\n",
       "      <td>15.3</td>\n",
       "      <td>2003</td>\n",
       "      <td>3600000</td>\n",
       "      <td>0.389619</td>\n",
       "      <td>M</td>\n",
       "      <td>Employee referral</td>\n",
       "      <td>1982-11-26</td>\n",
       "      <td>Hyderabad</td>\n",
       "      <td>5</td>\n",
       "    </tr>\n",
       "  </tbody>\n",
       "</table>\n",
       "<p>5 rows × 37 columns</p>\n",
       "</div>"
      ],
      "text/plain": [
       "  Candidate ID Written Test Date  Interview rounds Date of first Interview  \\\n",
       "0           C1        2020-05-29                 4              2020-06-03   \n",
       "1           C2        2020-05-31                 2              2020-06-05   \n",
       "2           C3        2020-05-15                 3              2020-05-20   \n",
       "3           C4        2020-05-10                 1              2020-05-15   \n",
       "4           C5        2020-01-11                 4              2020-01-16   \n",
       "\n",
       "  Date of last Interview Interview types Interview Types2  \\\n",
       "0             2020-06-12         General           Online   \n",
       "1             2020-06-08      Managerial       FaceToFace   \n",
       "2             2020-05-26       Technical           Online   \n",
       "3             2020-05-15       Technical          Written   \n",
       "4             2020-01-25       Technical           Online   \n",
       "\n",
       "   First interview duration  Last interaction duration Date of Application  \\\n",
       "0                        40                         25          2019-08-28   \n",
       "1                        40                         40          2019-11-28   \n",
       "2                        45                         60          2019-08-11   \n",
       "3                        40                         40          2019-08-18   \n",
       "4                        15                         25          2019-09-06   \n",
       "\n",
       "   ... Total experience Relevant experience Year of graduation Expected CTC  \\\n",
       "0  ...                8                 7.2               2012      1500000   \n",
       "1  ...               15                13.5               2005      3200000   \n",
       "2  ...                4                 3.6               2016       800000   \n",
       "3  ...               20                18.0               2000      4400000   \n",
       "4  ...               17                15.3               2003      3600000   \n",
       "\n",
       "  Percentage hike (CTC) expected   Gender   Candidate source        DOB  \\\n",
       "0                        0.290383       M             Direct 1991-11-06   \n",
       "1                        0.432342       M             Agency 1984-02-22   \n",
       "2                        0.371345       M             Direct 1995-03-27   \n",
       "3                        0.373813       M             Direct 1979-06-14   \n",
       "4                        0.389619       M  Employee referral 1982-11-26   \n",
       "\n",
       "    Location Number of precious jobs  \n",
       "0    Kolkata                       2  \n",
       "1       Pune                       4  \n",
       "2    Chennai                       1  \n",
       "3  Hyderabad                       6  \n",
       "4  Hyderabad                       5  \n",
       "\n",
       "[5 rows x 37 columns]"
      ]
     },
     "execution_count": 10,
     "metadata": {},
     "output_type": "execute_result"
    }
   ],
   "source": [
    "dataset.head()"
   ]
  },
  {
   "cell_type": "code",
   "execution_count": 11,
   "metadata": {},
   "outputs": [
    {
     "data": {
      "text/html": [
       "<div>\n",
       "<style scoped>\n",
       "    .dataframe tbody tr th:only-of-type {\n",
       "        vertical-align: middle;\n",
       "    }\n",
       "\n",
       "    .dataframe tbody tr th {\n",
       "        vertical-align: top;\n",
       "    }\n",
       "\n",
       "    .dataframe thead th {\n",
       "        text-align: right;\n",
       "    }\n",
       "</style>\n",
       "<table border=\"1\" class=\"dataframe\">\n",
       "  <thead>\n",
       "    <tr style=\"text-align: right;\">\n",
       "      <th></th>\n",
       "      <th>Candidate ID</th>\n",
       "      <th>Written Test Date</th>\n",
       "      <th>Interview rounds</th>\n",
       "      <th>Date of first Interview</th>\n",
       "      <th>Date of last Interview</th>\n",
       "      <th>Interview types</th>\n",
       "      <th>Interview Types2</th>\n",
       "      <th>First interview duration</th>\n",
       "      <th>Last interaction duration</th>\n",
       "      <th>Date of Application</th>\n",
       "      <th>...</th>\n",
       "      <th>Total experience</th>\n",
       "      <th>Relevant experience</th>\n",
       "      <th>Year of graduation</th>\n",
       "      <th>Expected CTC</th>\n",
       "      <th>Percentage hike (CTC) expected</th>\n",
       "      <th>Gender</th>\n",
       "      <th>Candidate source</th>\n",
       "      <th>DOB</th>\n",
       "      <th>Location</th>\n",
       "      <th>Number of precious jobs</th>\n",
       "    </tr>\n",
       "  </thead>\n",
       "  <tbody>\n",
       "    <tr>\n",
       "      <th>195</th>\n",
       "      <td>C196</td>\n",
       "      <td>2020-05-25</td>\n",
       "      <td>4</td>\n",
       "      <td>2020-05-30</td>\n",
       "      <td>2020-06-08</td>\n",
       "      <td>Technical</td>\n",
       "      <td>FaceToFace</td>\n",
       "      <td>15</td>\n",
       "      <td>20</td>\n",
       "      <td>2019-12-06</td>\n",
       "      <td>...</td>\n",
       "      <td>17</td>\n",
       "      <td>15.3</td>\n",
       "      <td>2003</td>\n",
       "      <td>3900000</td>\n",
       "      <td>0.458273</td>\n",
       "      <td>F</td>\n",
       "      <td>Employee referral</td>\n",
       "      <td>1979-02-17</td>\n",
       "      <td>Bangaluru</td>\n",
       "      <td>5</td>\n",
       "    </tr>\n",
       "    <tr>\n",
       "      <th>196</th>\n",
       "      <td>C197</td>\n",
       "      <td>2020-06-13</td>\n",
       "      <td>3</td>\n",
       "      <td>2020-06-18</td>\n",
       "      <td>2020-06-24</td>\n",
       "      <td>General</td>\n",
       "      <td>Written</td>\n",
       "      <td>60</td>\n",
       "      <td>60</td>\n",
       "      <td>2019-11-10</td>\n",
       "      <td>...</td>\n",
       "      <td>16</td>\n",
       "      <td>14.4</td>\n",
       "      <td>2004</td>\n",
       "      <td>3200000</td>\n",
       "      <td>0.286976</td>\n",
       "      <td>M</td>\n",
       "      <td>Agency</td>\n",
       "      <td>1982-05-27</td>\n",
       "      <td>Kolkata</td>\n",
       "      <td>5</td>\n",
       "    </tr>\n",
       "    <tr>\n",
       "      <th>197</th>\n",
       "      <td>C198</td>\n",
       "      <td>2020-01-17</td>\n",
       "      <td>4</td>\n",
       "      <td>2020-01-22</td>\n",
       "      <td>2020-01-31</td>\n",
       "      <td>Technical</td>\n",
       "      <td>FaceToFace</td>\n",
       "      <td>30</td>\n",
       "      <td>15</td>\n",
       "      <td>2019-11-19</td>\n",
       "      <td>...</td>\n",
       "      <td>14</td>\n",
       "      <td>12.6</td>\n",
       "      <td>2006</td>\n",
       "      <td>2600000</td>\n",
       "      <td>0.254088</td>\n",
       "      <td>F</td>\n",
       "      <td>Direct</td>\n",
       "      <td>1985-09-21</td>\n",
       "      <td>Kolkata</td>\n",
       "      <td>4</td>\n",
       "    </tr>\n",
       "    <tr>\n",
       "      <th>198</th>\n",
       "      <td>C199</td>\n",
       "      <td>2020-04-18</td>\n",
       "      <td>4</td>\n",
       "      <td>2020-04-23</td>\n",
       "      <td>2020-05-02</td>\n",
       "      <td>Managerial</td>\n",
       "      <td>FaceToFace</td>\n",
       "      <td>25</td>\n",
       "      <td>25</td>\n",
       "      <td>2019-09-12</td>\n",
       "      <td>...</td>\n",
       "      <td>13</td>\n",
       "      <td>11.7</td>\n",
       "      <td>2007</td>\n",
       "      <td>3000000</td>\n",
       "      <td>0.530020</td>\n",
       "      <td>F</td>\n",
       "      <td>Employee referral</td>\n",
       "      <td>1986-06-02</td>\n",
       "      <td>Kolkata</td>\n",
       "      <td>4</td>\n",
       "    </tr>\n",
       "    <tr>\n",
       "      <th>199</th>\n",
       "      <td>C200</td>\n",
       "      <td>2020-01-24</td>\n",
       "      <td>1</td>\n",
       "      <td>2020-01-29</td>\n",
       "      <td>2020-01-29</td>\n",
       "      <td>General</td>\n",
       "      <td>Online</td>\n",
       "      <td>45</td>\n",
       "      <td>45</td>\n",
       "      <td>2019-10-29</td>\n",
       "      <td>...</td>\n",
       "      <td>4</td>\n",
       "      <td>3.6</td>\n",
       "      <td>2016</td>\n",
       "      <td>800000</td>\n",
       "      <td>0.336813</td>\n",
       "      <td>M</td>\n",
       "      <td>Agency</td>\n",
       "      <td>1994-03-17</td>\n",
       "      <td>Mumbai</td>\n",
       "      <td>1</td>\n",
       "    </tr>\n",
       "  </tbody>\n",
       "</table>\n",
       "<p>5 rows × 37 columns</p>\n",
       "</div>"
      ],
      "text/plain": [
       "    Candidate ID Written Test Date  Interview rounds Date of first Interview  \\\n",
       "195         C196        2020-05-25                 4              2020-05-30   \n",
       "196         C197        2020-06-13                 3              2020-06-18   \n",
       "197         C198        2020-01-17                 4              2020-01-22   \n",
       "198         C199        2020-04-18                 4              2020-04-23   \n",
       "199         C200        2020-01-24                 1              2020-01-29   \n",
       "\n",
       "    Date of last Interview Interview types Interview Types2  \\\n",
       "195             2020-06-08       Technical       FaceToFace   \n",
       "196             2020-06-24         General          Written   \n",
       "197             2020-01-31       Technical       FaceToFace   \n",
       "198             2020-05-02      Managerial       FaceToFace   \n",
       "199             2020-01-29         General           Online   \n",
       "\n",
       "     First interview duration  Last interaction duration Date of Application  \\\n",
       "195                        15                         20          2019-12-06   \n",
       "196                        60                         60          2019-11-10   \n",
       "197                        30                         15          2019-11-19   \n",
       "198                        25                         25          2019-09-12   \n",
       "199                        45                         45          2019-10-29   \n",
       "\n",
       "     ... Total experience Relevant experience Year of graduation Expected CTC  \\\n",
       "195  ...               17                15.3               2003      3900000   \n",
       "196  ...               16                14.4               2004      3200000   \n",
       "197  ...               14                12.6               2006      2600000   \n",
       "198  ...               13                11.7               2007      3000000   \n",
       "199  ...                4                 3.6               2016       800000   \n",
       "\n",
       "    Percentage hike (CTC) expected   Gender   Candidate source        DOB  \\\n",
       "195                        0.458273       F  Employee referral 1979-02-17   \n",
       "196                        0.286976       M             Agency 1982-05-27   \n",
       "197                        0.254088       F             Direct 1985-09-21   \n",
       "198                        0.530020       F  Employee referral 1986-06-02   \n",
       "199                        0.336813       M             Agency 1994-03-17   \n",
       "\n",
       "      Location Number of precious jobs  \n",
       "195  Bangaluru                       5  \n",
       "196    Kolkata                       5  \n",
       "197    Kolkata                       4  \n",
       "198    Kolkata                       4  \n",
       "199     Mumbai                       1  \n",
       "\n",
       "[5 rows x 37 columns]"
      ]
     },
     "execution_count": 11,
     "metadata": {},
     "output_type": "execute_result"
    }
   ],
   "source": [
    "dataset.tail()"
   ]
  },
  {
   "cell_type": "markdown",
   "metadata": {},
   "source": [
    "# Part (B) AND (C) PRE-PROCESS DATA AND EDA"
   ]
  },
  {
   "cell_type": "code",
   "execution_count": 12,
   "metadata": {},
   "outputs": [
    {
     "data": {
      "text/html": [
       "<div>\n",
       "<style scoped>\n",
       "    .dataframe tbody tr th:only-of-type {\n",
       "        vertical-align: middle;\n",
       "    }\n",
       "\n",
       "    .dataframe tbody tr th {\n",
       "        vertical-align: top;\n",
       "    }\n",
       "\n",
       "    .dataframe thead th {\n",
       "        text-align: right;\n",
       "    }\n",
       "</style>\n",
       "<table border=\"1\" class=\"dataframe\">\n",
       "  <thead>\n",
       "    <tr style=\"text-align: right;\">\n",
       "      <th></th>\n",
       "      <th>Interview rounds</th>\n",
       "      <th>First interview duration</th>\n",
       "      <th>Last interaction duration</th>\n",
       "      <th>Offered Salary</th>\n",
       "      <th>Percentage hike offered (CTC)</th>\n",
       "      <th>Joining bonus amount</th>\n",
       "      <th>Notice period</th>\n",
       "      <th>Current CTC</th>\n",
       "      <th>Current gross salary</th>\n",
       "      <th>Total experience</th>\n",
       "      <th>Relevant experience</th>\n",
       "      <th>Year of graduation</th>\n",
       "      <th>Expected CTC</th>\n",
       "      <th>Percentage hike (CTC) expected</th>\n",
       "      <th>Number of precious jobs</th>\n",
       "    </tr>\n",
       "  </thead>\n",
       "  <tbody>\n",
       "    <tr>\n",
       "      <th>count</th>\n",
       "      <td>200.000000</td>\n",
       "      <td>200.000000</td>\n",
       "      <td>200.0000</td>\n",
       "      <td>2.000000e+02</td>\n",
       "      <td>200.000000</td>\n",
       "      <td>200.000000</td>\n",
       "      <td>200.000000</td>\n",
       "      <td>2.000000e+02</td>\n",
       "      <td>2.000000e+02</td>\n",
       "      <td>200.000000</td>\n",
       "      <td>200.000000</td>\n",
       "      <td>200.000000</td>\n",
       "      <td>2.000000e+02</td>\n",
       "      <td>200.000000</td>\n",
       "      <td>200.000000</td>\n",
       "    </tr>\n",
       "    <tr>\n",
       "      <th>mean</th>\n",
       "      <td>2.485000</td>\n",
       "      <td>35.700000</td>\n",
       "      <td>35.1250</td>\n",
       "      <td>2.346565e+06</td>\n",
       "      <td>0.270672</td>\n",
       "      <td>92967.280031</td>\n",
       "      <td>31.275000</td>\n",
       "      <td>1.859346e+06</td>\n",
       "      <td>1.652752e+06</td>\n",
       "      <td>12.280000</td>\n",
       "      <td>11.052000</td>\n",
       "      <td>2007.720000</td>\n",
       "      <td>2.532500e+06</td>\n",
       "      <td>0.370672</td>\n",
       "      <td>3.575000</td>\n",
       "    </tr>\n",
       "    <tr>\n",
       "      <th>std</th>\n",
       "      <td>1.125214</td>\n",
       "      <td>14.397794</td>\n",
       "      <td>14.7631</td>\n",
       "      <td>1.095181e+06</td>\n",
       "      <td>0.087131</td>\n",
       "      <td>43718.606470</td>\n",
       "      <td>22.038098</td>\n",
       "      <td>8.743721e+05</td>\n",
       "      <td>7.772197e+05</td>\n",
       "      <td>5.242041</td>\n",
       "      <td>4.717837</td>\n",
       "      <td>5.242041</td>\n",
       "      <td>1.181556e+06</td>\n",
       "      <td>0.087131</td>\n",
       "      <td>1.728965</td>\n",
       "    </tr>\n",
       "    <tr>\n",
       "      <th>min</th>\n",
       "      <td>1.000000</td>\n",
       "      <td>15.000000</td>\n",
       "      <td>15.0000</td>\n",
       "      <td>4.609491e+05</td>\n",
       "      <td>0.109940</td>\n",
       "      <td>18048.881250</td>\n",
       "      <td>0.000000</td>\n",
       "      <td>3.609776e+05</td>\n",
       "      <td>3.208690e+05</td>\n",
       "      <td>3.000000</td>\n",
       "      <td>2.700000</td>\n",
       "      <td>2000.000000</td>\n",
       "      <td>5.000000e+05</td>\n",
       "      <td>0.209940</td>\n",
       "      <td>1.000000</td>\n",
       "    </tr>\n",
       "    <tr>\n",
       "      <th>25%</th>\n",
       "      <td>1.000000</td>\n",
       "      <td>25.000000</td>\n",
       "      <td>25.0000</td>\n",
       "      <td>1.396196e+06</td>\n",
       "      <td>0.194058</td>\n",
       "      <td>52955.339063</td>\n",
       "      <td>15.000000</td>\n",
       "      <td>1.059107e+06</td>\n",
       "      <td>9.414282e+05</td>\n",
       "      <td>7.750000</td>\n",
       "      <td>6.975000</td>\n",
       "      <td>2003.000000</td>\n",
       "      <td>1.500000e+06</td>\n",
       "      <td>0.294058</td>\n",
       "      <td>2.000000</td>\n",
       "    </tr>\n",
       "    <tr>\n",
       "      <th>50%</th>\n",
       "      <td>3.000000</td>\n",
       "      <td>40.000000</td>\n",
       "      <td>30.0000</td>\n",
       "      <td>2.414243e+06</td>\n",
       "      <td>0.275515</td>\n",
       "      <td>96949.490625</td>\n",
       "      <td>30.000000</td>\n",
       "      <td>1.938990e+06</td>\n",
       "      <td>1.723546e+06</td>\n",
       "      <td>12.000000</td>\n",
       "      <td>10.800000</td>\n",
       "      <td>2008.000000</td>\n",
       "      <td>2.600000e+06</td>\n",
       "      <td>0.375515</td>\n",
       "      <td>4.000000</td>\n",
       "    </tr>\n",
       "    <tr>\n",
       "      <th>75%</th>\n",
       "      <td>3.000000</td>\n",
       "      <td>45.000000</td>\n",
       "      <td>45.0000</td>\n",
       "      <td>3.317921e+06</td>\n",
       "      <td>0.340090</td>\n",
       "      <td>133375.598438</td>\n",
       "      <td>45.000000</td>\n",
       "      <td>2.667512e+06</td>\n",
       "      <td>2.371122e+06</td>\n",
       "      <td>17.000000</td>\n",
       "      <td>15.300000</td>\n",
       "      <td>2012.250000</td>\n",
       "      <td>3.600000e+06</td>\n",
       "      <td>0.440090</td>\n",
       "      <td>5.000000</td>\n",
       "    </tr>\n",
       "    <tr>\n",
       "      <th>max</th>\n",
       "      <td>4.000000</td>\n",
       "      <td>60.000000</td>\n",
       "      <td>60.0000</td>\n",
       "      <td>4.568679e+06</td>\n",
       "      <td>0.491772</td>\n",
       "      <td>167622.243750</td>\n",
       "      <td>60.000000</td>\n",
       "      <td>3.352445e+06</td>\n",
       "      <td>2.979951e+06</td>\n",
       "      <td>20.000000</td>\n",
       "      <td>18.000000</td>\n",
       "      <td>2017.000000</td>\n",
       "      <td>4.900000e+06</td>\n",
       "      <td>0.591772</td>\n",
       "      <td>6.000000</td>\n",
       "    </tr>\n",
       "  </tbody>\n",
       "</table>\n",
       "</div>"
      ],
      "text/plain": [
       "       Interview rounds  First interview duration  Last interaction duration  \\\n",
       "count        200.000000                200.000000                   200.0000   \n",
       "mean           2.485000                 35.700000                    35.1250   \n",
       "std            1.125214                 14.397794                    14.7631   \n",
       "min            1.000000                 15.000000                    15.0000   \n",
       "25%            1.000000                 25.000000                    25.0000   \n",
       "50%            3.000000                 40.000000                    30.0000   \n",
       "75%            3.000000                 45.000000                    45.0000   \n",
       "max            4.000000                 60.000000                    60.0000   \n",
       "\n",
       "       Offered Salary  Percentage hike offered (CTC)  Joining bonus amount  \\\n",
       "count    2.000000e+02                     200.000000            200.000000   \n",
       "mean     2.346565e+06                       0.270672          92967.280031   \n",
       "std      1.095181e+06                       0.087131          43718.606470   \n",
       "min      4.609491e+05                       0.109940          18048.881250   \n",
       "25%      1.396196e+06                       0.194058          52955.339063   \n",
       "50%      2.414243e+06                       0.275515          96949.490625   \n",
       "75%      3.317921e+06                       0.340090         133375.598438   \n",
       "max      4.568679e+06                       0.491772         167622.243750   \n",
       "\n",
       "       Notice period   Current CTC  Current gross salary  Total experience  \\\n",
       "count     200.000000  2.000000e+02          2.000000e+02        200.000000   \n",
       "mean       31.275000  1.859346e+06          1.652752e+06         12.280000   \n",
       "std        22.038098  8.743721e+05          7.772197e+05          5.242041   \n",
       "min         0.000000  3.609776e+05          3.208690e+05          3.000000   \n",
       "25%        15.000000  1.059107e+06          9.414282e+05          7.750000   \n",
       "50%        30.000000  1.938990e+06          1.723546e+06         12.000000   \n",
       "75%        45.000000  2.667512e+06          2.371122e+06         17.000000   \n",
       "max        60.000000  3.352445e+06          2.979951e+06         20.000000   \n",
       "\n",
       "       Relevant experience  Year of graduation  Expected CTC  \\\n",
       "count           200.000000          200.000000  2.000000e+02   \n",
       "mean             11.052000         2007.720000  2.532500e+06   \n",
       "std               4.717837            5.242041  1.181556e+06   \n",
       "min               2.700000         2000.000000  5.000000e+05   \n",
       "25%               6.975000         2003.000000  1.500000e+06   \n",
       "50%              10.800000         2008.000000  2.600000e+06   \n",
       "75%              15.300000         2012.250000  3.600000e+06   \n",
       "max              18.000000         2017.000000  4.900000e+06   \n",
       "\n",
       "       Percentage hike (CTC) expected   Number of precious jobs  \n",
       "count                       200.000000               200.000000  \n",
       "mean                          0.370672                 3.575000  \n",
       "std                           0.087131                 1.728965  \n",
       "min                           0.209940                 1.000000  \n",
       "25%                           0.294058                 2.000000  \n",
       "50%                           0.375515                 4.000000  \n",
       "75%                           0.440090                 5.000000  \n",
       "max                           0.591772                 6.000000  "
      ]
     },
     "execution_count": 12,
     "metadata": {},
     "output_type": "execute_result"
    }
   ],
   "source": [
    "# the dataset is now merged into a single file\n",
    "# with 200 rows and 37 columns \n",
    "# the datasets provided are merged on the \"Candidate ID\"\n",
    "# let's start with the pre-processing of the data.\n",
    "# we can see the statistics of the data using the Describe() function.\n",
    "dataset.describe()"
   ]
  },
  {
   "cell_type": "code",
   "execution_count": 13,
   "metadata": {},
   "outputs": [
    {
     "name": "stdout",
     "output_type": "stream",
     "text": [
      "<class 'pandas.core.frame.DataFrame'>\n",
      "Int64Index: 200 entries, 0 to 199\n",
      "Data columns (total 37 columns):\n",
      " #   Column                           Non-Null Count  Dtype         \n",
      "---  ------                           --------------  -----         \n",
      " 0   Candidate ID                     200 non-null    object        \n",
      " 1   Written Test Date                200 non-null    datetime64[ns]\n",
      " 2   Interview rounds                 200 non-null    int64         \n",
      " 3   Date of first Interview          200 non-null    datetime64[ns]\n",
      " 4   Date of last Interview           200 non-null    datetime64[ns]\n",
      " 5   Interview types                  200 non-null    object        \n",
      " 6   Interview Types2                 200 non-null    object        \n",
      " 7   First interview duration         200 non-null    int64         \n",
      " 8   Last interaction duration        200 non-null    int64         \n",
      " 9   Date of Application              200 non-null    datetime64[ns]\n",
      " 10  Date of Interview                200 non-null    datetime64[ns]\n",
      " 11  Date of Job Offer                200 non-null    datetime64[ns]\n",
      " 12  Date of Offer extension          200 non-null    datetime64[ns]\n",
      " 13  Date of Joining                  200 non-null    datetime64[ns]\n",
      " 14  Offered band                     200 non-null    object        \n",
      " 15  Offered Salary                   200 non-null    float64       \n",
      " 16  Percentage hike offered (CTC)    200 non-null    float64       \n",
      " 17  Joining bonus amount             200 non-null    float64       \n",
      " 18  LOB                              200 non-null    object        \n",
      " 19  Joining location                 200 non-null    object        \n",
      " 20  Candidate relocation status      200 non-null    object        \n",
      " 21  Acceptance status                200 non-null    object        \n",
      " 22  Notice period                    200 non-null    int64         \n",
      " 23  Current CTC                      200 non-null    float64       \n",
      " 24  Current gross salary             200 non-null    int64         \n",
      " 25  Current organization             200 non-null    object        \n",
      " 26  Highest Educational Degree       200 non-null    object        \n",
      " 27  Total experience                 200 non-null    int64         \n",
      " 28  Relevant experience              200 non-null    float64       \n",
      " 29  Year of graduation               200 non-null    int64         \n",
      " 30  Expected CTC                     200 non-null    int64         \n",
      " 31  Percentage hike (CTC) expected   200 non-null    float64       \n",
      " 32  Gender                           200 non-null    object        \n",
      " 33  Candidate source                 200 non-null    object        \n",
      " 34  DOB                              200 non-null    datetime64[ns]\n",
      " 35  Location                         200 non-null    object        \n",
      " 36  Number of precious jobs          200 non-null    int64         \n",
      "dtypes: datetime64[ns](9), float64(6), int64(9), object(13)\n",
      "memory usage: 59.4+ KB\n"
     ]
    }
   ],
   "source": [
    "# let's now have a look at the columns and their data types.\n",
    "dataset.info()"
   ]
  },
  {
   "cell_type": "code",
   "execution_count": 14,
   "metadata": {
    "scrolled": true
   },
   "outputs": [
    {
     "data": {
      "text/plain": [
       "Candidate ID                       0\n",
       "Written Test Date                  0\n",
       "Interview rounds                   0\n",
       "Date of first Interview            0\n",
       "Date of last Interview             0\n",
       "Interview types                    0\n",
       "Interview Types2                   0\n",
       "First interview duration           0\n",
       "Last interaction duration          0\n",
       "Date of Application                0\n",
       "Date of Interview                  0\n",
       "Date of Job Offer                  0\n",
       "Date of Offer extension            0\n",
       "Date of Joining                    0\n",
       "Offered band                       0\n",
       "Offered Salary                     0\n",
       "Percentage hike offered (CTC)      0\n",
       "Joining bonus amount               0\n",
       "LOB                                0\n",
       "Joining location                   0\n",
       "Candidate relocation status        0\n",
       "Acceptance status                  0\n",
       "Notice period                      0\n",
       "Current CTC                        0\n",
       "Current gross salary               0\n",
       "Current organization               0\n",
       "Highest Educational Degree         0\n",
       "Total experience                   0\n",
       "Relevant experience                0\n",
       "Year of graduation                 0\n",
       "Expected CTC                       0\n",
       "Percentage hike (CTC) expected     0\n",
       "Gender                             0\n",
       "Candidate source                   0\n",
       "DOB                                0\n",
       "Location                           0\n",
       "Number of precious jobs            0\n",
       "dtype: int64"
      ]
     },
     "execution_count": 14,
     "metadata": {},
     "output_type": "execute_result"
    }
   ],
   "source": [
    "# let's now start the preprocessing of the data by checking if there is any of the missing values are present in the dataset.\n",
    "dataset.isnull().sum()"
   ]
  },
  {
   "cell_type": "code",
   "execution_count": 15,
   "metadata": {},
   "outputs": [
    {
     "data": {
      "text/plain": [
       "0"
      ]
     },
     "execution_count": 15,
     "metadata": {},
     "output_type": "execute_result"
    }
   ],
   "source": [
    "# As we can see the list of the columns above ; all the columns seem perfect without any missing value present in it.\n",
    "# the numberical value 0 written in the front of the columns is showing the number of the missing values present \n",
    "# in that column. So, No missing values are there.\n",
    "# let's now check if the dataset contains the duplicate data.\n",
    "# the duplicate data can be checked by the following.\n",
    "dataset.duplicated().sum()"
   ]
  },
  {
   "cell_type": "code",
   "execution_count": 16,
   "metadata": {},
   "outputs": [
    {
     "data": {
      "text/plain": [
       "<AxesSubplot:>"
      ]
     },
     "execution_count": 16,
     "metadata": {},
     "output_type": "execute_result"
    },
    {
     "data": {
      "image/png": "[encoded data removed]",
      "text/plain": [
       "<Figure size 432x288 with 1 Axes>"
      ]
     },
     "metadata": {
      "needs_background": "light"
     },
     "output_type": "display_data"
    }
   ],
   "source": [
    "# the 0 value above shows that there are no duplicate records in our dataset.\n",
    "# we can also use the seaborn libraray to check if there are duplicates present in our dataset.\n",
    "sns.heatmap(dataset.isnull(), cbar=False, yticklabels=False, cmap='viridis')"
   ]
  },
  {
   "cell_type": "code",
   "execution_count": 17,
   "metadata": {},
   "outputs": [],
   "source": [
    "# The heatmap does not show any white areas and hence, there are no duplicates present in our dataset.\n",
    "# let's now convert the categorical data present in our dataset into the numerical values."
   ]
  },
  {
   "cell_type": "code",
   "execution_count": 18,
   "metadata": {},
   "outputs": [],
   "source": [
    "label_encoder = LabelEncoder()"
   ]
  },
  {
   "cell_type": "code",
   "execution_count": 19,
   "metadata": {},
   "outputs": [],
   "source": [
    "# let's convert every column that has the object datatype into a numerical value\n",
    "dataset[\"Candidate ID\"] = label_encoder.fit_transform(dataset[\"Candidate ID\"])\n",
    "dataset[\"Interview types\"] = label_encoder.fit_transform(dataset[\"Interview types\"])\n",
    "dataset[\"Interview Types2\"] = label_encoder.fit_transform(dataset[\"Interview Types2\"])\n",
    "dataset[\"Offered band\"] = label_encoder.fit_transform(dataset[\"Offered band\"])\n",
    "dataset[\"LOB\"] = label_encoder.fit_transform(dataset[\"LOB\"])\n",
    "dataset[\"Joining location\"] = label_encoder.fit_transform(dataset[\"Joining location\"])\n",
    "dataset[\"Candidate relocation status\"] = label_encoder.fit_transform(dataset[\"Candidate relocation status\"])\n",
    "dataset[\"Acceptance status\"] = label_encoder.fit_transform(dataset[\"Acceptance status\"])\n",
    "dataset[\"Current organization\"] = label_encoder.fit_transform(dataset[\"Current organization\"])\n",
    "dataset[\"Highest Educational Degree\"] = label_encoder.fit_transform(dataset[\"Highest Educational Degree\"])\n",
    "dataset[\"Gender\"] = label_encoder.fit_transform(dataset[\"Gender\"])\n",
    "dataset[\"Candidate source\"] = label_encoder.fit_transform(dataset[\"Candidate source\"])\n",
    "dataset[\"Location\"] = label_encoder.fit_transform(dataset[\"Location\"])"
   ]
  },
  {
   "cell_type": "code",
   "execution_count": 20,
   "metadata": {},
   "outputs": [
    {
     "data": {
      "text/html": [
       "<div>\n",
       "<style scoped>\n",
       "    .dataframe tbody tr th:only-of-type {\n",
       "        vertical-align: middle;\n",
       "    }\n",
       "\n",
       "    .dataframe tbody tr th {\n",
       "        vertical-align: top;\n",
       "    }\n",
       "\n",
       "    .dataframe thead th {\n",
       "        text-align: right;\n",
       "    }\n",
       "</style>\n",
       "<table border=\"1\" class=\"dataframe\">\n",
       "  <thead>\n",
       "    <tr style=\"text-align: right;\">\n",
       "      <th></th>\n",
       "      <th>Candidate ID</th>\n",
       "      <th>Written Test Date</th>\n",
       "      <th>Interview rounds</th>\n",
       "      <th>Date of first Interview</th>\n",
       "      <th>Date of last Interview</th>\n",
       "      <th>Interview types</th>\n",
       "      <th>Interview Types2</th>\n",
       "      <th>First interview duration</th>\n",
       "      <th>Last interaction duration</th>\n",
       "      <th>Date of Application</th>\n",
       "      <th>...</th>\n",
       "      <th>Total experience</th>\n",
       "      <th>Relevant experience</th>\n",
       "      <th>Year of graduation</th>\n",
       "      <th>Expected CTC</th>\n",
       "      <th>Percentage hike (CTC) expected</th>\n",
       "      <th>Gender</th>\n",
       "      <th>Candidate source</th>\n",
       "      <th>DOB</th>\n",
       "      <th>Location</th>\n",
       "      <th>Number of precious jobs</th>\n",
       "    </tr>\n",
       "  </thead>\n",
       "  <tbody>\n",
       "    <tr>\n",
       "      <th>0</th>\n",
       "      <td>0</td>\n",
       "      <td>2020-05-29</td>\n",
       "      <td>4</td>\n",
       "      <td>2020-06-03</td>\n",
       "      <td>2020-06-12</td>\n",
       "      <td>0</td>\n",
       "      <td>1</td>\n",
       "      <td>40</td>\n",
       "      <td>25</td>\n",
       "      <td>2019-08-28</td>\n",
       "      <td>...</td>\n",
       "      <td>8</td>\n",
       "      <td>7.2</td>\n",
       "      <td>2012</td>\n",
       "      <td>1500000</td>\n",
       "      <td>0.290383</td>\n",
       "      <td>1</td>\n",
       "      <td>1</td>\n",
       "      <td>1991-11-06</td>\n",
       "      <td>5</td>\n",
       "      <td>2</td>\n",
       "    </tr>\n",
       "    <tr>\n",
       "      <th>1</th>\n",
       "      <td>111</td>\n",
       "      <td>2020-05-31</td>\n",
       "      <td>2</td>\n",
       "      <td>2020-06-05</td>\n",
       "      <td>2020-06-08</td>\n",
       "      <td>1</td>\n",
       "      <td>0</td>\n",
       "      <td>40</td>\n",
       "      <td>40</td>\n",
       "      <td>2019-11-28</td>\n",
       "      <td>...</td>\n",
       "      <td>15</td>\n",
       "      <td>13.5</td>\n",
       "      <td>2005</td>\n",
       "      <td>3200000</td>\n",
       "      <td>0.432342</td>\n",
       "      <td>1</td>\n",
       "      <td>0</td>\n",
       "      <td>1984-02-22</td>\n",
       "      <td>9</td>\n",
       "      <td>4</td>\n",
       "    </tr>\n",
       "    <tr>\n",
       "      <th>2</th>\n",
       "      <td>123</td>\n",
       "      <td>2020-05-15</td>\n",
       "      <td>3</td>\n",
       "      <td>2020-05-20</td>\n",
       "      <td>2020-05-26</td>\n",
       "      <td>2</td>\n",
       "      <td>1</td>\n",
       "      <td>45</td>\n",
       "      <td>60</td>\n",
       "      <td>2019-08-11</td>\n",
       "      <td>...</td>\n",
       "      <td>4</td>\n",
       "      <td>3.6</td>\n",
       "      <td>2016</td>\n",
       "      <td>800000</td>\n",
       "      <td>0.371345</td>\n",
       "      <td>1</td>\n",
       "      <td>1</td>\n",
       "      <td>1995-03-27</td>\n",
       "      <td>1</td>\n",
       "      <td>1</td>\n",
       "    </tr>\n",
       "    <tr>\n",
       "      <th>3</th>\n",
       "      <td>134</td>\n",
       "      <td>2020-05-10</td>\n",
       "      <td>1</td>\n",
       "      <td>2020-05-15</td>\n",
       "      <td>2020-05-15</td>\n",
       "      <td>2</td>\n",
       "      <td>2</td>\n",
       "      <td>40</td>\n",
       "      <td>40</td>\n",
       "      <td>2019-08-18</td>\n",
       "      <td>...</td>\n",
       "      <td>20</td>\n",
       "      <td>18.0</td>\n",
       "      <td>2000</td>\n",
       "      <td>4400000</td>\n",
       "      <td>0.373813</td>\n",
       "      <td>1</td>\n",
       "      <td>1</td>\n",
       "      <td>1979-06-14</td>\n",
       "      <td>4</td>\n",
       "      <td>6</td>\n",
       "    </tr>\n",
       "    <tr>\n",
       "      <th>4</th>\n",
       "      <td>145</td>\n",
       "      <td>2020-01-11</td>\n",
       "      <td>4</td>\n",
       "      <td>2020-01-16</td>\n",
       "      <td>2020-01-25</td>\n",
       "      <td>2</td>\n",
       "      <td>1</td>\n",
       "      <td>15</td>\n",
       "      <td>25</td>\n",
       "      <td>2019-09-06</td>\n",
       "      <td>...</td>\n",
       "      <td>17</td>\n",
       "      <td>15.3</td>\n",
       "      <td>2003</td>\n",
       "      <td>3600000</td>\n",
       "      <td>0.389619</td>\n",
       "      <td>1</td>\n",
       "      <td>2</td>\n",
       "      <td>1982-11-26</td>\n",
       "      <td>4</td>\n",
       "      <td>5</td>\n",
       "    </tr>\n",
       "  </tbody>\n",
       "</table>\n",
       "<p>5 rows × 37 columns</p>\n",
       "</div>"
      ],
      "text/plain": [
       "   Candidate ID Written Test Date  Interview rounds Date of first Interview  \\\n",
       "0             0        2020-05-29                 4              2020-06-03   \n",
       "1           111        2020-05-31                 2              2020-06-05   \n",
       "2           123        2020-05-15                 3              2020-05-20   \n",
       "3           134        2020-05-10                 1              2020-05-15   \n",
       "4           145        2020-01-11                 4              2020-01-16   \n",
       "\n",
       "  Date of last Interview  Interview types  Interview Types2  \\\n",
       "0             2020-06-12                0                 1   \n",
       "1             2020-06-08                1                 0   \n",
       "2             2020-05-26                2                 1   \n",
       "3             2020-05-15                2                 2   \n",
       "4             2020-01-25                2                 1   \n",
       "\n",
       "   First interview duration  Last interaction duration Date of Application  \\\n",
       "0                        40                         25          2019-08-28   \n",
       "1                        40                         40          2019-11-28   \n",
       "2                        45                         60          2019-08-11   \n",
       "3                        40                         40          2019-08-18   \n",
       "4                        15                         25          2019-09-06   \n",
       "\n",
       "   ... Total experience Relevant experience Year of graduation Expected CTC  \\\n",
       "0  ...                8                 7.2               2012      1500000   \n",
       "1  ...               15                13.5               2005      3200000   \n",
       "2  ...                4                 3.6               2016       800000   \n",
       "3  ...               20                18.0               2000      4400000   \n",
       "4  ...               17                15.3               2003      3600000   \n",
       "\n",
       "   Percentage hike (CTC) expected   Gender  Candidate source        DOB  \\\n",
       "0                         0.290383       1                 1 1991-11-06   \n",
       "1                         0.432342       1                 0 1984-02-22   \n",
       "2                         0.371345       1                 1 1995-03-27   \n",
       "3                         0.373813       1                 1 1979-06-14   \n",
       "4                         0.389619       1                 2 1982-11-26   \n",
       "\n",
       "   Location  Number of precious jobs  \n",
       "0         5                        2  \n",
       "1         9                        4  \n",
       "2         1                        1  \n",
       "3         4                        6  \n",
       "4         4                        5  \n",
       "\n",
       "[5 rows x 37 columns]"
      ]
     },
     "execution_count": 20,
     "metadata": {},
     "output_type": "execute_result"
    }
   ],
   "source": [
    "dataset.head()"
   ]
  },
  {
   "cell_type": "code",
   "execution_count": 21,
   "metadata": {},
   "outputs": [
    {
     "data": {
      "text/plain": [
       "<AxesSubplot:>"
      ]
     },
     "execution_count": 21,
     "metadata": {},
     "output_type": "execute_result"
    },
    {
     "data": {
      "image/png": "[encoded data removed]",
      "text/plain": [
       "<Figure size 432x288 with 1 Axes>"
      ]
     },
     "metadata": {
      "needs_background": "light"
     },
     "output_type": "display_data"
    }
   ],
   "source": [
    "# Now, we can see that columns that we have are converted into the numerical values\n",
    "# there are no categorical values present in our dataset.\n",
    "# Hence, the label encoder converted the categorical values to the numerical values.\n",
    "# let's move ahead to next step of pre-processing and check if there are outliers present in our dataset.\n",
    "# let's check one by one if outliers are present in any column.\n",
    "dataset.boxplot(column = [\"Candidate ID\"])"
   ]
  },
  {
   "cell_type": "code",
   "execution_count": 22,
   "metadata": {},
   "outputs": [
    {
     "data": {
      "text/plain": [
       "<AxesSubplot:>"
      ]
     },
     "execution_count": 22,
     "metadata": {},
     "output_type": "execute_result"
    },
    {
     "data": {
      "image/png": "[encoded data removed]",
      "text/plain": [
       "<Figure size 432x288 with 1 Axes>"
      ]
     },
     "metadata": {
      "needs_background": "light"
     },
     "output_type": "display_data"
    }
   ],
   "source": [
    "# no outliers in candidate ID\n",
    "# let's check the column - Written Test Date.\n",
    "dataset.boxplot(column = [\"Interview rounds\"])"
   ]
  },
  {
   "cell_type": "code",
   "execution_count": 23,
   "metadata": {},
   "outputs": [
    {
     "data": {
      "text/plain": [
       "<AxesSubplot:>"
      ]
     },
     "execution_count": 23,
     "metadata": {},
     "output_type": "execute_result"
    },
    {
     "data": {
      "image/png": "[encoded data removed]",
      "text/plain": [
       "<Figure size 432x288 with 1 Axes>"
      ]
     },
     "metadata": {
      "needs_background": "light"
     },
     "output_type": "display_data"
    }
   ],
   "source": [
    "dataset.boxplot(column = [\"Interview types\"])"
   ]
  },
  {
   "cell_type": "code",
   "execution_count": 24,
   "metadata": {},
   "outputs": [
    {
     "data": {
      "text/plain": [
       "<AxesSubplot:>"
      ]
     },
     "execution_count": 24,
     "metadata": {},
     "output_type": "execute_result"
    },
    {
     "data": {
      "image/png": "[encoded data removed]",
      "text/plain": [
       "<Figure size 432x288 with 1 Axes>"
      ]
     },
     "metadata": {
      "needs_background": "light"
     },
     "output_type": "display_data"
    }
   ],
   "source": [
    "dataset.boxplot(column = [\"Interview Types2\"])"
   ]
  },
  {
   "cell_type": "code",
   "execution_count": 25,
   "metadata": {},
   "outputs": [
    {
     "data": {
      "text/plain": [
       "<AxesSubplot:>"
      ]
     },
     "execution_count": 25,
     "metadata": {},
     "output_type": "execute_result"
    },
    {
     "data": {
      "image/png": "[encoded data removed]",
      "text/plain": [
       "<Figure size 432x288 with 1 Axes>"
      ]
     },
     "metadata": {
      "needs_background": "light"
     },
     "output_type": "display_data"
    }
   ],
   "source": [
    "dataset.boxplot(column = [\"First interview duration\"])"
   ]
  },
  {
   "cell_type": "code",
   "execution_count": 26,
   "metadata": {},
   "outputs": [
    {
     "data": {
      "text/plain": [
       "<AxesSubplot:>"
      ]
     },
     "execution_count": 26,
     "metadata": {},
     "output_type": "execute_result"
    },
    {
     "data": {
      "image/png": "[encoded data removed]",
      "text/plain": [
       "<Figure size 432x288 with 1 Axes>"
      ]
     },
     "metadata": {
      "needs_background": "light"
     },
     "output_type": "display_data"
    }
   ],
   "source": [
    "dataset.boxplot(column = [\"Last interaction duration\"])"
   ]
  },
  {
   "cell_type": "code",
   "execution_count": 27,
   "metadata": {},
   "outputs": [
    {
     "data": {
      "text/plain": [
       "<AxesSubplot:>"
      ]
     },
     "execution_count": 27,
     "metadata": {},
     "output_type": "execute_result"
    },
    {
     "data": {
      "image/png": "[encoded data removed]",
      "text/plain": [
       "<Figure size 432x288 with 1 Axes>"
      ]
     },
     "metadata": {
      "needs_background": "light"
     },
     "output_type": "display_data"
    }
   ],
   "source": [
    "dataset.boxplot(column = [\"Offered band\"])"
   ]
  },
  {
   "cell_type": "code",
   "execution_count": 28,
   "metadata": {},
   "outputs": [
    {
     "data": {
      "text/plain": [
       "<AxesSubplot:>"
      ]
     },
     "execution_count": 28,
     "metadata": {},
     "output_type": "execute_result"
    },
    {
     "data": {
      "image/png": "[encoded data removed]",
      "text/plain": [
       "<Figure size 432x288 with 1 Axes>"
      ]
     },
     "metadata": {
      "needs_background": "light"
     },
     "output_type": "display_data"
    }
   ],
   "source": [
    "dataset.boxplot(column = [\"Offered Salary\"])"
   ]
  },
  {
   "cell_type": "code",
   "execution_count": 29,
   "metadata": {},
   "outputs": [
    {
     "data": {
      "text/plain": [
       "<AxesSubplot:>"
      ]
     },
     "execution_count": 29,
     "metadata": {},
     "output_type": "execute_result"
    },
    {
     "data": {
      "image/png": "[encoded data removed]",
      "text/plain": [
       "<Figure size 432x288 with 1 Axes>"
      ]
     },
     "metadata": {
      "needs_background": "light"
     },
     "output_type": "display_data"
    }
   ],
   "source": [
    "dataset.boxplot(column = [\"Percentage hike offered (CTC)\"])"
   ]
  },
  {
   "cell_type": "code",
   "execution_count": 30,
   "metadata": {},
   "outputs": [
    {
     "data": {
      "text/plain": [
       "<AxesSubplot:>"
      ]
     },
     "execution_count": 30,
     "metadata": {},
     "output_type": "execute_result"
    },
    {
     "data": {
      "image/png": "[encoded data removed]",
      "text/plain": [
       "<Figure size 432x288 with 1 Axes>"
      ]
     },
     "metadata": {
      "needs_background": "light"
     },
     "output_type": "display_data"
    }
   ],
   "source": [
    "dataset.boxplot(column = [\"Joining bonus amount\"])"
   ]
  },
  {
   "cell_type": "code",
   "execution_count": 31,
   "metadata": {},
   "outputs": [
    {
     "data": {
      "text/plain": [
       "<AxesSubplot:>"
      ]
     },
     "execution_count": 31,
     "metadata": {},
     "output_type": "execute_result"
    },
    {
     "data": {
      "image/png": "[encoded data removed]",
      "text/plain": [
       "<Figure size 432x288 with 1 Axes>"
      ]
     },
     "metadata": {
      "needs_background": "light"
     },
     "output_type": "display_data"
    }
   ],
   "source": [
    "dataset.boxplot(column = [\"LOB\"])"
   ]
  },
  {
   "cell_type": "code",
   "execution_count": 32,
   "metadata": {},
   "outputs": [
    {
     "data": {
      "text/plain": [
       "<AxesSubplot:>"
      ]
     },
     "execution_count": 32,
     "metadata": {},
     "output_type": "execute_result"
    },
    {
     "data": {
      "image/png": "[encoded data removed]",
      "text/plain": [
       "<Figure size 432x288 with 1 Axes>"
      ]
     },
     "metadata": {
      "needs_background": "light"
     },
     "output_type": "display_data"
    }
   ],
   "source": [
    "dataset.boxplot(column = [\"Joining location\"])"
   ]
  },
  {
   "cell_type": "code",
   "execution_count": 33,
   "metadata": {},
   "outputs": [
    {
     "data": {
      "text/plain": [
       "<AxesSubplot:>"
      ]
     },
     "execution_count": 33,
     "metadata": {},
     "output_type": "execute_result"
    },
    {
     "data": {
      "image/png": "[encoded data removed]",
      "text/plain": [
       "<Figure size 432x288 with 1 Axes>"
      ]
     },
     "metadata": {
      "needs_background": "light"
     },
     "output_type": "display_data"
    }
   ],
   "source": [
    "dataset.boxplot(column = [\"Candidate relocation status\"])"
   ]
  },
  {
   "cell_type": "code",
   "execution_count": 34,
   "metadata": {},
   "outputs": [
    {
     "data": {
      "text/plain": [
       "<AxesSubplot:>"
      ]
     },
     "execution_count": 34,
     "metadata": {},
     "output_type": "execute_result"
    },
    {
     "data": {
      "image/png": "[encoded data removed]",
      "text/plain": [
       "<Figure size 432x288 with 1 Axes>"
      ]
     },
     "metadata": {
      "needs_background": "light"
     },
     "output_type": "display_data"
    }
   ],
   "source": [
    "dataset.boxplot(column = [\"Acceptance status\"])"
   ]
  },
  {
   "cell_type": "code",
   "execution_count": 35,
   "metadata": {},
   "outputs": [
    {
     "data": {
      "text/plain": [
       "<AxesSubplot:>"
      ]
     },
     "execution_count": 35,
     "metadata": {},
     "output_type": "execute_result"
    },
    {
     "data": {
      "image/png": "[encoded data removed]",
      "text/plain": [
       "<Figure size 432x288 with 1 Axes>"
      ]
     },
     "metadata": {
      "needs_background": "light"
     },
     "output_type": "display_data"
    }
   ],
   "source": [
    "dataset.boxplot(column = [\"Notice period\"])"
   ]
  },
  {
   "cell_type": "code",
   "execution_count": 36,
   "metadata": {},
   "outputs": [
    {
     "data": {
      "text/plain": [
       "<AxesSubplot:>"
      ]
     },
     "execution_count": 36,
     "metadata": {},
     "output_type": "execute_result"
    },
    {
     "data": {
      "image/png": "[encoded data removed]",
      "text/plain": [
       "<Figure size 432x288 with 1 Axes>"
      ]
     },
     "metadata": {
      "needs_background": "light"
     },
     "output_type": "display_data"
    }
   ],
   "source": [
    "dataset.boxplot(column = [\"Current CTC\"])"
   ]
  },
  {
   "cell_type": "code",
   "execution_count": 37,
   "metadata": {},
   "outputs": [
    {
     "data": {
      "text/plain": [
       "<AxesSubplot:>"
      ]
     },
     "execution_count": 37,
     "metadata": {},
     "output_type": "execute_result"
    },
    {
     "data": {
      "image/png": "[encoded data removed]",
      "text/plain": [
       "<Figure size 432x288 with 1 Axes>"
      ]
     },
     "metadata": {
      "needs_background": "light"
     },
     "output_type": "display_data"
    }
   ],
   "source": [
    "dataset.boxplot(column = [\"Current gross salary\"])"
   ]
  },
  {
   "cell_type": "code",
   "execution_count": 38,
   "metadata": {},
   "outputs": [
    {
     "data": {
      "text/plain": [
       "<AxesSubplot:>"
      ]
     },
     "execution_count": 38,
     "metadata": {},
     "output_type": "execute_result"
    },
    {
     "data": {
      "image/png": "[encoded data removed]",
      "text/plain": [
       "<Figure size 432x288 with 1 Axes>"
      ]
     },
     "metadata": {
      "needs_background": "light"
     },
     "output_type": "display_data"
    }
   ],
   "source": [
    "dataset.boxplot(column = [\"Current organization\"])"
   ]
  },
  {
   "cell_type": "code",
   "execution_count": 39,
   "metadata": {},
   "outputs": [
    {
     "data": {
      "text/plain": [
       "<AxesSubplot:>"
      ]
     },
     "execution_count": 39,
     "metadata": {},
     "output_type": "execute_result"
    },
    {
     "data": {
      "image/png": "[encoded data removed]",
      "text/plain": [
       "<Figure size 432x288 with 1 Axes>"
      ]
     },
     "metadata": {
      "needs_background": "light"
     },
     "output_type": "display_data"
    }
   ],
   "source": [
    "dataset.boxplot(column = [\"Highest Educational Degree\"])"
   ]
  },
  {
   "cell_type": "code",
   "execution_count": 40,
   "metadata": {},
   "outputs": [
    {
     "data": {
      "text/plain": [
       "<AxesSubplot:>"
      ]
     },
     "execution_count": 40,
     "metadata": {},
     "output_type": "execute_result"
    },
    {
     "data": {
      "image/png": "[encoded data removed]",
      "text/plain": [
       "<Figure size 432x288 with 1 Axes>"
      ]
     },
     "metadata": {
      "needs_background": "light"
     },
     "output_type": "display_data"
    }
   ],
   "source": [
    "dataset.boxplot(column = [\"Total experience\"])"
   ]
  },
  {
   "cell_type": "code",
   "execution_count": 41,
   "metadata": {},
   "outputs": [
    {
     "data": {
      "text/plain": [
       "<AxesSubplot:>"
      ]
     },
     "execution_count": 41,
     "metadata": {},
     "output_type": "execute_result"
    },
    {
     "data": {
      "image/png": "[encoded data removed]",
      "text/plain": [
       "<Figure size 432x288 with 1 Axes>"
      ]
     },
     "metadata": {
      "needs_background": "light"
     },
     "output_type": "display_data"
    }
   ],
   "source": [
    "dataset.boxplot(column = [\"Relevant experience\"])"
   ]
  },
  {
   "cell_type": "code",
   "execution_count": 42,
   "metadata": {},
   "outputs": [
    {
     "data": {
      "text/plain": [
       "<AxesSubplot:>"
      ]
     },
     "execution_count": 42,
     "metadata": {},
     "output_type": "execute_result"
    },
    {
     "data": {
      "image/png": "[encoded data removed]",
      "text/plain": [
       "<Figure size 432x288 with 1 Axes>"
      ]
     },
     "metadata": {
      "needs_background": "light"
     },
     "output_type": "display_data"
    }
   ],
   "source": [
    "dataset.boxplot(column = [\"Year of graduation\"])"
   ]
  },
  {
   "cell_type": "code",
   "execution_count": 43,
   "metadata": {},
   "outputs": [
    {
     "data": {
      "text/plain": [
       "<AxesSubplot:>"
      ]
     },
     "execution_count": 43,
     "metadata": {},
     "output_type": "execute_result"
    },
    {
     "data": {
      "image/png": "[encoded data removed]",
      "text/plain": [
       "<Figure size 432x288 with 1 Axes>"
      ]
     },
     "metadata": {
      "needs_background": "light"
     },
     "output_type": "display_data"
    }
   ],
   "source": [
    "dataset.boxplot(column = [\"Expected CTC\"])"
   ]
  },
  {
   "cell_type": "code",
   "execution_count": 44,
   "metadata": {},
   "outputs": [
    {
     "data": {
      "text/plain": [
       "<AxesSubplot:>"
      ]
     },
     "execution_count": 44,
     "metadata": {},
     "output_type": "execute_result"
    },
    {
     "data": {
      "image/png": "[encoded data removed]",
      "text/plain": [
       "<Figure size 432x288 with 1 Axes>"
      ]
     },
     "metadata": {
      "needs_background": "light"
     },
     "output_type": "display_data"
    }
   ],
   "source": [
    "dataset.boxplot(column = [\"Gender\"])"
   ]
  },
  {
   "cell_type": "code",
   "execution_count": 45,
   "metadata": {},
   "outputs": [
    {
     "data": {
      "text/plain": [
       "<AxesSubplot:>"
      ]
     },
     "execution_count": 45,
     "metadata": {},
     "output_type": "execute_result"
    },
    {
     "data": {
      "image/png": "[encoded data removed]",
      "text/plain": [
       "<Figure size 432x288 with 1 Axes>"
      ]
     },
     "metadata": {
      "needs_background": "light"
     },
     "output_type": "display_data"
    }
   ],
   "source": [
    "dataset.boxplot(column = [\"Candidate source\"])"
   ]
  },
  {
   "cell_type": "code",
   "execution_count": 46,
   "metadata": {},
   "outputs": [
    {
     "data": {
      "text/plain": [
       "<AxesSubplot:>"
      ]
     },
     "execution_count": 46,
     "metadata": {},
     "output_type": "execute_result"
    },
    {
     "data": {
      "image/png": "[encoded data removed]",
      "text/plain": [
       "<Figure size 432x288 with 1 Axes>"
      ]
     },
     "metadata": {
      "needs_background": "light"
     },
     "output_type": "display_data"
    }
   ],
   "source": [
    "dataset.boxplot(column = [\"Location\"])"
   ]
  },
  {
   "cell_type": "code",
   "execution_count": 47,
   "metadata": {},
   "outputs": [
    {
     "data": {
      "text/plain": [
       "<AxesSubplot:>"
      ]
     },
     "execution_count": 47,
     "metadata": {},
     "output_type": "execute_result"
    },
    {
     "data": {
      "image/png": "[encoded data removed]",
      "text/plain": [
       "<Figure size 432x288 with 1 Axes>"
      ]
     },
     "metadata": {
      "needs_background": "light"
     },
     "output_type": "display_data"
    }
   ],
   "source": [
    "dataset.boxplot(column = [\"Number of precious jobs\"])"
   ]
  },
  {
   "cell_type": "code",
   "execution_count": 48,
   "metadata": {},
   "outputs": [],
   "source": [
    "# Candidate relocation status ; this is the only column having the outlier\n",
    "# present in the dataset.\n",
    "# let's remove the outlier by using the following column.\n",
    "# Let's define a function that will remove the outliers for getting threshold value from IQR.\n",
    "def remove_outlier(col):\n",
    "    sorted(col)\n",
    "    Q1,Q3 = col.quantile([0.25, 0.75])\n",
    "    IQR = Q3 - Q1\n",
    "    lower_range = Q1 - (1.5 * IQR)\n",
    "    upper_range = Q3 + (1.5 * IQR)\n",
    "    return lower_range, upper_range"
   ]
  },
  {
   "cell_type": "code",
   "execution_count": 49,
   "metadata": {},
   "outputs": [],
   "source": [
    "lowerStatus, higherStatus = remove_outlier(dataset[\"Candidate relocation status\"])"
   ]
  },
  {
   "cell_type": "code",
   "execution_count": 50,
   "metadata": {},
   "outputs": [],
   "source": [
    "# we will now remove the data points having the higher values than expected range.\n",
    "dataset[\"Candidate relocation status\"] = np.where(dataset[\"Candidate relocation status\"] > higherStatus, higherStatus, dataset[\"Candidate relocation status\"])\n",
    "\n",
    "# we will now remove the data points having the lower values than expected range.\n",
    "dataset[\"Candidate relocation status\"] = np.where(dataset[\"Candidate relocation status\"] < lowerStatus, lowerStatus, dataset[\"Candidate relocation status\"])"
   ]
  },
  {
   "cell_type": "code",
   "execution_count": 51,
   "metadata": {},
   "outputs": [
    {
     "data": {
      "text/plain": [
       "<AxesSubplot:>"
      ]
     },
     "execution_count": 51,
     "metadata": {},
     "output_type": "execute_result"
    },
    {
     "data": {
      "image/png": "[encoded data removed]",
      "text/plain": [
       "<Figure size 432x288 with 1 Axes>"
      ]
     },
     "metadata": {
      "needs_background": "light"
     },
     "output_type": "display_data"
    }
   ],
   "source": [
    "# let's again check the outlier for the Candidate relocation status.\n",
    "dataset.boxplot(column = [\"Candidate relocation status\"])"
   ]
  },
  {
   "cell_type": "code",
   "execution_count": 52,
   "metadata": {},
   "outputs": [
    {
     "data": {
      "text/html": [
       "<div>\n",
       "<style scoped>\n",
       "    .dataframe tbody tr th:only-of-type {\n",
       "        vertical-align: middle;\n",
       "    }\n",
       "\n",
       "    .dataframe tbody tr th {\n",
       "        vertical-align: top;\n",
       "    }\n",
       "\n",
       "    .dataframe thead th {\n",
       "        text-align: right;\n",
       "    }\n",
       "</style>\n",
       "<table border=\"1\" class=\"dataframe\">\n",
       "  <thead>\n",
       "    <tr style=\"text-align: right;\">\n",
       "      <th></th>\n",
       "      <th></th>\n",
       "      <th>Notice period</th>\n",
       "    </tr>\n",
       "    <tr>\n",
       "      <th>LOB</th>\n",
       "      <th>Gender</th>\n",
       "      <th></th>\n",
       "    </tr>\n",
       "  </thead>\n",
       "  <tbody>\n",
       "    <tr>\n",
       "      <th rowspan=\"2\" valign=\"top\">0</th>\n",
       "      <th>0</th>\n",
       "      <td>22</td>\n",
       "    </tr>\n",
       "    <tr>\n",
       "      <th>1</th>\n",
       "      <td>33</td>\n",
       "    </tr>\n",
       "    <tr>\n",
       "      <th rowspan=\"2\" valign=\"top\">1</th>\n",
       "      <th>0</th>\n",
       "      <td>55</td>\n",
       "    </tr>\n",
       "    <tr>\n",
       "      <th>1</th>\n",
       "      <td>65</td>\n",
       "    </tr>\n",
       "    <tr>\n",
       "      <th rowspan=\"2\" valign=\"top\">2</th>\n",
       "      <th>0</th>\n",
       "      <td>12</td>\n",
       "    </tr>\n",
       "    <tr>\n",
       "      <th>1</th>\n",
       "      <td>13</td>\n",
       "    </tr>\n",
       "  </tbody>\n",
       "</table>\n",
       "</div>"
      ],
      "text/plain": [
       "            Notice period\n",
       "LOB Gender               \n",
       "0   0                  22\n",
       "    1                  33\n",
       "1   0                  55\n",
       "    1                  65\n",
       "2   0                  12\n",
       "    1                  13"
      ]
     },
     "execution_count": 52,
     "metadata": {},
     "output_type": "execute_result"
    }
   ],
   "source": [
    "pd.pivot_table(dataset, index=['LOB', 'Gender'], values='Notice period', aggfunc='count')"
   ]
  },
  {
   "cell_type": "code",
   "execution_count": 53,
   "metadata": {},
   "outputs": [
    {
     "data": {
      "text/html": [
       "<div>\n",
       "<style scoped>\n",
       "    .dataframe tbody tr th:only-of-type {\n",
       "        vertical-align: middle;\n",
       "    }\n",
       "\n",
       "    .dataframe tbody tr th {\n",
       "        vertical-align: top;\n",
       "    }\n",
       "\n",
       "    .dataframe thead th {\n",
       "        text-align: right;\n",
       "    }\n",
       "</style>\n",
       "<table border=\"1\" class=\"dataframe\">\n",
       "  <thead>\n",
       "    <tr style=\"text-align: right;\">\n",
       "      <th></th>\n",
       "      <th></th>\n",
       "      <th>LOB</th>\n",
       "    </tr>\n",
       "    <tr>\n",
       "      <th>Offered band</th>\n",
       "      <th>Interview rounds</th>\n",
       "      <th></th>\n",
       "    </tr>\n",
       "  </thead>\n",
       "  <tbody>\n",
       "    <tr>\n",
       "      <th rowspan=\"4\" valign=\"top\">0</th>\n",
       "      <th>1</th>\n",
       "      <td>2</td>\n",
       "    </tr>\n",
       "    <tr>\n",
       "      <th>2</th>\n",
       "      <td>6</td>\n",
       "    </tr>\n",
       "    <tr>\n",
       "      <th>3</th>\n",
       "      <td>8</td>\n",
       "    </tr>\n",
       "    <tr>\n",
       "      <th>4</th>\n",
       "      <td>2</td>\n",
       "    </tr>\n",
       "    <tr>\n",
       "      <th rowspan=\"4\" valign=\"top\">1</th>\n",
       "      <th>1</th>\n",
       "      <td>6</td>\n",
       "    </tr>\n",
       "    <tr>\n",
       "      <th>2</th>\n",
       "      <td>3</td>\n",
       "    </tr>\n",
       "    <tr>\n",
       "      <th>3</th>\n",
       "      <td>5</td>\n",
       "    </tr>\n",
       "    <tr>\n",
       "      <th>4</th>\n",
       "      <td>6</td>\n",
       "    </tr>\n",
       "    <tr>\n",
       "      <th rowspan=\"4\" valign=\"top\">2</th>\n",
       "      <th>1</th>\n",
       "      <td>9</td>\n",
       "    </tr>\n",
       "    <tr>\n",
       "      <th>2</th>\n",
       "      <td>6</td>\n",
       "    </tr>\n",
       "    <tr>\n",
       "      <th>3</th>\n",
       "      <td>6</td>\n",
       "    </tr>\n",
       "    <tr>\n",
       "      <th>4</th>\n",
       "      <td>8</td>\n",
       "    </tr>\n",
       "    <tr>\n",
       "      <th rowspan=\"4\" valign=\"top\">3</th>\n",
       "      <th>1</th>\n",
       "      <td>9</td>\n",
       "    </tr>\n",
       "    <tr>\n",
       "      <th>2</th>\n",
       "      <td>11</td>\n",
       "    </tr>\n",
       "    <tr>\n",
       "      <th>3</th>\n",
       "      <td>6</td>\n",
       "    </tr>\n",
       "    <tr>\n",
       "      <th>4</th>\n",
       "      <td>9</td>\n",
       "    </tr>\n",
       "    <tr>\n",
       "      <th rowspan=\"4\" valign=\"top\">4</th>\n",
       "      <th>1</th>\n",
       "      <td>2</td>\n",
       "    </tr>\n",
       "    <tr>\n",
       "      <th>2</th>\n",
       "      <td>7</td>\n",
       "    </tr>\n",
       "    <tr>\n",
       "      <th>3</th>\n",
       "      <td>8</td>\n",
       "    </tr>\n",
       "    <tr>\n",
       "      <th>4</th>\n",
       "      <td>8</td>\n",
       "    </tr>\n",
       "    <tr>\n",
       "      <th rowspan=\"4\" valign=\"top\">5</th>\n",
       "      <th>1</th>\n",
       "      <td>9</td>\n",
       "    </tr>\n",
       "    <tr>\n",
       "      <th>2</th>\n",
       "      <td>4</td>\n",
       "    </tr>\n",
       "    <tr>\n",
       "      <th>3</th>\n",
       "      <td>9</td>\n",
       "    </tr>\n",
       "    <tr>\n",
       "      <th>4</th>\n",
       "      <td>9</td>\n",
       "    </tr>\n",
       "    <tr>\n",
       "      <th rowspan=\"4\" valign=\"top\">6</th>\n",
       "      <th>1</th>\n",
       "      <td>16</td>\n",
       "    </tr>\n",
       "    <tr>\n",
       "      <th>2</th>\n",
       "      <td>8</td>\n",
       "    </tr>\n",
       "    <tr>\n",
       "      <th>3</th>\n",
       "      <td>12</td>\n",
       "    </tr>\n",
       "    <tr>\n",
       "      <th>4</th>\n",
       "      <td>6</td>\n",
       "    </tr>\n",
       "  </tbody>\n",
       "</table>\n",
       "</div>"
      ],
      "text/plain": [
       "                               LOB\n",
       "Offered band Interview rounds     \n",
       "0            1                   2\n",
       "             2                   6\n",
       "             3                   8\n",
       "             4                   2\n",
       "1            1                   6\n",
       "             2                   3\n",
       "             3                   5\n",
       "             4                   6\n",
       "2            1                   9\n",
       "             2                   6\n",
       "             3                   6\n",
       "             4                   8\n",
       "3            1                   9\n",
       "             2                  11\n",
       "             3                   6\n",
       "             4                   9\n",
       "4            1                   2\n",
       "             2                   7\n",
       "             3                   8\n",
       "             4                   8\n",
       "5            1                   9\n",
       "             2                   4\n",
       "             3                   9\n",
       "             4                   9\n",
       "6            1                  16\n",
       "             2                   8\n",
       "             3                  12\n",
       "             4                   6"
      ]
     },
     "execution_count": 53,
     "metadata": {},
     "output_type": "execute_result"
    }
   ],
   "source": [
    "pd.pivot_table(dataset, index=['Offered band','Interview rounds'], values = 'LOB', aggfunc = 'count')"
   ]
  },
  {
   "cell_type": "markdown",
   "metadata": {},
   "source": [
    "#### Dummy variables"
   ]
  },
  {
   "cell_type": "code",
   "execution_count": 54,
   "metadata": {},
   "outputs": [],
   "source": [
    "# Acceptance status\n",
    "dataset['Acceptance status_binned'] = dataset['Acceptance status']\n",
    "# 1: Offer Rejected 0: Joined\n",
    "\n",
    "# Number of previous jobs\n",
    "dataset['Number of precious jobs_binned']=pd.cut(x = dataset['Number of precious jobs'],\n",
    "                        bins = [0,2,100], \n",
    "                        labels = [0, 1])\n",
    "# 1: 3+  0: 0-2\n",
    "\n",
    "# Interview rounds\n",
    "dataset['Interview rounds_binned']=pd.cut(x = dataset['Interview rounds'],\n",
    "                        bins = [0,1,100], \n",
    "                        labels = [0, 1])\n",
    "# 1: 3+   0: 1-2 \n",
    "\n",
    "# Total Experience\n",
    "dataset['Total experience_binned']=pd.cut(x = dataset['Total experience'],\n",
    "                        bins = [0,9,100], \n",
    "                        labels = [0, 1])\n",
    "# 1: 10+ years  0: 0-9 years\n",
    "\n",
    "# Relevant Experience (Variable is correlated with Total experience and can be dropped off)\n",
    "dataset['Relevant experience_binned']=pd.cut(x = dataset['Relevant experience'],\n",
    "                        bins = [0,8.5,100], \n",
    "                        labels = [0, 1])\n",
    "# 1: 9+ years  0: 0-8.5 years\n",
    "\n",
    "#Interview types\n",
    "dataset['Interview types_binned'] = dataset['Interview types']\n",
    "# 1: General 0: Others (Manegerial/Technical)\n",
    "\n",
    "#Interview types2\n",
    "dataset['Interview Types2_binned'] = dataset['Interview Types2']\n",
    "# 1: Online 0: Others (FaceToFace/Written)"
   ]
  },
  {
   "cell_type": "code",
   "execution_count": 55,
   "metadata": {},
   "outputs": [
    {
     "data": {
      "text/html": [
       "<div>\n",
       "<style scoped>\n",
       "    .dataframe tbody tr th:only-of-type {\n",
       "        vertical-align: middle;\n",
       "    }\n",
       "\n",
       "    .dataframe tbody tr th {\n",
       "        vertical-align: top;\n",
       "    }\n",
       "\n",
       "    .dataframe thead th {\n",
       "        text-align: right;\n",
       "    }\n",
       "</style>\n",
       "<table border=\"1\" class=\"dataframe\">\n",
       "  <thead>\n",
       "    <tr style=\"text-align: right;\">\n",
       "      <th></th>\n",
       "      <th>Candidate ID</th>\n",
       "      <th>Written Test Date</th>\n",
       "      <th>Interview rounds</th>\n",
       "      <th>Date of first Interview</th>\n",
       "      <th>Date of last Interview</th>\n",
       "      <th>Interview types</th>\n",
       "      <th>Interview Types2</th>\n",
       "      <th>First interview duration</th>\n",
       "      <th>Last interaction duration</th>\n",
       "      <th>Date of Application</th>\n",
       "      <th>...</th>\n",
       "      <th>DOB</th>\n",
       "      <th>Location</th>\n",
       "      <th>Number of precious jobs</th>\n",
       "      <th>Acceptance status_binned</th>\n",
       "      <th>Number of precious jobs_binned</th>\n",
       "      <th>Interview rounds_binned</th>\n",
       "      <th>Total experience_binned</th>\n",
       "      <th>Relevant experience_binned</th>\n",
       "      <th>Interview types_binned</th>\n",
       "      <th>Interview Types2_binned</th>\n",
       "    </tr>\n",
       "  </thead>\n",
       "  <tbody>\n",
       "    <tr>\n",
       "      <th>0</th>\n",
       "      <td>0</td>\n",
       "      <td>2020-05-29</td>\n",
       "      <td>4</td>\n",
       "      <td>2020-06-03</td>\n",
       "      <td>2020-06-12</td>\n",
       "      <td>0</td>\n",
       "      <td>1</td>\n",
       "      <td>40</td>\n",
       "      <td>25</td>\n",
       "      <td>2019-08-28</td>\n",
       "      <td>...</td>\n",
       "      <td>1991-11-06</td>\n",
       "      <td>5</td>\n",
       "      <td>2</td>\n",
       "      <td>0</td>\n",
       "      <td>0</td>\n",
       "      <td>1</td>\n",
       "      <td>0</td>\n",
       "      <td>0</td>\n",
       "      <td>0</td>\n",
       "      <td>1</td>\n",
       "    </tr>\n",
       "    <tr>\n",
       "      <th>1</th>\n",
       "      <td>111</td>\n",
       "      <td>2020-05-31</td>\n",
       "      <td>2</td>\n",
       "      <td>2020-06-05</td>\n",
       "      <td>2020-06-08</td>\n",
       "      <td>1</td>\n",
       "      <td>0</td>\n",
       "      <td>40</td>\n",
       "      <td>40</td>\n",
       "      <td>2019-11-28</td>\n",
       "      <td>...</td>\n",
       "      <td>1984-02-22</td>\n",
       "      <td>9</td>\n",
       "      <td>4</td>\n",
       "      <td>1</td>\n",
       "      <td>1</td>\n",
       "      <td>1</td>\n",
       "      <td>1</td>\n",
       "      <td>1</td>\n",
       "      <td>1</td>\n",
       "      <td>0</td>\n",
       "    </tr>\n",
       "    <tr>\n",
       "      <th>2</th>\n",
       "      <td>123</td>\n",
       "      <td>2020-05-15</td>\n",
       "      <td>3</td>\n",
       "      <td>2020-05-20</td>\n",
       "      <td>2020-05-26</td>\n",
       "      <td>2</td>\n",
       "      <td>1</td>\n",
       "      <td>45</td>\n",
       "      <td>60</td>\n",
       "      <td>2019-08-11</td>\n",
       "      <td>...</td>\n",
       "      <td>1995-03-27</td>\n",
       "      <td>1</td>\n",
       "      <td>1</td>\n",
       "      <td>0</td>\n",
       "      <td>0</td>\n",
       "      <td>1</td>\n",
       "      <td>0</td>\n",
       "      <td>0</td>\n",
       "      <td>2</td>\n",
       "      <td>1</td>\n",
       "    </tr>\n",
       "    <tr>\n",
       "      <th>3</th>\n",
       "      <td>134</td>\n",
       "      <td>2020-05-10</td>\n",
       "      <td>1</td>\n",
       "      <td>2020-05-15</td>\n",
       "      <td>2020-05-15</td>\n",
       "      <td>2</td>\n",
       "      <td>2</td>\n",
       "      <td>40</td>\n",
       "      <td>40</td>\n",
       "      <td>2019-08-18</td>\n",
       "      <td>...</td>\n",
       "      <td>1979-06-14</td>\n",
       "      <td>4</td>\n",
       "      <td>6</td>\n",
       "      <td>1</td>\n",
       "      <td>1</td>\n",
       "      <td>0</td>\n",
       "      <td>1</td>\n",
       "      <td>1</td>\n",
       "      <td>2</td>\n",
       "      <td>2</td>\n",
       "    </tr>\n",
       "    <tr>\n",
       "      <th>4</th>\n",
       "      <td>145</td>\n",
       "      <td>2020-01-11</td>\n",
       "      <td>4</td>\n",
       "      <td>2020-01-16</td>\n",
       "      <td>2020-01-25</td>\n",
       "      <td>2</td>\n",
       "      <td>1</td>\n",
       "      <td>15</td>\n",
       "      <td>25</td>\n",
       "      <td>2019-09-06</td>\n",
       "      <td>...</td>\n",
       "      <td>1982-11-26</td>\n",
       "      <td>4</td>\n",
       "      <td>5</td>\n",
       "      <td>0</td>\n",
       "      <td>1</td>\n",
       "      <td>1</td>\n",
       "      <td>1</td>\n",
       "      <td>1</td>\n",
       "      <td>2</td>\n",
       "      <td>1</td>\n",
       "    </tr>\n",
       "    <tr>\n",
       "      <th>...</th>\n",
       "      <td>...</td>\n",
       "      <td>...</td>\n",
       "      <td>...</td>\n",
       "      <td>...</td>\n",
       "      <td>...</td>\n",
       "      <td>...</td>\n",
       "      <td>...</td>\n",
       "      <td>...</td>\n",
       "      <td>...</td>\n",
       "      <td>...</td>\n",
       "      <td>...</td>\n",
       "      <td>...</td>\n",
       "      <td>...</td>\n",
       "      <td>...</td>\n",
       "      <td>...</td>\n",
       "      <td>...</td>\n",
       "      <td>...</td>\n",
       "      <td>...</td>\n",
       "      <td>...</td>\n",
       "      <td>...</td>\n",
       "      <td>...</td>\n",
       "    </tr>\n",
       "    <tr>\n",
       "      <th>195</th>\n",
       "      <td>107</td>\n",
       "      <td>2020-05-25</td>\n",
       "      <td>4</td>\n",
       "      <td>2020-05-30</td>\n",
       "      <td>2020-06-08</td>\n",
       "      <td>2</td>\n",
       "      <td>0</td>\n",
       "      <td>15</td>\n",
       "      <td>20</td>\n",
       "      <td>2019-12-06</td>\n",
       "      <td>...</td>\n",
       "      <td>1979-02-17</td>\n",
       "      <td>0</td>\n",
       "      <td>5</td>\n",
       "      <td>0</td>\n",
       "      <td>1</td>\n",
       "      <td>1</td>\n",
       "      <td>1</td>\n",
       "      <td>1</td>\n",
       "      <td>2</td>\n",
       "      <td>0</td>\n",
       "    </tr>\n",
       "    <tr>\n",
       "      <th>196</th>\n",
       "      <td>108</td>\n",
       "      <td>2020-06-13</td>\n",
       "      <td>3</td>\n",
       "      <td>2020-06-18</td>\n",
       "      <td>2020-06-24</td>\n",
       "      <td>0</td>\n",
       "      <td>2</td>\n",
       "      <td>60</td>\n",
       "      <td>60</td>\n",
       "      <td>2019-11-10</td>\n",
       "      <td>...</td>\n",
       "      <td>1982-05-27</td>\n",
       "      <td>5</td>\n",
       "      <td>5</td>\n",
       "      <td>1</td>\n",
       "      <td>1</td>\n",
       "      <td>1</td>\n",
       "      <td>1</td>\n",
       "      <td>1</td>\n",
       "      <td>0</td>\n",
       "      <td>2</td>\n",
       "    </tr>\n",
       "    <tr>\n",
       "      <th>197</th>\n",
       "      <td>109</td>\n",
       "      <td>2020-01-17</td>\n",
       "      <td>4</td>\n",
       "      <td>2020-01-22</td>\n",
       "      <td>2020-01-31</td>\n",
       "      <td>2</td>\n",
       "      <td>0</td>\n",
       "      <td>30</td>\n",
       "      <td>15</td>\n",
       "      <td>2019-11-19</td>\n",
       "      <td>...</td>\n",
       "      <td>1985-09-21</td>\n",
       "      <td>5</td>\n",
       "      <td>4</td>\n",
       "      <td>1</td>\n",
       "      <td>1</td>\n",
       "      <td>1</td>\n",
       "      <td>1</td>\n",
       "      <td>1</td>\n",
       "      <td>2</td>\n",
       "      <td>0</td>\n",
       "    </tr>\n",
       "    <tr>\n",
       "      <th>198</th>\n",
       "      <td>110</td>\n",
       "      <td>2020-04-18</td>\n",
       "      <td>4</td>\n",
       "      <td>2020-04-23</td>\n",
       "      <td>2020-05-02</td>\n",
       "      <td>1</td>\n",
       "      <td>0</td>\n",
       "      <td>25</td>\n",
       "      <td>25</td>\n",
       "      <td>2019-09-12</td>\n",
       "      <td>...</td>\n",
       "      <td>1986-06-02</td>\n",
       "      <td>5</td>\n",
       "      <td>4</td>\n",
       "      <td>0</td>\n",
       "      <td>1</td>\n",
       "      <td>1</td>\n",
       "      <td>1</td>\n",
       "      <td>1</td>\n",
       "      <td>1</td>\n",
       "      <td>0</td>\n",
       "    </tr>\n",
       "    <tr>\n",
       "      <th>199</th>\n",
       "      <td>113</td>\n",
       "      <td>2020-01-24</td>\n",
       "      <td>1</td>\n",
       "      <td>2020-01-29</td>\n",
       "      <td>2020-01-29</td>\n",
       "      <td>0</td>\n",
       "      <td>1</td>\n",
       "      <td>45</td>\n",
       "      <td>45</td>\n",
       "      <td>2019-10-29</td>\n",
       "      <td>...</td>\n",
       "      <td>1994-03-17</td>\n",
       "      <td>6</td>\n",
       "      <td>1</td>\n",
       "      <td>1</td>\n",
       "      <td>0</td>\n",
       "      <td>0</td>\n",
       "      <td>0</td>\n",
       "      <td>0</td>\n",
       "      <td>0</td>\n",
       "      <td>1</td>\n",
       "    </tr>\n",
       "  </tbody>\n",
       "</table>\n",
       "<p>200 rows × 44 columns</p>\n",
       "</div>"
      ],
      "text/plain": [
       "     Candidate ID Written Test Date  Interview rounds Date of first Interview  \\\n",
       "0               0        2020-05-29                 4              2020-06-03   \n",
       "1             111        2020-05-31                 2              2020-06-05   \n",
       "2             123        2020-05-15                 3              2020-05-20   \n",
       "3             134        2020-05-10                 1              2020-05-15   \n",
       "4             145        2020-01-11                 4              2020-01-16   \n",
       "..            ...               ...               ...                     ...   \n",
       "195           107        2020-05-25                 4              2020-05-30   \n",
       "196           108        2020-06-13                 3              2020-06-18   \n",
       "197           109        2020-01-17                 4              2020-01-22   \n",
       "198           110        2020-04-18                 4              2020-04-23   \n",
       "199           113        2020-01-24                 1              2020-01-29   \n",
       "\n",
       "    Date of last Interview  Interview types  Interview Types2  \\\n",
       "0               2020-06-12                0                 1   \n",
       "1               2020-06-08                1                 0   \n",
       "2               2020-05-26                2                 1   \n",
       "3               2020-05-15                2                 2   \n",
       "4               2020-01-25                2                 1   \n",
       "..                     ...              ...               ...   \n",
       "195             2020-06-08                2                 0   \n",
       "196             2020-06-24                0                 2   \n",
       "197             2020-01-31                2                 0   \n",
       "198             2020-05-02                1                 0   \n",
       "199             2020-01-29                0                 1   \n",
       "\n",
       "     First interview duration  Last interaction duration Date of Application  \\\n",
       "0                          40                         25          2019-08-28   \n",
       "1                          40                         40          2019-11-28   \n",
       "2                          45                         60          2019-08-11   \n",
       "3                          40                         40          2019-08-18   \n",
       "4                          15                         25          2019-09-06   \n",
       "..                        ...                        ...                 ...   \n",
       "195                        15                         20          2019-12-06   \n",
       "196                        60                         60          2019-11-10   \n",
       "197                        30                         15          2019-11-19   \n",
       "198                        25                         25          2019-09-12   \n",
       "199                        45                         45          2019-10-29   \n",
       "\n",
       "     ...        DOB Location Number of precious jobs Acceptance status_binned  \\\n",
       "0    ... 1991-11-06        5                       2                        0   \n",
       "1    ... 1984-02-22        9                       4                        1   \n",
       "2    ... 1995-03-27        1                       1                        0   \n",
       "3    ... 1979-06-14        4                       6                        1   \n",
       "4    ... 1982-11-26        4                       5                        0   \n",
       "..   ...        ...      ...                     ...                      ...   \n",
       "195  ... 1979-02-17        0                       5                        0   \n",
       "196  ... 1982-05-27        5                       5                        1   \n",
       "197  ... 1985-09-21        5                       4                        1   \n",
       "198  ... 1986-06-02        5                       4                        0   \n",
       "199  ... 1994-03-17        6                       1                        1   \n",
       "\n",
       "     Number of precious jobs_binned  Interview rounds_binned  \\\n",
       "0                                 0                        1   \n",
       "1                                 1                        1   \n",
       "2                                 0                        1   \n",
       "3                                 1                        0   \n",
       "4                                 1                        1   \n",
       "..                              ...                      ...   \n",
       "195                               1                        1   \n",
       "196                               1                        1   \n",
       "197                               1                        1   \n",
       "198                               1                        1   \n",
       "199                               0                        0   \n",
       "\n",
       "     Total experience_binned  Relevant experience_binned  \\\n",
       "0                          0                           0   \n",
       "1                          1                           1   \n",
       "2                          0                           0   \n",
       "3                          1                           1   \n",
       "4                          1                           1   \n",
       "..                       ...                         ...   \n",
       "195                        1                           1   \n",
       "196                        1                           1   \n",
       "197                        1                           1   \n",
       "198                        1                           1   \n",
       "199                        0                           0   \n",
       "\n",
       "     Interview types_binned  Interview Types2_binned  \n",
       "0                         0                        1  \n",
       "1                         1                        0  \n",
       "2                         2                        1  \n",
       "3                         2                        2  \n",
       "4                         2                        1  \n",
       "..                      ...                      ...  \n",
       "195                       2                        0  \n",
       "196                       0                        2  \n",
       "197                       2                        0  \n",
       "198                       1                        0  \n",
       "199                       0                        1  \n",
       "\n",
       "[200 rows x 44 columns]"
      ]
     },
     "execution_count": 55,
     "metadata": {},
     "output_type": "execute_result"
    }
   ],
   "source": [
    "dataset"
   ]
  },
  {
   "cell_type": "code",
   "execution_count": 56,
   "metadata": {},
   "outputs": [],
   "source": [
    "# see, no outlier is present now.\n",
    "# we have now cleaned our data.\n",
    "# we have checked for the missing values , duplicate records,\n",
    "# converted the categorical values into the numerical values, checked for the outliers\n",
    "# removed the outliers present in our dataset.\n",
    "# now, we will scale the data.\n",
    "# let's move ahead with the scaling process.\n",
    "scaler = StandardScaler()"
   ]
  },
  {
   "cell_type": "code",
   "execution_count": 57,
   "metadata": {},
   "outputs": [],
   "source": [
    "column_names = dataset.columns"
   ]
  },
  {
   "cell_type": "code",
   "execution_count": 58,
   "metadata": {},
   "outputs": [
    {
     "name": "stdout",
     "output_type": "stream",
     "text": [
      "Index(['Candidate ID', 'Written Test Date', 'Interview rounds',\n",
      "       'Date of first Interview', 'Date of last Interview', 'Interview types',\n",
      "       'Interview Types2', 'First interview duration',\n",
      "       'Last interaction duration', 'Date of Application', 'Date of Interview',\n",
      "       'Date of Job Offer', 'Date of Offer extension', 'Date of Joining',\n",
      "       'Offered band', 'Offered Salary', 'Percentage hike offered (CTC)',\n",
      "       'Joining bonus amount', 'LOB', 'Joining location',\n",
      "       'Candidate relocation status', 'Acceptance status', 'Notice period',\n",
      "       'Current CTC', 'Current gross salary', 'Current organization',\n",
      "       'Highest Educational Degree', 'Total experience', 'Relevant experience',\n",
      "       'Year of graduation', 'Expected CTC', 'Percentage hike (CTC) expected ',\n",
      "       'Gender', 'Candidate source', 'DOB', 'Location',\n",
      "       'Number of precious jobs', 'Acceptance status_binned',\n",
      "       'Number of precious jobs_binned', 'Interview rounds_binned',\n",
      "       'Total experience_binned', 'Relevant experience_binned',\n",
      "       'Interview types_binned', 'Interview Types2_binned'],\n",
      "      dtype='object')\n"
     ]
    }
   ],
   "source": [
    "print(column_names)"
   ]
  },
  {
   "cell_type": "code",
   "execution_count": 59,
   "metadata": {},
   "outputs": [],
   "source": [
    "column_names = ['Interview rounds', 'Offered Salary','Interview rounds_binned',\n",
    "       'Joining bonus amount', 'Notice period','Interview types_binned',\n",
    "       'Current CTC', 'Current gross salary', 'Current organization', 'Total experience_binned', 'Relevant experience_binned',\n",
    "       'Year of graduation', 'Expected CTC', 'Percentage hike (CTC) expected ','Interview Types2_binned',\n",
    "       'Number of precious jobs_binned', 'Acceptance status_binned']"
   ]
  },
  {
   "cell_type": "code",
   "execution_count": 60,
   "metadata": {},
   "outputs": [],
   "source": [
    "df = pd.DataFrame(dataset, columns = column_names) "
   ]
  },
  {
   "cell_type": "code",
   "execution_count": 61,
   "metadata": {},
   "outputs": [],
   "source": [
    "dataset = pd.DataFrame(scaler.fit_transform(df), columns = column_names)"
   ]
  },
  {
   "cell_type": "code",
   "execution_count": 62,
   "metadata": {},
   "outputs": [
    {
     "data": {
      "text/html": [
       "<div>\n",
       "<style scoped>\n",
       "    .dataframe tbody tr th:only-of-type {\n",
       "        vertical-align: middle;\n",
       "    }\n",
       "\n",
       "    .dataframe tbody tr th {\n",
       "        vertical-align: top;\n",
       "    }\n",
       "\n",
       "    .dataframe thead th {\n",
       "        text-align: right;\n",
       "    }\n",
       "</style>\n",
       "<table border=\"1\" class=\"dataframe\">\n",
       "  <thead>\n",
       "    <tr style=\"text-align: right;\">\n",
       "      <th></th>\n",
       "      <th>Interview rounds</th>\n",
       "      <th>Offered Salary</th>\n",
       "      <th>Interview rounds_binned</th>\n",
       "      <th>Joining bonus amount</th>\n",
       "      <th>Notice period</th>\n",
       "      <th>Interview types_binned</th>\n",
       "      <th>Current CTC</th>\n",
       "      <th>Current gross salary</th>\n",
       "      <th>Current organization</th>\n",
       "      <th>Total experience_binned</th>\n",
       "      <th>Relevant experience_binned</th>\n",
       "      <th>Year of graduation</th>\n",
       "      <th>Expected CTC</th>\n",
       "      <th>Percentage hike (CTC) expected</th>\n",
       "      <th>Interview Types2_binned</th>\n",
       "      <th>Number of precious jobs_binned</th>\n",
       "      <th>Acceptance status_binned</th>\n",
       "    </tr>\n",
       "  </thead>\n",
       "  <tbody>\n",
       "    <tr>\n",
       "      <th>0</th>\n",
       "      <td>1.349790</td>\n",
       "      <td>-0.881339</td>\n",
       "      <td>0.600453</td>\n",
       "      <td>-0.799029</td>\n",
       "      <td>-1.422695</td>\n",
       "      <td>-1.379015</td>\n",
       "      <td>-0.799029</td>\n",
       "      <td>-0.799029</td>\n",
       "      <td>-0.017256</td>\n",
       "      <td>-1.408927</td>\n",
       "      <td>-1.408927</td>\n",
       "      <td>0.818525</td>\n",
       "      <td>-0.876041</td>\n",
       "      <td>-0.923779</td>\n",
       "      <td>-0.011869</td>\n",
       "      <td>-1.474654</td>\n",
       "      <td>-0.980196</td>\n",
       "    </tr>\n",
       "    <tr>\n",
       "      <th>1</th>\n",
       "      <td>-0.432111</td>\n",
       "      <td>0.576713</td>\n",
       "      <td>0.600453</td>\n",
       "      <td>0.429677</td>\n",
       "      <td>-1.422695</td>\n",
       "      <td>-0.136659</td>\n",
       "      <td>0.429677</td>\n",
       "      <td>0.429677</td>\n",
       "      <td>0.903090</td>\n",
       "      <td>0.709760</td>\n",
       "      <td>0.709760</td>\n",
       "      <td>-0.520184</td>\n",
       "      <td>0.566351</td>\n",
       "      <td>0.709568</td>\n",
       "      <td>-1.198734</td>\n",
       "      <td>0.678125</td>\n",
       "      <td>1.020204</td>\n",
       "    </tr>\n",
       "    <tr>\n",
       "      <th>2</th>\n",
       "      <td>0.458839</td>\n",
       "      <td>-1.469099</td>\n",
       "      <td>0.600453</td>\n",
       "      <td>-1.462968</td>\n",
       "      <td>-0.058000</td>\n",
       "      <td>1.105697</td>\n",
       "      <td>-1.462968</td>\n",
       "      <td>-1.462968</td>\n",
       "      <td>0.212830</td>\n",
       "      <td>-1.408927</td>\n",
       "      <td>-1.408927</td>\n",
       "      <td>1.583501</td>\n",
       "      <td>-1.469967</td>\n",
       "      <td>0.007752</td>\n",
       "      <td>-0.011869</td>\n",
       "      <td>-1.474654</td>\n",
       "      <td>-0.980196</td>\n",
       "    </tr>\n",
       "    <tr>\n",
       "      <th>3</th>\n",
       "      <td>-1.323061</td>\n",
       "      <td>1.586502</td>\n",
       "      <td>-1.665408</td>\n",
       "      <td>1.540294</td>\n",
       "      <td>1.306695</td>\n",
       "      <td>1.105697</td>\n",
       "      <td>1.540294</td>\n",
       "      <td>1.540294</td>\n",
       "      <td>0.442917</td>\n",
       "      <td>0.709760</td>\n",
       "      <td>0.709760</td>\n",
       "      <td>-1.476404</td>\n",
       "      <td>1.584509</td>\n",
       "      <td>0.036145</td>\n",
       "      <td>1.174997</td>\n",
       "      <td>0.678125</td>\n",
       "      <td>1.020204</td>\n",
       "    </tr>\n",
       "    <tr>\n",
       "      <th>4</th>\n",
       "      <td>1.349790</td>\n",
       "      <td>0.910229</td>\n",
       "      <td>0.600453</td>\n",
       "      <td>0.838461</td>\n",
       "      <td>-0.740347</td>\n",
       "      <td>1.105697</td>\n",
       "      <td>0.838461</td>\n",
       "      <td>0.838461</td>\n",
       "      <td>-0.477430</td>\n",
       "      <td>0.709760</td>\n",
       "      <td>0.709760</td>\n",
       "      <td>-0.902672</td>\n",
       "      <td>0.905737</td>\n",
       "      <td>0.218007</td>\n",
       "      <td>-0.011869</td>\n",
       "      <td>0.678125</td>\n",
       "      <td>-0.980196</td>\n",
       "    </tr>\n",
       "  </tbody>\n",
       "</table>\n",
       "</div>"
      ],
      "text/plain": [
       "   Interview rounds  Offered Salary  Interview rounds_binned  \\\n",
       "0          1.349790       -0.881339                 0.600453   \n",
       "1         -0.432111        0.576713                 0.600453   \n",
       "2          0.458839       -1.469099                 0.600453   \n",
       "3         -1.323061        1.586502                -1.665408   \n",
       "4          1.349790        0.910229                 0.600453   \n",
       "\n",
       "   Joining bonus amount  Notice period  Interview types_binned  Current CTC  \\\n",
       "0             -0.799029      -1.422695               -1.379015    -0.799029   \n",
       "1              0.429677      -1.422695               -0.136659     0.429677   \n",
       "2             -1.462968      -0.058000                1.105697    -1.462968   \n",
       "3              1.540294       1.306695                1.105697     1.540294   \n",
       "4              0.838461      -0.740347                1.105697     0.838461   \n",
       "\n",
       "   Current gross salary  Current organization  Total experience_binned  \\\n",
       "0             -0.799029             -0.017256                -1.408927   \n",
       "1              0.429677              0.903090                 0.709760   \n",
       "2             -1.462968              0.212830                -1.408927   \n",
       "3              1.540294              0.442917                 0.709760   \n",
       "4              0.838461             -0.477430                 0.709760   \n",
       "\n",
       "   Relevant experience_binned  Year of graduation  Expected CTC  \\\n",
       "0                   -1.408927            0.818525     -0.876041   \n",
       "1                    0.709760           -0.520184      0.566351   \n",
       "2                   -1.408927            1.583501     -1.469967   \n",
       "3                    0.709760           -1.476404      1.584509   \n",
       "4                    0.709760           -0.902672      0.905737   \n",
       "\n",
       "   Percentage hike (CTC) expected   Interview Types2_binned  \\\n",
       "0                        -0.923779                -0.011869   \n",
       "1                         0.709568                -1.198734   \n",
       "2                         0.007752                -0.011869   \n",
       "3                         0.036145                 1.174997   \n",
       "4                         0.218007                -0.011869   \n",
       "\n",
       "   Number of precious jobs_binned  Acceptance status_binned  \n",
       "0                       -1.474654                 -0.980196  \n",
       "1                        0.678125                  1.020204  \n",
       "2                       -1.474654                 -0.980196  \n",
       "3                        0.678125                  1.020204  \n",
       "4                        0.678125                 -0.980196  "
      ]
     },
     "execution_count": 62,
     "metadata": {},
     "output_type": "execute_result"
    }
   ],
   "source": [
    "dataset.head()"
   ]
  },
  {
   "cell_type": "markdown",
   "metadata": {},
   "source": [
    "# Part (D)\tFEATURE ENGINEERING"
   ]
  },
  {
   "cell_type": "code",
   "execution_count": 63,
   "metadata": {},
   "outputs": [],
   "source": [
    "# Now that all exploratory data analysis is complete, we will now proceed with feature selection"
   ]
  },
  {
   "cell_type": "code",
   "execution_count": 64,
   "metadata": {},
   "outputs": [
    {
     "data": {
      "text/plain": [
       "(200, 17)"
      ]
     },
     "execution_count": 64,
     "metadata": {},
     "output_type": "execute_result"
    }
   ],
   "source": [
    "dataset.shape"
   ]
  },
  {
   "cell_type": "code",
   "execution_count": 65,
   "metadata": {},
   "outputs": [],
   "source": [
    "x=dataset.iloc[:,:-1]\n",
    "y=dataset.iloc[:,16]"
   ]
  },
  {
   "cell_type": "code",
   "execution_count": 66,
   "metadata": {},
   "outputs": [
    {
     "data": {
      "text/plain": [
       "<AxesSubplot:>"
      ]
     },
     "execution_count": 66,
     "metadata": {},
     "output_type": "execute_result"
    },
    {
     "data": {
      "image/png": "[encoded data removed]",
      "text/plain": [
       "<Figure size 432x288 with 2 Axes>"
      ]
     },
     "metadata": {
      "needs_background": "light"
     },
     "output_type": "display_data"
    }
   ],
   "source": [
    "corrmat = dataset.corr() \n",
    "f, ax = plt.subplots() \n",
    "sns.heatmap(corrmat, ax = ax, cmap =\"hot\")"
   ]
  },
  {
   "cell_type": "code",
   "execution_count": 67,
   "metadata": {},
   "outputs": [
    {
     "name": "stdout",
     "output_type": "stream",
     "text": [
      "(0, 1, 2, 3)\n"
     ]
    }
   ],
   "source": [
    "warnings.filterwarnings('ignore')\n",
    "\n",
    "# Create the sbs object and select best 4 features\n",
    "knn = KNeighborsClassifier(n_neighbors=4)\n",
    "\n",
    "# the param forward when set to False will do sequential backward selection\n",
    "sbs = SFS(knn,\n",
    "           k_features=4,\n",
    "           forward=False,\n",
    "           scoring='accuracy')\n",
    "\n",
    "sbs = sbs.fit(x, y)\n",
    "print(sbs.k_feature_idx_)"
   ]
  },
  {
   "cell_type": "markdown",
   "metadata": {},
   "source": [
    "#  Part (E)\tMODEL BUILDINGAND DIAGNOSTICS"
   ]
  },
  {
   "cell_type": "code",
   "execution_count": 68,
   "metadata": {},
   "outputs": [
    {
     "ename": "ValueError",
     "evalue": "Unknown label type: 'continuous'",
     "output_type": "error",
     "traceback": [
      "\u001b[1;31m---------------------------------------------------------------------------\u001b[0m",
      "\u001b[1;31mValueError\u001b[0m                                Traceback (most recent call last)",
      "\u001b[1;32m<ipython-input-68-f15bb0566adf>\u001b[0m in \u001b[0;36m<module>\u001b[1;34m\u001b[0m\n\u001b[0;32m      3\u001b[0m \u001b[1;33m\u001b[0m\u001b[0m\n\u001b[0;32m      4\u001b[0m \u001b[0mlogistic_regression\u001b[0m\u001b[1;33m=\u001b[0m \u001b[0mLogisticRegression\u001b[0m\u001b[1;33m(\u001b[0m\u001b[1;33m)\u001b[0m\u001b[1;33m\u001b[0m\u001b[1;33m\u001b[0m\u001b[0m\n\u001b[1;32m----> 5\u001b[1;33m \u001b[0mlogistic_regression\u001b[0m\u001b[1;33m.\u001b[0m\u001b[0mfit\u001b[0m\u001b[1;33m(\u001b[0m\u001b[0mxtrain\u001b[0m\u001b[1;33m,\u001b[0m\u001b[0mytrain\u001b[0m\u001b[1;33m)\u001b[0m\u001b[1;33m\u001b[0m\u001b[1;33m\u001b[0m\u001b[0m\n\u001b[0m\u001b[0;32m      6\u001b[0m \u001b[0my_pred\u001b[0m\u001b[1;33m=\u001b[0m\u001b[0mlogistic_regression\u001b[0m\u001b[1;33m.\u001b[0m\u001b[0mpredict\u001b[0m\u001b[1;33m(\u001b[0m\u001b[0mxtest\u001b[0m\u001b[1;33m)\u001b[0m\u001b[1;33m\u001b[0m\u001b[1;33m\u001b[0m\u001b[0m\n\u001b[0;32m      7\u001b[0m \u001b[1;33m\u001b[0m\u001b[0m\n",
      "\u001b[1;32m~\\anaconda3\\lib\\site-packages\\sklearn\\linear_model\\_logistic.py\u001b[0m in \u001b[0;36mfit\u001b[1;34m(self, X, y, sample_weight)\u001b[0m\n\u001b[0;32m   1345\u001b[0m                                    \u001b[0morder\u001b[0m\u001b[1;33m=\u001b[0m\u001b[1;34m\"C\"\u001b[0m\u001b[1;33m,\u001b[0m\u001b[1;33m\u001b[0m\u001b[1;33m\u001b[0m\u001b[0m\n\u001b[0;32m   1346\u001b[0m                                    accept_large_sparse=solver != 'liblinear')\n\u001b[1;32m-> 1347\u001b[1;33m         \u001b[0mcheck_classification_targets\u001b[0m\u001b[1;33m(\u001b[0m\u001b[0my\u001b[0m\u001b[1;33m)\u001b[0m\u001b[1;33m\u001b[0m\u001b[1;33m\u001b[0m\u001b[0m\n\u001b[0m\u001b[0;32m   1348\u001b[0m         \u001b[0mself\u001b[0m\u001b[1;33m.\u001b[0m\u001b[0mclasses_\u001b[0m \u001b[1;33m=\u001b[0m \u001b[0mnp\u001b[0m\u001b[1;33m.\u001b[0m\u001b[0munique\u001b[0m\u001b[1;33m(\u001b[0m\u001b[0my\u001b[0m\u001b[1;33m)\u001b[0m\u001b[1;33m\u001b[0m\u001b[1;33m\u001b[0m\u001b[0m\n\u001b[0;32m   1349\u001b[0m \u001b[1;33m\u001b[0m\u001b[0m\n",
      "\u001b[1;32m~\\anaconda3\\lib\\site-packages\\sklearn\\utils\\multiclass.py\u001b[0m in \u001b[0;36mcheck_classification_targets\u001b[1;34m(y)\u001b[0m\n\u001b[0;32m    181\u001b[0m     if y_type not in ['binary', 'multiclass', 'multiclass-multioutput',\n\u001b[0;32m    182\u001b[0m                       'multilabel-indicator', 'multilabel-sequences']:\n\u001b[1;32m--> 183\u001b[1;33m         \u001b[1;32mraise\u001b[0m \u001b[0mValueError\u001b[0m\u001b[1;33m(\u001b[0m\u001b[1;34m\"Unknown label type: %r\"\u001b[0m \u001b[1;33m%\u001b[0m \u001b[0my_type\u001b[0m\u001b[1;33m)\u001b[0m\u001b[1;33m\u001b[0m\u001b[1;33m\u001b[0m\u001b[0m\n\u001b[0m\u001b[0;32m    184\u001b[0m \u001b[1;33m\u001b[0m\u001b[0m\n\u001b[0;32m    185\u001b[0m \u001b[1;33m\u001b[0m\u001b[0m\n",
      "\u001b[1;31mValueError\u001b[0m: Unknown label type: 'continuous'"
     ]
    }
   ],
   "source": [
    "# Now that feature selection is complete, we will now proceed with modeling and diagnostics (accuracy of model etc)\n",
    "xtrain, xtest, ytrain, ytest = train_test_split(x, y, test_size=0.2, random_state=0) # split test and training data\n",
    "\n",
    "logistic_regression= LogisticRegression()\n",
    "logistic_regression.fit(xtrain,ytrain)\n",
    "y_pred=logistic_regression.predict(xtest)\n",
    "\n",
    "confusion_matrix = pd.crosstab(y_test, y_pred, rownames=['Actual'], colnames=['Predicted'])\n",
    "sn.heatmap(confusion_matrix, annot=True)\n",
    "\n",
    "print('Accuracy: ',metrics.accuracy_score(y_test, y_pred))\n",
    "plt.show()"
   ]
  },
  {
   "cell_type": "code",
   "execution_count": null,
   "metadata": {},
   "outputs": [],
   "source": []
  }
 ],
 "metadata": {
  "kernelspec": {
   "display_name": "Python 3",
   "language": "python",
   "name": "python3"
  },
  "language_info": {
   "codemirror_mode": {
    "name": "ipython",
    "version": 3
   },
   "file_extension": ".py",
   "mimetype": "text/x-python",
   "name": "python",
   "nbconvert_exporter": "python",
   "pygments_lexer": "ipython3",
   "version": "3.8.3"
  }
 },
 "nbformat": 4,
 "nbformat_minor": 2
}
