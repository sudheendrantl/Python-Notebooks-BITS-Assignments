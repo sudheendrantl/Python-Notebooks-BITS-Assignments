{
 "cells": [
  {
   "cell_type": "code",
   "execution_count": 1,
   "metadata": {},
   "outputs": [
    {
     "name": "stdout",
     "output_type": "stream",
     "text": [
      "[[2.]\n",
      " [3.]\n",
      " [1.]]\n"
     ]
    }
   ],
   "source": [
    "# -------------- ASSIGNMENT1 Q2 -----------\n",
    "import numpy as np\n",
    "import matplotlib.pyplot as plt\n",
    "C = np.array([[6.,2.,-5.],[3.,3.,-2.],[7.,5.,-3.]])\n",
    "O = np.array([[13.],[13.],[26.]])\n",
    "print (np.linalg.solve(C,O))"
   ]
  },
  {
   "cell_type": "code",
   "execution_count": 2,
   "metadata": {},
   "outputs": [
    {
     "data": {
      "image/png": "[encoded data removed]",
      "text/plain": [
       "<Figure size 432x288 with 1 Axes>"
      ]
     },
     "metadata": {
      "needs_background": "light"
     },
     "output_type": "display_data"
    },
    {
     "name": "stdout",
     "output_type": "stream",
     "text": [
      "The Intercept theta0 is  16.929396813951925\n",
      "The Coefficient theta1 is  [3.32114441]\n",
      "Mean squared error is 1398.0174153235896\n",
      "Variance score is 0.7200456627337648\n"
     ]
    }
   ],
   "source": [
    "# -------------- ASSIGNMENT1 Q3 -----------\n",
    "import pandas as pd\n",
    "from sklearn.model_selection import train_test_split\n",
    "from sklearn.linear_model import LinearRegression\n",
    "from sklearn.metrics import mean_squared_error, r2_score\n",
    "\n",
    "#read input data\n",
    "data = pd.read_excel(\"slr06-1.xls\")\n",
    "x = data.iloc[:, :-1].values # copy all columns excluding last column\n",
    "y = data.iloc[:, 1].values   # copy the last column only\n",
    "\n",
    "#training the linear regression model\n",
    "xtrain, xtest, ytrain, ytest = train_test_split(x,y,test_size=2/3,random_state=0)\n",
    "model = LinearRegression()\n",
    "model.fit(xtrain, ytrain)\n",
    "\n",
    "#testing phase\n",
    "ypredict = model.predict(xtest)\n",
    "\n",
    "#test & visualize results\n",
    "plt.scatter(x, y, color='blue')\n",
    "plt.plot(xtest,ypredict)\n",
    "plt.show()\n",
    "\n",
    "#print results related to effectiveness of the model\n",
    "print('The Intercept theta0 is ', model.intercept_)\n",
    "print('The Coefficient theta1 is ', model.coef_)\n",
    "print(\"Mean squared error is\", mean_squared_error(ytest, ypredict))\n",
    "print(\"Variance score is\", r2_score(ytest, ypredict))"
   ]
  }
 ],
 "metadata": {
  "kernelspec": {
   "display_name": "Python 3",
   "language": "python",
   "name": "python3"
  },
  "language_info": {
   "codemirror_mode": {
    "name": "ipython",
    "version": 3
   },
   "file_extension": ".py",
   "mimetype": "text/x-python",
   "name": "python",
   "nbconvert_exporter": "python",
   "pygments_lexer": "ipython3",
   "version": "3.8.3"
  }
 },
 "nbformat": 4,
 "nbformat_minor": 4
}
