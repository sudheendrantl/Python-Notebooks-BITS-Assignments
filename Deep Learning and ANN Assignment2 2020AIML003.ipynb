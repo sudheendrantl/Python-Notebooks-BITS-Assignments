{
 "cells": [
  {
   "cell_type": "markdown",
   "id": "industrial-ordinance",
   "metadata": {},
   "source": [
    "## **Import Libraries** <a class=\"anchor\" id=\"1\"></a>"
   ]
  },
  {
   "cell_type": "code",
   "execution_count": 1,
   "id": "central-prayer",
   "metadata": {
    "papermill": {
     "duration": 2.151517,
     "end_time": "2021-06-06T14:50:02.251859",
     "exception": false,
     "start_time": "2021-06-06T14:50:00.100342",
     "status": "completed"
    },
    "tags": []
   },
   "outputs": [],
   "source": [
    "import matplotlib.pyplot as plt\n",
    "import numpy as np\n",
    "import pandas as pd\n",
    "\n",
    "from sklearn.metrics import classification_report\n",
    "from sklearn.metrics import precision_recall_fscore_support\n",
    "\n",
    "from tensorflow import keras\n",
    "from tensorflow.keras import layers\n",
    "from tensorflow.keras.callbacks import ModelCheckpoint, EarlyStopping\n",
    "from tensorflow.keras.layers import Dense\n",
    "from tensorflow.keras.preprocessing import image\n",
    "from tensorflow.keras.preprocessing.image import ImageDataGenerator\n",
    "from tensorflow.keras.models import Model\n",
    "from tensorflow.keras.models import load_model\n",
    "from tensorflow.keras.optimizers import Adam\n",
    "\n",
    "import warnings\n",
    "warnings.filterwarnings(\"ignore\")"
   ]
  },
  {
   "cell_type": "markdown",
   "id": "2bda54f4",
   "metadata": {},
   "source": [
    "## **Task1: Load the images in appropriate data structures in your program, ready to be passed as input to the model for training. Consider input image size to be 224x224x3. [2 points]** <a class=\"anchor\" id=\"Task1\"></a>"
   ]
  },
  {
   "cell_type": "code",
   "execution_count": 2,
   "id": "de84bd2c",
   "metadata": {},
   "outputs": [],
   "source": [
    "training_files_path = 'Sports_Dataset\\\\archive\\\\train'\n",
    "testing_files_path = 'Sports_Dataset\\\\archive\\\\test'\n",
    "validation_files_path = 'Sports_Dataset\\\\archive\\\\valid'"
   ]
  },
  {
   "cell_type": "code",
   "execution_count": 3,
   "id": "a66867a6-bffa-44b6-b51a-9e68708ae787",
   "metadata": {},
   "outputs": [
    {
     "name": "stdout",
     "output_type": "stream",
     "text": [
      "Found 10416 images belonging to 73 classes.\n",
      "Found 365 images belonging to 73 classes.\n",
      "Found 365 images belonging to 73 classes.\n"
     ]
    }
   ],
   "source": [
    "training_data = ImageDataGenerator().flow_from_directory(training_files_path, target_size = (224,224), color_mode='rgb', class_mode = 'categorical')\n",
    "testing_data = ImageDataGenerator().flow_from_directory(testing_files_path, target_size = (224,224), color_mode='rgb', class_mode = 'categorical')\n",
    "validation_data = ImageDataGenerator().flow_from_directory(validation_files_path, target_size = (224,224), color_mode='rgb', class_mode = 'categorical')"
   ]
  },
  {
   "cell_type": "markdown",
   "id": "61313804",
   "metadata": {},
   "source": [
    "## **Task2: Configure the CNN model (use keras tensorflow), an indicative (minimal) configuration is as below. Take activation function (A)=relu. Feel free to use standard values for anything that is not mentioned (eg, take pool size 2x2, filter size 3x3, and so on). [3 points]** <a class=\"anchor\" id=\"Task2\"></a>"
   ]
  },
  {
   "cell_type": "code",
   "execution_count": 4,
   "id": "8efcca77",
   "metadata": {},
   "outputs": [],
   "source": [
    "#Initialising the CNN\n",
    "model = keras.Sequential([\n",
    "    # conv --> A --> pool\n",
    "    layers.Convolution2D(4, (3,3), input_shape=(224,224,3), padding='same', activation = 'relu'),\n",
    "    layers.MaxPooling2D(pool_size = (2, 2)), \n",
    "    \n",
    "    # (conv --> A) --> (conv --> A) --> pool\n",
    "    layers.Convolution2D(2, (3,3), padding='same', activation = 'relu'),\n",
    "    layers.Convolution2D(2, (3,3), padding='same', activation = 'relu'),\n",
    "    layers.MaxPooling2D(pool_size = (2, 2)),\n",
    "    \n",
    "    # full connected layer --> A\n",
    "    layers.Flatten(),\n",
    "    layers.Dense(128, activation = 'relu'),\n",
    "    \n",
    "    # Softmax classifier\n",
    "    layers.Dense(training_data.num_classes, activation = 'softmax'),\n",
    "])\n",
    "\n",
    "# Compiling the CNN\n",
    "model.compile(\n",
    "    optimizer='adam', \n",
    "    metrics='accuracy',\n",
    "    loss='categorical_crossentropy',\n",
    ")"
   ]
  },
  {
   "cell_type": "code",
   "execution_count": 5,
   "id": "40391350-a13e-4d8b-af50-5cff7fc0bb7e",
   "metadata": {},
   "outputs": [
    {
     "name": "stdout",
     "output_type": "stream",
     "text": [
      "Model: \"sequential\"\n",
      "_________________________________________________________________\n",
      "Layer (type)                 Output Shape              Param #   \n",
      "=================================================================\n",
      "conv2d (Conv2D)              (None, 224, 224, 4)       112       \n",
      "_________________________________________________________________\n",
      "max_pooling2d (MaxPooling2D) (None, 112, 112, 4)       0         \n",
      "_________________________________________________________________\n",
      "conv2d_1 (Conv2D)            (None, 112, 112, 2)       74        \n",
      "_________________________________________________________________\n",
      "conv2d_2 (Conv2D)            (None, 112, 112, 2)       38        \n",
      "_________________________________________________________________\n",
      "max_pooling2d_1 (MaxPooling2 (None, 56, 56, 2)         0         \n",
      "_________________________________________________________________\n",
      "flatten (Flatten)            (None, 6272)              0         \n",
      "_________________________________________________________________\n",
      "dense (Dense)                (None, 128)               802944    \n",
      "_________________________________________________________________\n",
      "dense_1 (Dense)              (None, 73)                9417      \n",
      "=================================================================\n",
      "Total params: 812,585\n",
      "Trainable params: 812,585\n",
      "Non-trainable params: 0\n",
      "_________________________________________________________________\n"
     ]
    }
   ],
   "source": [
    "# display model summary\n",
    "model.summary()"
   ]
  },
  {
   "cell_type": "markdown",
   "id": "3dd40375",
   "metadata": {},
   "source": [
    "## **Task3: Train the CNN model for E epoch (take E=50), save the train_loss, train_acc, validation_loss, validation_acc for each epoch and plot it after training has finished. [3 points]** <a class=\"anchor\" id=\"Task3\"></a>"
   ]
  },
  {
   "cell_type": "code",
   "execution_count": 6,
   "id": "fe580275",
   "metadata": {},
   "outputs": [],
   "source": [
    "EPOCHS = 50"
   ]
  },
  {
   "cell_type": "code",
   "execution_count": 7,
   "id": "68844d4e",
   "metadata": {},
   "outputs": [],
   "source": [
    "es  = EarlyStopping(monitor='val_accuracy', mode='max', verbose=1, patience=5)\n",
    "ckpt= ModelCheckpoint(\"default_model.h5\", monitor='val_accuracy', verbose=1, save_best_only=True, mode='max')"
   ]
  },
  {
   "cell_type": "code",
   "execution_count": 8,
   "id": "ac43376a",
   "metadata": {},
   "outputs": [
    {
     "name": "stdout",
     "output_type": "stream",
     "text": [
      "Epoch 1/50\n",
      "326/326 [==============================] - 86s 263ms/step - loss: 4.4639 - accuracy: 0.0341 - val_loss: 4.1998 - val_accuracy: 0.0384\n",
      "\n",
      "Epoch 00001: val_accuracy improved from -inf to 0.03836, saving model to default_model.h5\n",
      "Epoch 2/50\n",
      "326/326 [==============================] - 99s 303ms/step - loss: 3.9227 - accuracy: 0.0775 - val_loss: 4.0244 - val_accuracy: 0.0767\n",
      "\n",
      "Epoch 00002: val_accuracy improved from 0.03836 to 0.07671, saving model to default_model.h5\n",
      "Epoch 3/50\n",
      "326/326 [==============================] - 81s 249ms/step - loss: 3.4912 - accuracy: 0.1430 - val_loss: 3.9349 - val_accuracy: 0.0986\n",
      "\n",
      "Epoch 00003: val_accuracy improved from 0.07671 to 0.09863, saving model to default_model.h5\n",
      "Epoch 4/50\n",
      "326/326 [==============================] - 78s 238ms/step - loss: 2.9364 - accuracy: 0.2461 - val_loss: 4.1447 - val_accuracy: 0.0959\n",
      "\n",
      "Epoch 00004: val_accuracy did not improve from 0.09863\n",
      "Epoch 5/50\n",
      "326/326 [==============================] - 78s 240ms/step - loss: 2.3337 - accuracy: 0.3701 - val_loss: 4.7591 - val_accuracy: 0.1068\n",
      "\n",
      "Epoch 00005: val_accuracy improved from 0.09863 to 0.10685, saving model to default_model.h5\n",
      "Epoch 6/50\n",
      "326/326 [==============================] - 78s 238ms/step - loss: 1.8157 - accuracy: 0.4873 - val_loss: 5.0279 - val_accuracy: 0.0986\n",
      "\n",
      "Epoch 00006: val_accuracy did not improve from 0.10685\n",
      "Epoch 7/50\n",
      "326/326 [==============================] - 77s 237ms/step - loss: 1.4446 - accuracy: 0.5872 - val_loss: 6.0600 - val_accuracy: 0.0740\n",
      "\n",
      "Epoch 00007: val_accuracy did not improve from 0.10685\n",
      "Epoch 8/50\n",
      "326/326 [==============================] - 80s 245ms/step - loss: 1.1989 - accuracy: 0.6557 - val_loss: 6.6875 - val_accuracy: 0.0904\n",
      "\n",
      "Epoch 00008: val_accuracy did not improve from 0.10685\n",
      "Epoch 9/50\n",
      "326/326 [==============================] - 78s 240ms/step - loss: 1.0253 - accuracy: 0.7031 - val_loss: 7.1471 - val_accuracy: 0.0603\n",
      "\n",
      "Epoch 00009: val_accuracy did not improve from 0.10685\n",
      "Epoch 10/50\n",
      "326/326 [==============================] - 78s 239ms/step - loss: 0.9138 - accuracy: 0.7322 - val_loss: 7.8309 - val_accuracy: 0.0849\n",
      "\n",
      "Epoch 00010: val_accuracy did not improve from 0.10685\n",
      "Epoch 00010: early stopping\n"
     ]
    }
   ],
   "source": [
    "history = model.fit(\n",
    "    training_data,\n",
    "    validation_data=validation_data,\n",
    "    epochs=EPOCHS,\n",
    "    callbacks =[es, ckpt],\n",
    ")"
   ]
  },
  {
   "cell_type": "code",
   "execution_count": 9,
   "id": "9ce7657f",
   "metadata": {},
   "outputs": [],
   "source": [
    "model = load_model(\"default_model.h5\")"
   ]
  },
  {
   "cell_type": "code",
   "execution_count": 10,
   "id": "831496fb",
   "metadata": {},
   "outputs": [],
   "source": [
    "# save the history of train_loss, train_acc, validation_loss, validation_acc for epochs\n",
    "training_loss=history.history['loss']\n",
    "training_accuracy=history.history['accuracy']\n",
    "validation_loss=history.history['val_loss']\n",
    "validation_accuracy=history.history['val_accuracy']"
   ]
  },
  {
   "cell_type": "code",
   "execution_count": 11,
   "id": "e2cda64c",
   "metadata": {},
   "outputs": [
    {
     "data": {
      "image/png": "[encoded data removed]",
      "text/plain": [
       "<Figure size 432x288 with 1 Axes>"
      ]
     },
     "metadata": {
      "needs_background": "light"
     },
     "output_type": "display_data"
    }
   ],
   "source": [
    "# plot the history of train_loss, validation_loss across epochs\n",
    "plt.title(\"Loss\")\n",
    "plt.plot(history.history['loss'], 'r', label='Training loss')\n",
    "plt.plot(history.history['val_loss'], 'b', label='Validation loss')\n",
    "plt.legend()\n",
    "plt.show()"
   ]
  },
  {
   "cell_type": "code",
   "execution_count": 12,
   "id": "cb9545d8",
   "metadata": {},
   "outputs": [
    {
     "data": {
      "image/png": "[encoded data removed]",
      "text/plain": [
       "<Figure size 432x288 with 1 Axes>"
      ]
     },
     "metadata": {
      "needs_background": "light"
     },
     "output_type": "display_data"
    }
   ],
   "source": [
    "# plot the history of train_accuracy, validation_accuracy across epochs\n",
    "plt.title(\"Accuracy\")\n",
    "plt.plot(history.history['accuracy'], 'r', label='Training accuracy')\n",
    "plt.plot(history.history['val_accuracy'], 'b', label='Validation accuracy')\n",
    "plt.legend()\n",
    "plt.show()"
   ]
  },
  {
   "cell_type": "markdown",
   "id": "5a691e79",
   "metadata": {},
   "source": [
    "## **Task4: Evaluate the trained CNN model on test data. Print classification results. [1 point]** <a class=\"anchor\" id=\"Task4\"></a>"
   ]
  },
  {
   "cell_type": "code",
   "execution_count": 13,
   "id": "00545199",
   "metadata": {},
   "outputs": [
    {
     "name": "stdout",
     "output_type": "stream",
     "text": [
      "Test Loss: 4.41\n",
      "Test Accuracy: 9.59%\n"
     ]
    }
   ],
   "source": [
    "# evaluate the trained model and predict using the model\n",
    "result = model.evaluate(testing_data, verbose=0)\n",
    "\n",
    "print(\"Test Loss: {:.2f}\".format(result[0]))\n",
    "print(\"Test Accuracy: {:.2f}%\".format(result[1] * 100))"
   ]
  },
  {
   "cell_type": "code",
   "execution_count": 14,
   "id": "86371b1c",
   "metadata": {},
   "outputs": [],
   "source": [
    "# decode the predicted labels\n",
    "\n",
    "labels = (testing_data.class_indices)\n",
    "labels = dict((v,k) for k,v in labels.items())\n",
    "\n",
    "y_pred=[]\n",
    "for i in range (testing_data.n):\n",
    "    test_image = image.load_img(testing_data.filepaths[i], target_size = (224, 224))\n",
    "    test_image = image.img_to_array(test_image)\n",
    "    test_image = np.expand_dims(test_image, axis = 0)\n",
    "    predicted = model.predict(test_image)\n",
    "    predicted = np.argmax(predicted, axis = 1)\n",
    "    y_pred.append(predicted[0])\n",
    "\n",
    "y_test = testing_data.labels"
   ]
  },
  {
   "cell_type": "code",
   "execution_count": 15,
   "id": "6f3dee54",
   "metadata": {},
   "outputs": [
    {
     "name": "stdout",
     "output_type": "stream",
     "text": [
      "              precision    recall  f1-score   support\n",
      "\n",
      "           0       0.00      0.00      0.00         5\n",
      "           1       0.00      0.00      0.00         5\n",
      "           2       0.00      0.00      0.00         5\n",
      "           3       0.00      0.00      0.00         5\n",
      "           4       0.00      0.00      0.00         5\n",
      "           5       0.00      0.00      0.00         5\n",
      "           6       0.00      0.00      0.00         5\n",
      "           7       0.08      0.20      0.11         5\n",
      "           8       0.00      0.00      0.00         5\n",
      "           9       0.00      0.00      0.00         5\n",
      "          10       0.00      0.00      0.00         5\n",
      "          11       0.00      0.00      0.00         5\n",
      "          12       0.25      0.60      0.35         5\n",
      "          13       0.27      0.60      0.37         5\n",
      "          14       0.25      0.40      0.31         5\n",
      "          15       0.20      0.20      0.20         5\n",
      "          16       0.25      0.20      0.22         5\n",
      "          17       0.25      0.20      0.22         5\n",
      "          18       0.00      0.00      0.00         5\n",
      "          19       0.00      0.00      0.00         5\n",
      "          20       0.50      0.40      0.44         5\n",
      "          21       0.14      0.20      0.17         5\n",
      "          22       0.50      0.40      0.44         5\n",
      "          23       0.00      0.00      0.00         5\n",
      "          24       0.14      0.60      0.22         5\n",
      "          25       0.00      0.00      0.00         5\n",
      "          26       0.00      0.00      0.00         5\n",
      "          27       0.00      0.00      0.00         5\n",
      "          28       0.09      0.20      0.13         5\n",
      "          29       0.00      0.00      0.00         5\n",
      "          30       0.00      0.00      0.00         5\n",
      "          31       0.00      0.00      0.00         5\n",
      "          32       0.00      0.00      0.00         5\n",
      "          33       0.00      0.00      0.00         5\n",
      "          34       0.00      0.00      0.00         5\n",
      "          35       0.00      0.00      0.00         5\n",
      "          36       0.00      0.00      0.00         5\n",
      "          37       0.00      0.00      0.00         5\n",
      "          38       0.00      0.00      0.00         5\n",
      "          39       0.00      0.00      0.00         5\n",
      "          40       0.00      0.00      0.00         5\n",
      "          41       0.18      0.40      0.25         5\n",
      "          42       0.00      0.00      0.00         5\n",
      "          43       0.10      0.20      0.13         5\n",
      "          44       0.00      0.00      0.00         5\n",
      "          45       0.00      0.00      0.00         5\n",
      "          46       0.00      0.00      0.00         5\n",
      "          47       0.00      0.00      0.00         5\n",
      "          48       0.14      0.20      0.17         5\n",
      "          49       0.00      0.00      0.00         5\n",
      "          50       0.00      0.00      0.00         5\n",
      "          51       0.00      0.00      0.00         5\n",
      "          52       0.00      0.00      0.00         5\n",
      "          53       0.00      0.00      0.00         5\n",
      "          54       0.33      0.20      0.25         5\n",
      "          55       0.00      0.00      0.00         5\n",
      "          56       0.22      0.40      0.29         5\n",
      "          57       0.17      0.20      0.18         5\n",
      "          58       0.07      0.20      0.11         5\n",
      "          59       0.00      0.00      0.00         5\n",
      "          60       0.00      0.00      0.00         5\n",
      "          61       0.17      0.20      0.18         5\n",
      "          62       0.12      0.20      0.15         5\n",
      "          63       0.00      0.00      0.00         5\n",
      "          64       0.00      0.00      0.00         5\n",
      "          65       0.00      0.00      0.00         5\n",
      "          66       0.00      0.00      0.00         5\n",
      "          67       0.09      0.20      0.13         5\n",
      "          68       0.00      0.00      0.00         5\n",
      "          69       0.20      0.20      0.20         5\n",
      "          70       0.50      0.20      0.29         5\n",
      "          71       0.00      0.00      0.00         5\n",
      "          72       0.00      0.00      0.00         5\n",
      "\n",
      "    accuracy                           0.10       365\n",
      "   macro avg       0.07      0.10      0.08       365\n",
      "weighted avg       0.07      0.10      0.08       365\n",
      "\n"
     ]
    }
   ],
   "source": [
    "# print the classification report for the default model\n",
    "print(classification_report(y_test, y_pred))"
   ]
  },
  {
   "cell_type": "code",
   "execution_count": 16,
   "id": "543e71bc",
   "metadata": {},
   "outputs": [],
   "source": [
    "# store the precision and recall obtained with this default model\n",
    "precision, recall, _, _ = precision_recall_fscore_support(y_test, y_pred, average='macro')"
   ]
  },
  {
   "cell_type": "markdown",
   "id": "8046b182",
   "metadata": {},
   "source": [
    "## **Task5: Can you try to make changes in anyway in the CNN model and improve your test accuracy? Let's call the model constructed as per step-2 above as 'default' and the improvement as 'improved' model. Plot precision and recall for default and improved model in a single bar plot. [3 points]** <a class=\"anchor\" id=\"Task5\"></a>"
   ]
  },
  {
   "cell_type": "code",
   "execution_count": 17,
   "id": "8b3a597d",
   "metadata": {},
   "outputs": [],
   "source": [
    "es  = EarlyStopping(monitor='val_accuracy', mode='max', verbose=1, patience=5)\n",
    "ckpt= ModelCheckpoint(\"improved_model.h5\", monitor='val_accuracy', verbose=1, save_best_only=True, mode='max')"
   ]
  },
  {
   "cell_type": "code",
   "execution_count": 18,
   "id": "0406bbb7",
   "metadata": {},
   "outputs": [],
   "source": [
    "# lets transfer learning from VGG16 model \n",
    "base_model = keras.applications.VGG16(input_shape=(224,224,3), weights='imagenet', include_top=False)\n",
    "\n",
    "# Top Model Block\n",
    "x = base_model.output\n",
    "x = layers.Flatten()(x)\n",
    "predictions = Dense(training_data.num_classes, activation='softmax')(x)\n",
    "\n",
    "# add top layer block to base model\n",
    "improved_model = Model(base_model.input, predictions)\n",
    "\n",
    "# skip re-training base layers\n",
    "for layer in base_model.layers:\n",
    "    layer.trainable = False\n",
    "\n",
    "# compile the model\n",
    "improved_model.compile(optimizer='Adam',loss='categorical_crossentropy',metrics=['accuracy'])"
   ]
  },
  {
   "cell_type": "code",
   "execution_count": 19,
   "id": "70c223a9",
   "metadata": {},
   "outputs": [
    {
     "name": "stdout",
     "output_type": "stream",
     "text": [
      "Model: \"model\"\n",
      "_________________________________________________________________\n",
      "Layer (type)                 Output Shape              Param #   \n",
      "=================================================================\n",
      "input_1 (InputLayer)         [(None, 224, 224, 3)]     0         \n",
      "_________________________________________________________________\n",
      "block1_conv1 (Conv2D)        (None, 224, 224, 64)      1792      \n",
      "_________________________________________________________________\n",
      "block1_conv2 (Conv2D)        (None, 224, 224, 64)      36928     \n",
      "_________________________________________________________________\n",
      "block1_pool (MaxPooling2D)   (None, 112, 112, 64)      0         \n",
      "_________________________________________________________________\n",
      "block2_conv1 (Conv2D)        (None, 112, 112, 128)     73856     \n",
      "_________________________________________________________________\n",
      "block2_conv2 (Conv2D)        (None, 112, 112, 128)     147584    \n",
      "_________________________________________________________________\n",
      "block2_pool (MaxPooling2D)   (None, 56, 56, 128)       0         \n",
      "_________________________________________________________________\n",
      "block3_conv1 (Conv2D)        (None, 56, 56, 256)       295168    \n",
      "_________________________________________________________________\n",
      "block3_conv2 (Conv2D)        (None, 56, 56, 256)       590080    \n",
      "_________________________________________________________________\n",
      "block3_conv3 (Conv2D)        (None, 56, 56, 256)       590080    \n",
      "_________________________________________________________________\n",
      "block3_pool (MaxPooling2D)   (None, 28, 28, 256)       0         \n",
      "_________________________________________________________________\n",
      "block4_conv1 (Conv2D)        (None, 28, 28, 512)       1180160   \n",
      "_________________________________________________________________\n",
      "block4_conv2 (Conv2D)        (None, 28, 28, 512)       2359808   \n",
      "_________________________________________________________________\n",
      "block4_conv3 (Conv2D)        (None, 28, 28, 512)       2359808   \n",
      "_________________________________________________________________\n",
      "block4_pool (MaxPooling2D)   (None, 14, 14, 512)       0         \n",
      "_________________________________________________________________\n",
      "block5_conv1 (Conv2D)        (None, 14, 14, 512)       2359808   \n",
      "_________________________________________________________________\n",
      "block5_conv2 (Conv2D)        (None, 14, 14, 512)       2359808   \n",
      "_________________________________________________________________\n",
      "block5_conv3 (Conv2D)        (None, 14, 14, 512)       2359808   \n",
      "_________________________________________________________________\n",
      "block5_pool (MaxPooling2D)   (None, 7, 7, 512)         0         \n",
      "_________________________________________________________________\n",
      "flatten_1 (Flatten)          (None, 25088)             0         \n",
      "_________________________________________________________________\n",
      "dense_2 (Dense)              (None, 73)                1831497   \n",
      "=================================================================\n",
      "Total params: 16,546,185\n",
      "Trainable params: 1,831,497\n",
      "Non-trainable params: 14,714,688\n",
      "_________________________________________________________________\n"
     ]
    }
   ],
   "source": [
    "# display model summary\n",
    "improved_model.summary()"
   ]
  },
  {
   "cell_type": "code",
   "execution_count": 20,
   "id": "b15f177a",
   "metadata": {},
   "outputs": [
    {
     "name": "stdout",
     "output_type": "stream",
     "text": [
      "Epoch 1/50\n",
      "326/326 [==============================] - 985s 3s/step - loss: 24.7016 - accuracy: 0.6029 - val_loss: 14.1384 - val_accuracy: 0.7973\n",
      "\n",
      "Epoch 00001: val_accuracy improved from -inf to 0.79726, saving model to improved_model.h5\n",
      "Epoch 2/50\n",
      "326/326 [==============================] - 964s 3s/step - loss: 4.2909 - accuracy: 0.9230 - val_loss: 13.5021 - val_accuracy: 0.8219\n",
      "\n",
      "Epoch 00002: val_accuracy improved from 0.79726 to 0.82192, saving model to improved_model.h5\n",
      "Epoch 3/50\n",
      "326/326 [==============================] - 986s 3s/step - loss: 2.1237 - accuracy: 0.9589 - val_loss: 14.8459 - val_accuracy: 0.8411\n",
      "\n",
      "Epoch 00003: val_accuracy improved from 0.82192 to 0.84110, saving model to improved_model.h5\n",
      "Epoch 4/50\n",
      "326/326 [==============================] - 1053s 3s/step - loss: 1.8020 - accuracy: 0.9691 - val_loss: 14.2012 - val_accuracy: 0.8521\n",
      "\n",
      "Epoch 00004: val_accuracy improved from 0.84110 to 0.85205, saving model to improved_model.h5\n",
      "Epoch 5/50\n",
      "326/326 [==============================] - 1040s 3s/step - loss: 1.7206 - accuracy: 0.9750 - val_loss: 19.7207 - val_accuracy: 0.7781\n",
      "\n",
      "Epoch 00005: val_accuracy did not improve from 0.85205\n",
      "Epoch 6/50\n",
      "326/326 [==============================] - 1222s 4s/step - loss: 2.2389 - accuracy: 0.9681 - val_loss: 22.5164 - val_accuracy: 0.8192\n",
      "\n",
      "Epoch 00006: val_accuracy did not improve from 0.85205\n",
      "Epoch 7/50\n",
      "326/326 [==============================] - 1054s 3s/step - loss: 1.8316 - accuracy: 0.9733 - val_loss: 23.1818 - val_accuracy: 0.8274\n",
      "\n",
      "Epoch 00007: val_accuracy did not improve from 0.85205\n",
      "Epoch 8/50\n",
      "326/326 [==============================] - 1083s 3s/step - loss: 2.0618 - accuracy: 0.9760 - val_loss: 29.0626 - val_accuracy: 0.8301\n",
      "\n",
      "Epoch 00008: val_accuracy did not improve from 0.85205\n",
      "Epoch 9/50\n",
      "326/326 [==============================] - 1030s 3s/step - loss: 2.0356 - accuracy: 0.9773 - val_loss: 29.1068 - val_accuracy: 0.8329\n",
      "\n",
      "Epoch 00009: val_accuracy did not improve from 0.85205\n",
      "Epoch 00009: early stopping\n"
     ]
    }
   ],
   "source": [
    "improved_history = improved_model.fit(\n",
    "    training_data,\n",
    "    validation_data=validation_data,\n",
    "    epochs=EPOCHS,\n",
    "    callbacks =[es, ckpt],\n",
    ")"
   ]
  },
  {
   "cell_type": "code",
   "execution_count": 21,
   "id": "a5f9de22",
   "metadata": {},
   "outputs": [],
   "source": [
    "improved_model = load_model(\"improved_model.h5\")"
   ]
  },
  {
   "cell_type": "code",
   "execution_count": 22,
   "id": "550e2815",
   "metadata": {},
   "outputs": [
    {
     "data": {
      "image/png": "[encoded data removed]",
      "text/plain": [
       "<Figure size 432x288 with 1 Axes>"
      ]
     },
     "metadata": {
      "needs_background": "light"
     },
     "output_type": "display_data"
    }
   ],
   "source": [
    "# plot the history of train_loss, validation_loss across epochs\n",
    "plt.title(\"Loss\")\n",
    "plt.plot(improved_history.history['loss'], 'r', label='Training loss')\n",
    "plt.plot(improved_history.history['val_loss'], 'b', label='Validation loss')\n",
    "plt.legend()\n",
    "plt.show()"
   ]
  },
  {
   "cell_type": "code",
   "execution_count": 23,
   "id": "95ee7883",
   "metadata": {},
   "outputs": [
    {
     "data": {
      "image/png": "[encoded data removed]",
      "text/plain": [
       "<Figure size 432x288 with 1 Axes>"
      ]
     },
     "metadata": {
      "needs_background": "light"
     },
     "output_type": "display_data"
    }
   ],
   "source": [
    "# plot the history of train_accuracy, validation_accuracy across epochs\n",
    "plt.title(\"Accuracy\")\n",
    "plt.plot(improved_history.history['accuracy'], 'r', label='Training accuracy')\n",
    "plt.plot(improved_history.history['val_accuracy'], 'b', label='Validation accuracy')\n",
    "plt.legend()\n",
    "plt.show()"
   ]
  },
  {
   "cell_type": "code",
   "execution_count": 24,
   "id": "7422e973",
   "metadata": {},
   "outputs": [
    {
     "name": "stdout",
     "output_type": "stream",
     "text": [
      "Test Loss: 12.00\n",
      "Test Accuracy: 85.21%\n"
     ]
    }
   ],
   "source": [
    "# evaluate the trained model and predict using the model\n",
    "result = improved_model.evaluate(testing_data, verbose=0)\n",
    "\n",
    "print(\"Test Loss: {:.2f}\".format(result[0]))\n",
    "print(\"Test Accuracy: {:.2f}%\".format(result[1] * 100))"
   ]
  },
  {
   "cell_type": "code",
   "execution_count": 25,
   "id": "1c55f7c2",
   "metadata": {},
   "outputs": [],
   "source": [
    "# decode the predicted labels\n",
    "\n",
    "labels = (testing_data.class_indices)\n",
    "labels = dict((v,k) for k,v in labels.items())\n",
    "\n",
    "y_pred=[]\n",
    "for i in range (testing_data.n):\n",
    "    test_image = image.load_img(testing_data.filepaths[i], target_size = (224, 224))\n",
    "    test_image = image.img_to_array(test_image)\n",
    "    test_image = np.expand_dims(test_image, axis = 0)\n",
    "    predicted = improved_model.predict(test_image)\n",
    "    predicted = np.argmax(predicted, axis = 1)\n",
    "    y_pred.append(predicted[0])\n",
    "\n",
    "y_test = testing_data.labels"
   ]
  },
  {
   "cell_type": "code",
   "execution_count": 26,
   "id": "161f7d59",
   "metadata": {},
   "outputs": [
    {
     "name": "stdout",
     "output_type": "stream",
     "text": [
      "              precision    recall  f1-score   support\n",
      "\n",
      "           0       1.00      1.00      1.00         5\n",
      "           1       1.00      0.80      0.89         5\n",
      "           2       1.00      1.00      1.00         5\n",
      "           3       1.00      1.00      1.00         5\n",
      "           4       1.00      0.60      0.75         5\n",
      "           5       1.00      1.00      1.00         5\n",
      "           6       0.50      0.40      0.44         5\n",
      "           7       0.62      1.00      0.77         5\n",
      "           8       1.00      1.00      1.00         5\n",
      "           9       1.00      0.60      0.75         5\n",
      "          10       0.62      1.00      0.77         5\n",
      "          11       1.00      0.60      0.75         5\n",
      "          12       1.00      0.80      0.89         5\n",
      "          13       1.00      1.00      1.00         5\n",
      "          14       1.00      1.00      1.00         5\n",
      "          15       0.83      1.00      0.91         5\n",
      "          16       0.83      1.00      0.91         5\n",
      "          17       1.00      1.00      1.00         5\n",
      "          18       1.00      0.80      0.89         5\n",
      "          19       1.00      1.00      1.00         5\n",
      "          20       1.00      0.80      0.89         5\n",
      "          21       1.00      0.80      0.89         5\n",
      "          22       0.71      1.00      0.83         5\n",
      "          23       0.75      0.60      0.67         5\n",
      "          24       1.00      0.60      0.75         5\n",
      "          25       0.80      0.80      0.80         5\n",
      "          26       0.83      1.00      0.91         5\n",
      "          27       0.75      0.60      0.67         5\n",
      "          28       1.00      0.80      0.89         5\n",
      "          29       1.00      1.00      1.00         5\n",
      "          30       0.56      1.00      0.71         5\n",
      "          31       1.00      1.00      1.00         5\n",
      "          32       1.00      0.80      0.89         5\n",
      "          33       1.00      1.00      1.00         5\n",
      "          34       1.00      0.80      0.89         5\n",
      "          35       0.67      0.80      0.73         5\n",
      "          36       1.00      0.80      0.89         5\n",
      "          37       0.71      1.00      0.83         5\n",
      "          38       0.71      1.00      0.83         5\n",
      "          39       0.71      1.00      0.83         5\n",
      "          40       1.00      0.80      0.89         5\n",
      "          41       1.00      1.00      1.00         5\n",
      "          42       0.71      1.00      0.83         5\n",
      "          43       1.00      0.80      0.89         5\n",
      "          44       1.00      0.40      0.57         5\n",
      "          45       1.00      0.20      0.33         5\n",
      "          46       1.00      1.00      1.00         5\n",
      "          47       0.80      0.80      0.80         5\n",
      "          48       0.80      0.80      0.80         5\n",
      "          49       0.75      0.60      0.67         5\n",
      "          50       0.62      1.00      0.77         5\n",
      "          51       1.00      1.00      1.00         5\n",
      "          52       1.00      0.60      0.75         5\n",
      "          53       1.00      0.80      0.89         5\n",
      "          54       1.00      1.00      1.00         5\n",
      "          55       0.83      1.00      0.91         5\n",
      "          56       1.00      1.00      1.00         5\n",
      "          57       1.00      0.60      0.75         5\n",
      "          58       1.00      0.80      0.89         5\n",
      "          59       1.00      0.60      0.75         5\n",
      "          60       1.00      0.80      0.89         5\n",
      "          61       1.00      0.60      0.75         5\n",
      "          62       0.67      0.80      0.73         5\n",
      "          63       0.67      0.80      0.73         5\n",
      "          64       1.00      0.60      0.75         5\n",
      "          65       0.83      1.00      0.91         5\n",
      "          66       1.00      1.00      1.00         5\n",
      "          67       0.62      1.00      0.77         5\n",
      "          68       0.56      1.00      0.71         5\n",
      "          69       0.71      1.00      0.83         5\n",
      "          70       0.71      1.00      0.83         5\n",
      "          71       1.00      1.00      1.00         5\n",
      "          72       0.83      1.00      0.91         5\n",
      "\n",
      "    accuracy                           0.85       365\n",
      "   macro avg       0.89      0.85      0.85       365\n",
      "weighted avg       0.89      0.85      0.85       365\n",
      "\n"
     ]
    }
   ],
   "source": [
    "# print the classification report for the improved model\n",
    "print(classification_report(y_test, y_pred))"
   ]
  },
  {
   "cell_type": "code",
   "execution_count": 27,
   "id": "ce8bef07",
   "metadata": {},
   "outputs": [],
   "source": [
    "# store the precision and recall obtained with this improved model\n",
    "improved_precision, improved_recall, _, _ = precision_recall_fscore_support(y_test, y_pred, average='macro')"
   ]
  },
  {
   "cell_type": "code",
   "execution_count": 28,
   "id": "7965ae41",
   "metadata": {},
   "outputs": [
    {
     "data": {
      "image/png": "[encoded data removed]",
      "text/plain": [
       "<Figure size 432x288 with 1 Axes>"
      ]
     },
     "metadata": {
      "needs_background": "light"
     },
     "output_type": "display_data"
    }
   ],
   "source": [
    "# compare the precision and recall parameters obtained in the default and the improved models\n",
    "data = {\"default\":[precision, recall], \"improved\":[improved_precision, improved_recall]}\n",
    "df = pd.DataFrame(data=data, index=[\"precisions\", \"recalls\"]);\n",
    "df.plot.bar(rot=45, title=\"Default vs Improved CNN Precision and Recall\");\n",
    "plt.show();"
   ]
  },
  {
   "cell_type": "code",
   "execution_count": 29,
   "id": "9ddaba32",
   "metadata": {},
   "outputs": [],
   "source": [
    "# clearly the improved model (using transfer learning) outperforms the default model! "
   ]
  }
 ],
 "metadata": {
  "kernelspec": {
   "display_name": "Python 3",
   "language": "python",
   "name": "python3"
  },
  "language_info": {
   "codemirror_mode": {
    "name": "ipython",
    "version": 3
   },
   "file_extension": ".py",
   "mimetype": "text/x-python",
   "name": "python",
   "nbconvert_exporter": "python",
   "pygments_lexer": "ipython3",
   "version": "3.8.3"
  },
  "papermill": {
   "default_parameters": {},
   "duration": 37.664697,
   "end_time": "2021-06-06T14:50:18.969887",
   "environment_variables": {},
   "exception": null,
   "input_path": "__notebook__.ipynb",
   "output_path": "__notebook__.ipynb",
   "parameters": {},
   "start_time": "2021-06-06T14:49:41.305190",
   "version": "2.3.3"
  }
 },
 "nbformat": 4,
 "nbformat_minor": 5
}
