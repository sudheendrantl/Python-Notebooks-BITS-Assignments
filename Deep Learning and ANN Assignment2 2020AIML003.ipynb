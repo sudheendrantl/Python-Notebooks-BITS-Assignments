{
 "cells": [
  {
   "cell_type": "markdown",
   "id": "adverse-victor",
   "metadata": {},
   "source": [
    "# <a class=\"anchor\" id=\"0\"></a>\n",
    "# Deep Learning and ANN Assignment2\n",
    "# Student ID/Name - 2020AIML003 / Sudheendran T L"
   ]
  },
  {
   "cell_type": "markdown",
   "id": "together-bathroom",
   "metadata": {},
   "source": [
    "---\n",
    "<a class=\"anchor\" id=\"0.1\"></a>\n",
    "# **Table of Contents**\n",
    "\n",
    "[Import Libraries](#1)  \n",
    "\n",
    "[Task1: Load the images in appropriate data structures in your program, ready to be passed as input to the model for training. Consider input image size to be 224x224x3. [2 points]](#Task1)  \n",
    "\n",
    "[Task2: Configure the CNN model (use keras tensorflow), an indicative (minimal) configuration is as below. Take activation function (A)=relu. Feel free to use standard values for anything that is not mentioned (eg, take pool size 2x2, filter size 3x3, and so on). [3 points]](#Task2)  \n",
    "\n",
    "[Task3: Train the CNN model for E epoch (take E=50), save the train_loss, train_acc, validation_loss, validation_acc for each epoch and plot it after training has finished. [3 points]](#Task3)  \n",
    "\n",
    "[Task4: Evaluate the trained CNN model on test data. Print classification results. [1 point]](#Task4)  \n",
    "\n",
    "[Task5: Can you try to make changes in anyway in the CNN model and improve your test accuracy? Let's call the model constructed as per step-2 above as 'default' and the improvement as 'improved' model. Plot precision and recall for default and improved model in a single bar plot. [3 points]](#Task5)  \n",
    "\n",
    "[References](#2)  \n",
    "\n",
    "---"
   ]
  },
  {
   "cell_type": "markdown",
   "id": "industrial-ordinance",
   "metadata": {},
   "source": [
    "## **Import Libraries** <a class=\"anchor\" id=\"1\"></a>"
   ]
  },
  {
   "cell_type": "code",
   "execution_count": 31,
   "id": "central-prayer",
   "metadata": {
    "papermill": {
     "duration": 2.151517,
     "end_time": "2021-06-06T14:50:02.251859",
     "exception": false,
     "start_time": "2021-06-06T14:50:00.100342",
     "status": "completed"
    },
    "tags": []
   },
   "outputs": [],
   "source": [
    "import matplotlib.pyplot as plt\n",
    "import numpy as np\n",
    "import pandas as pd\n",
    "import seaborn as sns\n",
    "import tensorflow as tf\n",
    "\n",
    "from keras.preprocessing.image import ImageDataGenerator\n",
    "\n",
    "from sklearn.metrics import classification_report\n",
    "\n",
    "from tensorflow.keras import models\n",
    "from tensorflow.keras import layers"
   ]
  },
  {
   "cell_type": "markdown",
   "id": "2bda54f4",
   "metadata": {},
   "source": [
    "## **Task1: Load the images in appropriate data structures in your program, ready to be passed as input to the model for training. Consider input image size to be 224x224x3. [2 points]** <a class=\"anchor\" id=\"Task1\"></a>"
   ]
  },
  {
   "cell_type": "code",
   "execution_count": 32,
   "id": "de84bd2c",
   "metadata": {},
   "outputs": [],
   "source": [
    "filepaths_train = 'Sports_Dataset/archive/train'\n",
    "filepaths_test = 'Sports_Dataset/archive/test'"
   ]
  },
  {
   "cell_type": "code",
   "execution_count": 33,
   "id": "a66867a6-bffa-44b6-b51a-9e68708ae787",
   "metadata": {},
   "outputs": [
    {
     "name": "stdout",
     "output_type": "stream",
     "text": [
      "Found 10416 images belonging to 73 classes.\n",
      "Found 365 images belonging to 73 classes.\n"
     ]
    }
   ],
   "source": [
    "# the color_mode is set as 'rgb', though is the default value, explicitly to make sure it is a 224x224x3 image (image with 3 RGB channels, as per the assignment requirement)\n",
    "# if for eg. the color_mode is set as 'grayscale', it will make it as a 224x224x1 image (b/w image)\n",
    "training_data = ImageDataGenerator().flow_from_directory(filepaths_train, target_size = (224,224), color_mode='rgb', batch_size = 32, class_mode = 'categorical')\n",
    "test_data = ImageDataGenerator().flow_from_directory(filepaths_test, target_size = (224,224), color_mode='rgb', batch_size = 32, class_mode = 'categorical')"
   ]
  },
  {
   "cell_type": "markdown",
   "id": "61313804",
   "metadata": {},
   "source": [
    "## **Task2: Configure the CNN model (use keras tensorflow), an indicative (minimal) configuration is as below. Take activation function (A)=relu. Feel free to use standard values for anything that is not mentioned (eg, take pool size 2x2, filter size 3x3, and so on). [3 points]** <a class=\"anchor\" id=\"Task2\"></a>"
   ]
  },
  {
   "cell_type": "code",
   "execution_count": 41,
   "id": "8efcca77",
   "metadata": {},
   "outputs": [
    {
     "name": "stdout",
     "output_type": "stream",
     "text": [
      "Model: \"sequential_8\"\n",
      "_________________________________________________________________\n",
      "Layer (type)                 Output Shape              Param #   \n",
      "=================================================================\n",
      "conv2d_24 (Conv2D)           (None, 222, 222, 256)     7168      \n",
      "_________________________________________________________________\n",
      "max_pooling2d_16 (MaxPooling (None, 111, 111, 256)     0         \n",
      "_________________________________________________________________\n",
      "conv2d_25 (Conv2D)           (None, 109, 109, 128)     295040    \n",
      "_________________________________________________________________\n",
      "flatten_7 (Flatten)          (None, 1520768)           0         \n",
      "_________________________________________________________________\n",
      "dense_17 (Dense)             (None, 73)                111016137 \n",
      "=================================================================\n",
      "Total params: 111,318,345\n",
      "Trainable params: 111,318,345\n",
      "Non-trainable params: 0\n",
      "_________________________________________________________________\n"
     ]
    }
   ],
   "source": [
    "model = models.Sequential()\n",
    "model.add(layers.Conv2D(256, (3,3), activation=\"relu\", input_shape=(224,224,3) ))\n",
    "model.add(layers.MaxPooling2D((2,2)))\n",
    "model.add(layers.Conv2D(128, (3,3), activation=\"relu\"))\n",
    "model.add(layers.Flatten())\n",
    "model.add(layers.Dense(73, activation=\"softmax\" ))\n",
    "model.summary()"
   ]
  },
  {
   "cell_type": "code",
   "execution_count": 42,
   "id": "3e35907a",
   "metadata": {},
   "outputs": [],
   "source": [
    "model.compile(optimizer = \"adam\", loss = \"categorical_crossentropy\", metrics = [\"accuracy\"])"
   ]
  },
  {
   "cell_type": "markdown",
   "id": "3dd40375",
   "metadata": {},
   "source": [
    "## **Task3: Train the CNN model for E epoch (take E=50), save the train_loss, train_acc, validation_loss, validation_acc for each epoch and plot it after training has finished. [3 points]** <a class=\"anchor\" id=\"Task3\"></a>"
   ]
  },
  {
   "cell_type": "code",
   "execution_count": 43,
   "id": "3c3fb359",
   "metadata": {},
   "outputs": [
    {
     "name": "stdout",
     "output_type": "stream",
     "text": [
      "Epoch 1/5\n",
      "1/1 - 58s - loss: 36.9456 - accuracy: 0.0000e+00 - val_loss: 7796.6699 - val_accuracy: 0.0117\n",
      "Epoch 2/5\n",
      "1/1 - 52s - loss: 9088.4600 - accuracy: 0.0625 - val_loss: 4279.6460 - val_accuracy: 0.0156\n",
      "Epoch 3/5\n",
      "1/1 - 43s - loss: 5240.9546 - accuracy: 0.0000e+00 - val_loss: 428.6365 - val_accuracy: 0.0156\n",
      "Epoch 4/5\n",
      "1/1 - 47s - loss: 385.5013 - accuracy: 0.0000e+00 - val_loss: 15.5159 - val_accuracy: 0.0312\n",
      "Epoch 5/5\n",
      "1/1 - 48s - loss: 13.6953 - accuracy: 0.0000e+00 - val_loss: 4.6325 - val_accuracy: 0.0156\n"
     ]
    }
   ],
   "source": [
    "# Train the model\n",
    "history = model.fit(\n",
    "    training_data,\n",
    "    validation_data=test_data,\n",
    "    validation_steps=8,\n",
    "    batch_size=128,\n",
    "    steps_per_epoch=1,\n",
    "    epochs=5,\n",
    "    verbose = 2\n",
    ")"
   ]
  },
  {
   "cell_type": "markdown",
   "id": "5a691e79",
   "metadata": {},
   "source": [
    "## **Task4: Evaluate the trained CNN model on test data. Print classification results. [1 point]** <a class=\"anchor\" id=\"Task4\"></a>"
   ]
  },
  {
   "cell_type": "code",
   "execution_count": 22,
   "id": "8ef308f0-09ff-4295-b884-0d1e017323eb",
   "metadata": {},
   "outputs": [
    {
     "name": "stdout",
     "output_type": "stream",
     "text": [
      "12/12 [==============================] - 1s 70ms/step - loss: 7.9809 - accuracy: 0.0055\n",
      "[7.980931758880615, 0.005479452200233936]\n"
     ]
    }
   ],
   "source": [
    "predicted = model.predict(test_data)\n",
    "result = model.evaluate(test_data)\n",
    "print(result)"
   ]
  },
  {
   "cell_type": "code",
   "execution_count": 23,
   "id": "3b9e6cee-3af2-4550-8011-868052dd5324",
   "metadata": {},
   "outputs": [],
   "source": [
    "#print(classification_report(test_data, predicted))"
   ]
  },
  {
   "cell_type": "markdown",
   "id": "8046b182",
   "metadata": {},
   "source": [
    "## **Task5: Can you try to make changes in anyway in the CNN model and improve your test accuracy? Let's call the model constructed as per step-2 above as 'default' and the improvement as 'improved' model. Plot precision and recall for default and improved model in a single bar plot. [3 points]** <a class=\"anchor\" id=\"Task5\"></a>"
   ]
  },
  {
   "cell_type": "code",
   "execution_count": 26,
   "id": "1ee3022c",
   "metadata": {},
   "outputs": [],
   "source": [
    "#TBD"
   ]
  },
  {
   "cell_type": "markdown",
   "id": "df32fe7a",
   "metadata": {},
   "source": [
    "## **References** <a class=\"anchor\" id=\"3\"></a>\n",
    "\n",
    "1) https://drive.google.com/file/d/1XjWe1nCESkO5fBvYS6CZMqdHAWoUuWAo/view?usp=sharing\n",
    "\n",
    "2) https://bits-pilani.instructure.com/courses/988/assignments/4621\n",
    "\n",
    "3) https://keras.io/api/preprocessing/image/\n",
    "\n",
    "4) https://faroit.com/keras-docs/1.0.1/layers/convolutional/\n",
    "\n",
    "5) https://github.com/keras-team/keras/blob/master/keras/layers/convolutional.py\n",
    "\n",
    "6) https://www.tutorialspoint.com/keras/keras_convolution_neural_network.htm\n",
    "\n",
    "7) https://medium.com/ai-techsystems/sports-classification-with-cnn-d03715f7c1d3"
   ]
  },
  {
   "cell_type": "markdown",
   "id": "056d4e59",
   "metadata": {},
   "source": [
    "[Go To Top](#0)"
   ]
  }
 ],
 "metadata": {
  "kernelspec": {
   "display_name": "Python 3",
   "language": "python",
   "name": "python3"
  },
  "language_info": {
   "codemirror_mode": {
    "name": "ipython",
    "version": 3
   },
   "file_extension": ".py",
   "mimetype": "text/x-python",
   "name": "python",
   "nbconvert_exporter": "python",
   "pygments_lexer": "ipython3",
   "version": "3.8.3"
  },
  "papermill": {
   "default_parameters": {},
   "duration": 37.664697,
   "end_time": "2021-06-06T14:50:18.969887",
   "environment_variables": {},
   "exception": null,
   "input_path": "__notebook__.ipynb",
   "output_path": "__notebook__.ipynb",
   "parameters": {},
   "start_time": "2021-06-06T14:49:41.305190",
   "version": "2.3.3"
  }
 },
 "nbformat": 4,
 "nbformat_minor": 5
}
